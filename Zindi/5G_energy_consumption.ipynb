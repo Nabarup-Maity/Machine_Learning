{
 "cells": [
  {
   "cell_type": "code",
   "execution_count": 41,
   "id": "c323859d-edc9-4c20-b563-33e7a9dd17b9",
   "metadata": {},
   "outputs": [],
   "source": [
    "import pandas as pd\n",
    "import scipy.stats as st\n",
    "import seaborn as sns\n",
    "import matplotlib.pyplot as plt\n",
    "from feature_engine.selection import DropDuplicateFeatures, DropConstantFeatures, DropCorrelatedFeatures\n",
    "from sklearn.model_selection import train_test_split\n",
    "from sklearn.preprocessing import LabelEncoder, StandardScaler\n",
    "import tensorflow as tf\n",
    "from keras.models import Sequential\n",
    "from keras.layers import Dense, BatchNormalization, Dropout\n",
    "import warnings\n",
    "warnings.filterwarnings('ignore')"
   ]
  },
  {
   "cell_type": "code",
   "execution_count": 2,
   "id": "ec7689aa-727f-4375-8e12-7e0b6bfe7f83",
   "metadata": {},
   "outputs": [],
   "source": [
    "base_station_info = pd.read_csv('Base Station basic information.csv')\n",
    "cell_level_data = pd.read_csv('Cell-level data.csv')\n",
    "energy_consumption_data = pd.read_csv('Energy consumption data.csv')"
   ]
  },
  {
   "cell_type": "code",
   "execution_count": 3,
   "id": "1de9d6c8-9a54-4f58-bf67-57d678d135e8",
   "metadata": {},
   "outputs": [
    {
     "name": "stdout",
     "output_type": "stream",
     "text": [
      "Size of base_station_info (1217, 8)\n",
      "Size of cell_level_data (125575, 10)\n",
      "Size of energy_consumption_data (92629, 3)\n"
     ]
    }
   ],
   "source": [
    "print('Size of base_station_info', base_station_info.shape)\n",
    "print('Size of cell_level_data', cell_level_data.shape)\n",
    "print('Size of energy_consumption_data', energy_consumption_data.shape)"
   ]
  },
  {
   "cell_type": "code",
   "execution_count": 4,
   "id": "6a0d6596-3bb1-44e3-817c-381ddd687517",
   "metadata": {},
   "outputs": [
    {
     "name": "stdout",
     "output_type": "stream",
     "text": [
      "Duplicate of base_station_info 0\n",
      "Duplicate of cell_level_data 0\n",
      "Duplicate of energy_consumption_data 0\n"
     ]
    }
   ],
   "source": [
    "print('Duplicate of base_station_info', base_station_info.duplicated().sum())\n",
    "print('Duplicate of cell_level_data', cell_level_data.duplicated().sum())\n",
    "print('Duplicate of energy_consumption_data', energy_consumption_data.duplicated().sum())"
   ]
  },
  {
   "cell_type": "code",
   "execution_count": 5,
   "id": "1b038f9f-214c-4892-b83a-7c281472ee86",
   "metadata": {},
   "outputs": [
    {
     "data": {
      "text/html": [
       "<div>\n",
       "<style scoped>\n",
       "    .dataframe tbody tr th:only-of-type {\n",
       "        vertical-align: middle;\n",
       "    }\n",
       "\n",
       "    .dataframe tbody tr th {\n",
       "        vertical-align: top;\n",
       "    }\n",
       "\n",
       "    .dataframe thead th {\n",
       "        text-align: right;\n",
       "    }\n",
       "</style>\n",
       "<table border=\"1\" class=\"dataframe\">\n",
       "  <thead>\n",
       "    <tr style=\"text-align: right;\">\n",
       "      <th></th>\n",
       "      <th>BS</th>\n",
       "      <th>CellName</th>\n",
       "      <th>RUType</th>\n",
       "      <th>Mode</th>\n",
       "      <th>Frequency</th>\n",
       "      <th>Bandwidth</th>\n",
       "      <th>Antennas</th>\n",
       "      <th>TXpower</th>\n",
       "    </tr>\n",
       "  </thead>\n",
       "  <tbody>\n",
       "    <tr>\n",
       "      <th>273</th>\n",
       "      <td>B_273</td>\n",
       "      <td>Cell0</td>\n",
       "      <td>Type4</td>\n",
       "      <td>Mode2</td>\n",
       "      <td>532.0</td>\n",
       "      <td>20</td>\n",
       "      <td>2</td>\n",
       "      <td>6.875934</td>\n",
       "    </tr>\n",
       "    <tr>\n",
       "      <th>236</th>\n",
       "      <td>B_236</td>\n",
       "      <td>Cell0</td>\n",
       "      <td>Type1</td>\n",
       "      <td>Mode2</td>\n",
       "      <td>365.0</td>\n",
       "      <td>20</td>\n",
       "      <td>2</td>\n",
       "      <td>6.875934</td>\n",
       "    </tr>\n",
       "    <tr>\n",
       "      <th>357</th>\n",
       "      <td>B_357</td>\n",
       "      <td>Cell0</td>\n",
       "      <td>Type1</td>\n",
       "      <td>Mode2</td>\n",
       "      <td>365.0</td>\n",
       "      <td>20</td>\n",
       "      <td>2</td>\n",
       "      <td>6.875934</td>\n",
       "    </tr>\n",
       "    <tr>\n",
       "      <th>1193</th>\n",
       "      <td>B_745</td>\n",
       "      <td>Cell1</td>\n",
       "      <td>Type1</td>\n",
       "      <td>Mode2</td>\n",
       "      <td>365.0</td>\n",
       "      <td>20</td>\n",
       "      <td>2</td>\n",
       "      <td>6.875934</td>\n",
       "    </tr>\n",
       "    <tr>\n",
       "      <th>626</th>\n",
       "      <td>B_626</td>\n",
       "      <td>Cell0</td>\n",
       "      <td>Type1</td>\n",
       "      <td>Mode2</td>\n",
       "      <td>365.0</td>\n",
       "      <td>20</td>\n",
       "      <td>2</td>\n",
       "      <td>6.875934</td>\n",
       "    </tr>\n",
       "  </tbody>\n",
       "</table>\n",
       "</div>"
      ],
      "text/plain": [
       "         BS CellName RUType   Mode  Frequency  Bandwidth  Antennas   TXpower\n",
       "273   B_273    Cell0  Type4  Mode2      532.0         20         2  6.875934\n",
       "236   B_236    Cell0  Type1  Mode2      365.0         20         2  6.875934\n",
       "357   B_357    Cell0  Type1  Mode2      365.0         20         2  6.875934\n",
       "1193  B_745    Cell1  Type1  Mode2      365.0         20         2  6.875934\n",
       "626   B_626    Cell0  Type1  Mode2      365.0         20         2  6.875934"
      ]
     },
     "execution_count": 5,
     "metadata": {},
     "output_type": "execute_result"
    }
   ],
   "source": [
    "base_station_info.sample(5)"
   ]
  },
  {
   "cell_type": "code",
   "execution_count": 6,
   "id": "9c4f1b22-8447-4493-aba8-7d9d0ca07040",
   "metadata": {},
   "outputs": [
    {
     "data": {
      "text/html": [
       "<div>\n",
       "<style scoped>\n",
       "    .dataframe tbody tr th:only-of-type {\n",
       "        vertical-align: middle;\n",
       "    }\n",
       "\n",
       "    .dataframe tbody tr th {\n",
       "        vertical-align: top;\n",
       "    }\n",
       "\n",
       "    .dataframe thead th {\n",
       "        text-align: right;\n",
       "    }\n",
       "</style>\n",
       "<table border=\"1\" class=\"dataframe\">\n",
       "  <thead>\n",
       "    <tr style=\"text-align: right;\">\n",
       "      <th></th>\n",
       "      <th>Time</th>\n",
       "      <th>BS</th>\n",
       "      <th>CellName</th>\n",
       "      <th>load</th>\n",
       "      <th>ESMode1</th>\n",
       "      <th>ESMode2</th>\n",
       "      <th>ESMode3</th>\n",
       "      <th>ESMode4</th>\n",
       "      <th>ESMode5</th>\n",
       "      <th>ESMode6</th>\n",
       "    </tr>\n",
       "  </thead>\n",
       "  <tbody>\n",
       "    <tr>\n",
       "      <th>39412</th>\n",
       "      <td>1/2/2023 12:00</td>\n",
       "      <td>B_284</td>\n",
       "      <td>Cell0</td>\n",
       "      <td>0.30858</td>\n",
       "      <td>0.0</td>\n",
       "      <td>0.0</td>\n",
       "      <td>0.0</td>\n",
       "      <td>0</td>\n",
       "      <td>0.0</td>\n",
       "      <td>0.0</td>\n",
       "    </tr>\n",
       "    <tr>\n",
       "      <th>2180</th>\n",
       "      <td>1/6/2023 20:00</td>\n",
       "      <td>B_15</td>\n",
       "      <td>Cell0</td>\n",
       "      <td>0.02344</td>\n",
       "      <td>0.0</td>\n",
       "      <td>0.0</td>\n",
       "      <td>0.0</td>\n",
       "      <td>0</td>\n",
       "      <td>0.0</td>\n",
       "      <td>0.0</td>\n",
       "    </tr>\n",
       "    <tr>\n",
       "      <th>87942</th>\n",
       "      <td>1/6/2023 14:00</td>\n",
       "      <td>B_632</td>\n",
       "      <td>Cell0</td>\n",
       "      <td>0.35063</td>\n",
       "      <td>0.0</td>\n",
       "      <td>0.0</td>\n",
       "      <td>0.0</td>\n",
       "      <td>0</td>\n",
       "      <td>0.0</td>\n",
       "      <td>0.0</td>\n",
       "    </tr>\n",
       "    <tr>\n",
       "      <th>62871</th>\n",
       "      <td>1/3/2023 10:00</td>\n",
       "      <td>B_454</td>\n",
       "      <td>Cell0</td>\n",
       "      <td>0.02477</td>\n",
       "      <td>0.0</td>\n",
       "      <td>0.0</td>\n",
       "      <td>0.0</td>\n",
       "      <td>0</td>\n",
       "      <td>0.0</td>\n",
       "      <td>0.0</td>\n",
       "    </tr>\n",
       "    <tr>\n",
       "      <th>21817</th>\n",
       "      <td>1/4/2023 18:00</td>\n",
       "      <td>B_157</td>\n",
       "      <td>Cell0</td>\n",
       "      <td>0.25836</td>\n",
       "      <td>0.0</td>\n",
       "      <td>0.0</td>\n",
       "      <td>0.0</td>\n",
       "      <td>0</td>\n",
       "      <td>0.0</td>\n",
       "      <td>0.0</td>\n",
       "    </tr>\n",
       "  </tbody>\n",
       "</table>\n",
       "</div>"
      ],
      "text/plain": [
       "                 Time     BS CellName     load  ESMode1  ESMode2  ESMode3  \\\n",
       "39412  1/2/2023 12:00  B_284    Cell0  0.30858      0.0      0.0      0.0   \n",
       "2180   1/6/2023 20:00   B_15    Cell0  0.02344      0.0      0.0      0.0   \n",
       "87942  1/6/2023 14:00  B_632    Cell0  0.35063      0.0      0.0      0.0   \n",
       "62871  1/3/2023 10:00  B_454    Cell0  0.02477      0.0      0.0      0.0   \n",
       "21817  1/4/2023 18:00  B_157    Cell0  0.25836      0.0      0.0      0.0   \n",
       "\n",
       "       ESMode4  ESMode5  ESMode6  \n",
       "39412        0      0.0      0.0  \n",
       "2180         0      0.0      0.0  \n",
       "87942        0      0.0      0.0  \n",
       "62871        0      0.0      0.0  \n",
       "21817        0      0.0      0.0  "
      ]
     },
     "execution_count": 6,
     "metadata": {},
     "output_type": "execute_result"
    }
   ],
   "source": [
    "cell_level_data.sample(5)"
   ]
  },
  {
   "cell_type": "code",
   "execution_count": 7,
   "id": "3980e3bb-3c17-43dd-b173-f648d6e8b023",
   "metadata": {},
   "outputs": [
    {
     "data": {
      "text/html": [
       "<div>\n",
       "<style scoped>\n",
       "    .dataframe tbody tr th:only-of-type {\n",
       "        vertical-align: middle;\n",
       "    }\n",
       "\n",
       "    .dataframe tbody tr th {\n",
       "        vertical-align: top;\n",
       "    }\n",
       "\n",
       "    .dataframe thead th {\n",
       "        text-align: right;\n",
       "    }\n",
       "</style>\n",
       "<table border=\"1\" class=\"dataframe\">\n",
       "  <thead>\n",
       "    <tr style=\"text-align: right;\">\n",
       "      <th></th>\n",
       "      <th>Time</th>\n",
       "      <th>BS</th>\n",
       "      <th>Energy</th>\n",
       "    </tr>\n",
       "  </thead>\n",
       "  <tbody>\n",
       "    <tr>\n",
       "      <th>31263</th>\n",
       "      <td>1/2/2023 6:00</td>\n",
       "      <td>B_284</td>\n",
       "      <td>18.834081</td>\n",
       "    </tr>\n",
       "    <tr>\n",
       "      <th>8077</th>\n",
       "      <td>1/6/2023 16:00</td>\n",
       "      <td>B_73</td>\n",
       "      <td>27.653214</td>\n",
       "    </tr>\n",
       "    <tr>\n",
       "      <th>46233</th>\n",
       "      <td>1/4/2023 20:00</td>\n",
       "      <td>B_421</td>\n",
       "      <td>11.210762</td>\n",
       "    </tr>\n",
       "    <tr>\n",
       "      <th>92157</th>\n",
       "      <td>1/2/2023 2:00</td>\n",
       "      <td>B_974</td>\n",
       "      <td>12.406577</td>\n",
       "    </tr>\n",
       "    <tr>\n",
       "      <th>76039</th>\n",
       "      <td>1/5/2023 17:00</td>\n",
       "      <td>B_689</td>\n",
       "      <td>44.992526</td>\n",
       "    </tr>\n",
       "  </tbody>\n",
       "</table>\n",
       "</div>"
      ],
      "text/plain": [
       "                 Time     BS     Energy\n",
       "31263   1/2/2023 6:00  B_284  18.834081\n",
       "8077   1/6/2023 16:00   B_73  27.653214\n",
       "46233  1/4/2023 20:00  B_421  11.210762\n",
       "92157   1/2/2023 2:00  B_974  12.406577\n",
       "76039  1/5/2023 17:00  B_689  44.992526"
      ]
     },
     "execution_count": 7,
     "metadata": {},
     "output_type": "execute_result"
    }
   ],
   "source": [
    "energy_consumption_data.sample(5)"
   ]
  },
  {
   "cell_type": "code",
   "execution_count": 8,
   "id": "3c59b2dc-6f73-48af-a00a-9aa1e71490cb",
   "metadata": {},
   "outputs": [],
   "source": [
    "cell_level_with_energy = pd.merge(energy_consumption_data, cell_level_data, on= ['BS', 'Time'], how = 'left')"
   ]
  },
  {
   "cell_type": "code",
   "execution_count": 9,
   "id": "45b60b06-da2d-4755-aa59-f0253aea1b9c",
   "metadata": {},
   "outputs": [
    {
     "data": {
      "text/plain": [
       "(98084, 11)"
      ]
     },
     "execution_count": 9,
     "metadata": {},
     "output_type": "execute_result"
    }
   ],
   "source": [
    "cell_level_with_energy.shape"
   ]
  },
  {
   "cell_type": "code",
   "execution_count": 10,
   "id": "6509989b-9e4e-449a-af5f-392fe182fbb7",
   "metadata": {},
   "outputs": [
    {
     "data": {
      "text/html": [
       "<div>\n",
       "<style scoped>\n",
       "    .dataframe tbody tr th:only-of-type {\n",
       "        vertical-align: middle;\n",
       "    }\n",
       "\n",
       "    .dataframe tbody tr th {\n",
       "        vertical-align: top;\n",
       "    }\n",
       "\n",
       "    .dataframe thead th {\n",
       "        text-align: right;\n",
       "    }\n",
       "</style>\n",
       "<table border=\"1\" class=\"dataframe\">\n",
       "  <thead>\n",
       "    <tr style=\"text-align: right;\">\n",
       "      <th></th>\n",
       "      <th>Time</th>\n",
       "      <th>BS</th>\n",
       "      <th>Energy</th>\n",
       "    </tr>\n",
       "  </thead>\n",
       "  <tbody>\n",
       "    <tr>\n",
       "      <th>92624</th>\n",
       "      <td>1/2/2023 17:00</td>\n",
       "      <td>B_1018</td>\n",
       "      <td>14.648729</td>\n",
       "    </tr>\n",
       "    <tr>\n",
       "      <th>92625</th>\n",
       "      <td>1/2/2023 18:00</td>\n",
       "      <td>B_1018</td>\n",
       "      <td>14.648729</td>\n",
       "    </tr>\n",
       "    <tr>\n",
       "      <th>92626</th>\n",
       "      <td>1/2/2023 21:00</td>\n",
       "      <td>B_1018</td>\n",
       "      <td>13.452915</td>\n",
       "    </tr>\n",
       "    <tr>\n",
       "      <th>92627</th>\n",
       "      <td>1/2/2023 22:00</td>\n",
       "      <td>B_1018</td>\n",
       "      <td>13.602392</td>\n",
       "    </tr>\n",
       "    <tr>\n",
       "      <th>92628</th>\n",
       "      <td>1/2/2023 23:00</td>\n",
       "      <td>B_1018</td>\n",
       "      <td>13.303438</td>\n",
       "    </tr>\n",
       "  </tbody>\n",
       "</table>\n",
       "</div>"
      ],
      "text/plain": [
       "                 Time      BS     Energy\n",
       "92624  1/2/2023 17:00  B_1018  14.648729\n",
       "92625  1/2/2023 18:00  B_1018  14.648729\n",
       "92626  1/2/2023 21:00  B_1018  13.452915\n",
       "92627  1/2/2023 22:00  B_1018  13.602392\n",
       "92628  1/2/2023 23:00  B_1018  13.303438"
      ]
     },
     "execution_count": 10,
     "metadata": {},
     "output_type": "execute_result"
    }
   ],
   "source": [
    "energy_consumption_data.tail()"
   ]
  },
  {
   "cell_type": "code",
   "execution_count": 11,
   "id": "76d44baf-6171-4369-92d5-638e599f57c6",
   "metadata": {},
   "outputs": [],
   "source": [
    "train_data = pd.merge(cell_level_with_energy, base_station_info, on= ['CellName','BS'], how = 'left')"
   ]
  },
  {
   "cell_type": "code",
   "execution_count": 12,
   "id": "46bd5942-0b43-4b27-a5ad-b7e1488d7916",
   "metadata": {},
   "outputs": [
    {
     "data": {
      "text/plain": [
       "(98084, 17)"
      ]
     },
     "execution_count": 12,
     "metadata": {},
     "output_type": "execute_result"
    }
   ],
   "source": [
    "train_data.shape"
   ]
  },
  {
   "cell_type": "code",
   "execution_count": 13,
   "id": "a283a195-2b7e-4d9a-8918-91766f61c798",
   "metadata": {},
   "outputs": [
    {
     "data": {
      "text/plain": [
       "Time         0\n",
       "BS           0\n",
       "Energy       0\n",
       "CellName     0\n",
       "load         0\n",
       "ESMode1      0\n",
       "ESMode2      0\n",
       "ESMode3      0\n",
       "ESMode4      0\n",
       "ESMode5      0\n",
       "ESMode6      0\n",
       "RUType       0\n",
       "Mode         0\n",
       "Frequency    0\n",
       "Bandwidth    0\n",
       "Antennas     0\n",
       "TXpower      0\n",
       "dtype: int64"
      ]
     },
     "execution_count": 13,
     "metadata": {},
     "output_type": "execute_result"
    }
   ],
   "source": [
    "train_data.isna().sum()"
   ]
  },
  {
   "cell_type": "code",
   "execution_count": 14,
   "id": "66bec672-05ee-4fea-808c-35101023c271",
   "metadata": {},
   "outputs": [
    {
     "data": {
      "text/html": [
       "<div>\n",
       "<style scoped>\n",
       "    .dataframe tbody tr th:only-of-type {\n",
       "        vertical-align: middle;\n",
       "    }\n",
       "\n",
       "    .dataframe tbody tr th {\n",
       "        vertical-align: top;\n",
       "    }\n",
       "\n",
       "    .dataframe thead th {\n",
       "        text-align: right;\n",
       "    }\n",
       "</style>\n",
       "<table border=\"1\" class=\"dataframe\">\n",
       "  <thead>\n",
       "    <tr style=\"text-align: right;\">\n",
       "      <th></th>\n",
       "      <th>count</th>\n",
       "      <th>mean</th>\n",
       "      <th>std</th>\n",
       "      <th>min</th>\n",
       "      <th>25%</th>\n",
       "      <th>50%</th>\n",
       "      <th>75%</th>\n",
       "      <th>max</th>\n",
       "    </tr>\n",
       "  </thead>\n",
       "  <tbody>\n",
       "    <tr>\n",
       "      <th>Energy</th>\n",
       "      <td>98084.0</td>\n",
       "      <td>28.986888</td>\n",
       "      <td>14.345648</td>\n",
       "      <td>0.747384</td>\n",
       "      <td>18.535127</td>\n",
       "      <td>24.962631</td>\n",
       "      <td>37.668161</td>\n",
       "      <td>100.000000</td>\n",
       "    </tr>\n",
       "    <tr>\n",
       "      <th>load</th>\n",
       "      <td>98084.0</td>\n",
       "      <td>0.242025</td>\n",
       "      <td>0.236798</td>\n",
       "      <td>0.000000</td>\n",
       "      <td>0.055922</td>\n",
       "      <td>0.157570</td>\n",
       "      <td>0.358069</td>\n",
       "      <td>0.993957</td>\n",
       "    </tr>\n",
       "    <tr>\n",
       "      <th>ESMode1</th>\n",
       "      <td>98084.0</td>\n",
       "      <td>0.039012</td>\n",
       "      <td>0.187290</td>\n",
       "      <td>0.000000</td>\n",
       "      <td>0.000000</td>\n",
       "      <td>0.000000</td>\n",
       "      <td>0.000000</td>\n",
       "      <td>1.000000</td>\n",
       "    </tr>\n",
       "    <tr>\n",
       "      <th>ESMode2</th>\n",
       "      <td>98084.0</td>\n",
       "      <td>0.037728</td>\n",
       "      <td>0.184540</td>\n",
       "      <td>0.000000</td>\n",
       "      <td>0.000000</td>\n",
       "      <td>0.000000</td>\n",
       "      <td>0.000000</td>\n",
       "      <td>1.000000</td>\n",
       "    </tr>\n",
       "    <tr>\n",
       "      <th>ESMode3</th>\n",
       "      <td>98084.0</td>\n",
       "      <td>0.000082</td>\n",
       "      <td>0.002393</td>\n",
       "      <td>0.000000</td>\n",
       "      <td>0.000000</td>\n",
       "      <td>0.000000</td>\n",
       "      <td>0.000000</td>\n",
       "      <td>0.154563</td>\n",
       "    </tr>\n",
       "    <tr>\n",
       "      <th>ESMode4</th>\n",
       "      <td>98084.0</td>\n",
       "      <td>0.000000</td>\n",
       "      <td>0.000000</td>\n",
       "      <td>0.000000</td>\n",
       "      <td>0.000000</td>\n",
       "      <td>0.000000</td>\n",
       "      <td>0.000000</td>\n",
       "      <td>0.000000</td>\n",
       "    </tr>\n",
       "    <tr>\n",
       "      <th>ESMode5</th>\n",
       "      <td>98084.0</td>\n",
       "      <td>0.000014</td>\n",
       "      <td>0.003171</td>\n",
       "      <td>0.000000</td>\n",
       "      <td>0.000000</td>\n",
       "      <td>0.000000</td>\n",
       "      <td>0.000000</td>\n",
       "      <td>0.768070</td>\n",
       "    </tr>\n",
       "    <tr>\n",
       "      <th>ESMode6</th>\n",
       "      <td>98084.0</td>\n",
       "      <td>0.030367</td>\n",
       "      <td>0.149012</td>\n",
       "      <td>0.000000</td>\n",
       "      <td>0.000000</td>\n",
       "      <td>0.000000</td>\n",
       "      <td>0.000000</td>\n",
       "      <td>0.931032</td>\n",
       "    </tr>\n",
       "    <tr>\n",
       "      <th>Frequency</th>\n",
       "      <td>98084.0</td>\n",
       "      <td>368.979381</td>\n",
       "      <td>136.286959</td>\n",
       "      <td>155.600000</td>\n",
       "      <td>189.000000</td>\n",
       "      <td>365.000000</td>\n",
       "      <td>532.000000</td>\n",
       "      <td>979.998000</td>\n",
       "    </tr>\n",
       "    <tr>\n",
       "      <th>Bandwidth</th>\n",
       "      <td>98084.0</td>\n",
       "      <td>15.965917</td>\n",
       "      <td>5.645188</td>\n",
       "      <td>2.000000</td>\n",
       "      <td>10.000000</td>\n",
       "      <td>20.000000</td>\n",
       "      <td>20.000000</td>\n",
       "      <td>20.000000</td>\n",
       "    </tr>\n",
       "    <tr>\n",
       "      <th>Antennas</th>\n",
       "      <td>98084.0</td>\n",
       "      <td>2.186473</td>\n",
       "      <td>2.033932</td>\n",
       "      <td>1.000000</td>\n",
       "      <td>2.000000</td>\n",
       "      <td>2.000000</td>\n",
       "      <td>2.000000</td>\n",
       "      <td>64.000000</td>\n",
       "    </tr>\n",
       "    <tr>\n",
       "      <th>TXpower</th>\n",
       "      <td>98084.0</td>\n",
       "      <td>6.733521</td>\n",
       "      <td>0.304979</td>\n",
       "      <td>5.381166</td>\n",
       "      <td>6.427504</td>\n",
       "      <td>6.875934</td>\n",
       "      <td>6.875934</td>\n",
       "      <td>8.375336</td>\n",
       "    </tr>\n",
       "  </tbody>\n",
       "</table>\n",
       "</div>"
      ],
      "text/plain": [
       "             count        mean         std         min         25%  \\\n",
       "Energy     98084.0   28.986888   14.345648    0.747384   18.535127   \n",
       "load       98084.0    0.242025    0.236798    0.000000    0.055922   \n",
       "ESMode1    98084.0    0.039012    0.187290    0.000000    0.000000   \n",
       "ESMode2    98084.0    0.037728    0.184540    0.000000    0.000000   \n",
       "ESMode3    98084.0    0.000082    0.002393    0.000000    0.000000   \n",
       "ESMode4    98084.0    0.000000    0.000000    0.000000    0.000000   \n",
       "ESMode5    98084.0    0.000014    0.003171    0.000000    0.000000   \n",
       "ESMode6    98084.0    0.030367    0.149012    0.000000    0.000000   \n",
       "Frequency  98084.0  368.979381  136.286959  155.600000  189.000000   \n",
       "Bandwidth  98084.0   15.965917    5.645188    2.000000   10.000000   \n",
       "Antennas   98084.0    2.186473    2.033932    1.000000    2.000000   \n",
       "TXpower    98084.0    6.733521    0.304979    5.381166    6.427504   \n",
       "\n",
       "                  50%         75%         max  \n",
       "Energy      24.962631   37.668161  100.000000  \n",
       "load         0.157570    0.358069    0.993957  \n",
       "ESMode1      0.000000    0.000000    1.000000  \n",
       "ESMode2      0.000000    0.000000    1.000000  \n",
       "ESMode3      0.000000    0.000000    0.154563  \n",
       "ESMode4      0.000000    0.000000    0.000000  \n",
       "ESMode5      0.000000    0.000000    0.768070  \n",
       "ESMode6      0.000000    0.000000    0.931032  \n",
       "Frequency  365.000000  532.000000  979.998000  \n",
       "Bandwidth   20.000000   20.000000   20.000000  \n",
       "Antennas     2.000000    2.000000   64.000000  \n",
       "TXpower      6.875934    6.875934    8.375336  "
      ]
     },
     "execution_count": 14,
     "metadata": {},
     "output_type": "execute_result"
    }
   ],
   "source": [
    "#describe numerical column\n",
    "train_data.describe().transpose()"
   ]
  },
  {
   "cell_type": "code",
   "execution_count": null,
   "id": "371ebb78-012a-4b85-9bda-0c2554481100",
   "metadata": {},
   "outputs": [],
   "source": [
    "frequency, bandwidth, amtennas, txpower need to be scaled"
   ]
  },
  {
   "cell_type": "code",
   "execution_count": 15,
   "id": "c65e470c-478e-439a-b2af-42bed2509e30",
   "metadata": {},
   "outputs": [
    {
     "data": {
      "text/html": [
       "<div>\n",
       "<style scoped>\n",
       "    .dataframe tbody tr th:only-of-type {\n",
       "        vertical-align: middle;\n",
       "    }\n",
       "\n",
       "    .dataframe tbody tr th {\n",
       "        vertical-align: top;\n",
       "    }\n",
       "\n",
       "    .dataframe thead th {\n",
       "        text-align: right;\n",
       "    }\n",
       "</style>\n",
       "<table border=\"1\" class=\"dataframe\">\n",
       "  <thead>\n",
       "    <tr style=\"text-align: right;\">\n",
       "      <th></th>\n",
       "      <th>Time</th>\n",
       "      <th>BS</th>\n",
       "      <th>CellName</th>\n",
       "      <th>RUType</th>\n",
       "      <th>Mode</th>\n",
       "    </tr>\n",
       "  </thead>\n",
       "  <tbody>\n",
       "    <tr>\n",
       "      <th>count</th>\n",
       "      <td>98084</td>\n",
       "      <td>98084</td>\n",
       "      <td>98084</td>\n",
       "      <td>98084</td>\n",
       "      <td>98084</td>\n",
       "    </tr>\n",
       "    <tr>\n",
       "      <th>unique</th>\n",
       "      <td>168</td>\n",
       "      <td>923</td>\n",
       "      <td>4</td>\n",
       "      <td>12</td>\n",
       "      <td>2</td>\n",
       "    </tr>\n",
       "    <tr>\n",
       "      <th>top</th>\n",
       "      <td>1/2/2023 23:00</td>\n",
       "      <td>B_745</td>\n",
       "      <td>Cell0</td>\n",
       "      <td>Type4</td>\n",
       "      <td>Mode2</td>\n",
       "    </tr>\n",
       "    <tr>\n",
       "      <th>freq</th>\n",
       "      <td>937</td>\n",
       "      <td>270</td>\n",
       "      <td>92629</td>\n",
       "      <td>25677</td>\n",
       "      <td>97429</td>\n",
       "    </tr>\n",
       "  </tbody>\n",
       "</table>\n",
       "</div>"
      ],
      "text/plain": [
       "                  Time     BS CellName RUType   Mode\n",
       "count            98084  98084    98084  98084  98084\n",
       "unique             168    923        4     12      2\n",
       "top     1/2/2023 23:00  B_745    Cell0  Type4  Mode2\n",
       "freq               937    270    92629  25677  97429"
      ]
     },
     "execution_count": 15,
     "metadata": {},
     "output_type": "execute_result"
    }
   ],
   "source": [
    "#describe categorical column\n",
    "train_data.describe(include = ['O'])"
   ]
  },
  {
   "cell_type": "code",
   "execution_count": 16,
   "id": "60a98dbd-d643-4e69-8f8a-0aca56940bcf",
   "metadata": {},
   "outputs": [
    {
     "data": {
      "text/plain": [
       "Time           168\n",
       "BS             923\n",
       "Energy         612\n",
       "CellName         4\n",
       "load         59282\n",
       "ESMode1        509\n",
       "ESMode2       1104\n",
       "ESMode3        169\n",
       "ESMode4          1\n",
       "ESMode5          4\n",
       "ESMode6       4200\n",
       "RUType          12\n",
       "Mode             2\n",
       "Frequency        8\n",
       "Bandwidth        5\n",
       "Antennas         6\n",
       "TXpower         33\n",
       "dtype: int64"
      ]
     },
     "execution_count": 16,
     "metadata": {},
     "output_type": "execute_result"
    }
   ],
   "source": [
    "# Check unique value for each attribute\n",
    "train_data.nunique()"
   ]
  },
  {
   "cell_type": "code",
   "execution_count": 17,
   "id": "b1554733-8aaa-4e39-b569-d6eb1349b022",
   "metadata": {},
   "outputs": [
    {
     "name": "stdout",
     "output_type": "stream",
     "text": [
      "Numerical ::  ['Energy', 'load', 'ESMode1', 'ESMode2', 'ESMode3', 'ESMode4', 'ESMode5', 'ESMode6', 'Frequency', 'Bandwidth', 'Antennas', 'TXpower']\n",
      "\n",
      "Catagorical ::  ['Time', 'BS', 'CellName', 'RUType', 'Mode']\n"
     ]
    }
   ],
   "source": [
    "quantitative = []\n",
    "qualitative = []\n",
    "for i in train_data.columns:\n",
    "    if train_data.dtypes[i] != 'object':\n",
    "        quantitative.append(i)\n",
    "    else:\n",
    "        qualitative.append(i)\n",
    "print('Numerical :: ', quantitative)\n",
    "print('\\nCatagorical :: ', qualitative)"
   ]
  },
  {
   "cell_type": "code",
   "execution_count": 18,
   "id": "f91f7370-de06-4021-adf6-df5d9ceb3ca9",
   "metadata": {},
   "outputs": [
    {
     "data": {
      "image/png": "[encoded data removed]",
      "text/plain": [
       "<Figure size 1800x1000 with 12 Axes>"
      ]
     },
     "metadata": {},
     "output_type": "display_data"
    }
   ],
   "source": [
    "#Analyzing nuumerical variable\n",
    "train_data[quantitative].hist(bins=15, figsize=(18, 10));"
   ]
  },
  {
   "cell_type": "markdown",
   "id": "128a95a5-e2a0-4c36-84c1-f9f585fad20f",
   "metadata": {},
   "source": [
    "# Feature Engineering"
   ]
  },
  {
   "cell_type": "code",
   "execution_count": 19,
   "id": "b17ebed1-dfd7-4965-ab2e-6ed005f48e34",
   "metadata": {},
   "outputs": [],
   "source": [
    "train_data['Time'] = pd.to_datetime(train_data['Time'])\n",
    "train_data['day'] = [i.day for i in train_data.Time]\n",
    "train_data['day_of_year'] = [i.dayofyear for i in train_data.Time]\n",
    "train_data['month'] = [i.month for i in train_data.Time]\n",
    "train_data['hour'] = [i.hour for i in train_data.Time]\n",
    "train_data['is_weekday'] = [i.isoweekday() for i in train_data.Time]"
   ]
  },
  {
   "cell_type": "code",
   "execution_count": 20,
   "id": "94540035-c54f-41f8-b019-804d7fcb11cd",
   "metadata": {},
   "outputs": [
    {
     "ename": "NameError",
     "evalue": "name 'categorical_cols' is not defined",
     "output_type": "error",
     "traceback": [
      "\u001b[1;31m---------------------------------------------------------------------------\u001b[0m",
      "\u001b[1;31mNameError\u001b[0m                                 Traceback (most recent call last)",
      "Cell \u001b[1;32mIn[20], line 6\u001b[0m\n\u001b[0;32m      3\u001b[0m train_data[\u001b[38;5;124m'\u001b[39m\u001b[38;5;124mdatetime_column\u001b[39m\u001b[38;5;124m'\u001b[39m] \u001b[38;5;241m=\u001b[39m (train_data[\u001b[38;5;124m'\u001b[39m\u001b[38;5;124mTime\u001b[39m\u001b[38;5;124m'\u001b[39m] \u001b[38;5;241m-\u001b[39m train_data[\u001b[38;5;124m'\u001b[39m\u001b[38;5;124mTime\u001b[39m\u001b[38;5;124m'\u001b[39m]\u001b[38;5;241m.\u001b[39mmin())\u001b[38;5;241m.\u001b[39mdt\u001b[38;5;241m.\u001b[39mdays\n\u001b[0;32m      4\u001b[0m \u001b[38;5;66;03m#test_data['datetime_column'] = (X_test['datetime_column'] - X_train['datetime_column'].min()).dt.days\u001b[39;00m\n\u001b[0;32m      5\u001b[0m \u001b[38;5;66;03m# Convert datetime column to numerical features within categorical groups\u001b[39;00m\n\u001b[1;32m----> 6\u001b[0m \u001b[38;5;28;01mfor\u001b[39;00m col \u001b[38;5;129;01min\u001b[39;00m \u001b[43mcategorical_cols\u001b[49m:\n\u001b[0;32m      7\u001b[0m     min_date_per_group \u001b[38;5;241m=\u001b[39m X_train\u001b[38;5;241m.\u001b[39mgroupby(col)[\u001b[38;5;124m'\u001b[39m\u001b[38;5;124mdatetime_column\u001b[39m\u001b[38;5;124m'\u001b[39m]\u001b[38;5;241m.\u001b[39mmin()\n\u001b[0;32m      8\u001b[0m     X_test[\u001b[38;5;124m'\u001b[39m\u001b[38;5;124mdatetime_column\u001b[39m\u001b[38;5;124m'\u001b[39m] \u001b[38;5;241m=\u001b[39m (\n\u001b[0;32m      9\u001b[0m         X_test\u001b[38;5;241m.\u001b[39mapply(\u001b[38;5;28;01mlambda\u001b[39;00m row: (row[\u001b[38;5;124m'\u001b[39m\u001b[38;5;124mdatetime_column\u001b[39m\u001b[38;5;124m'\u001b[39m] \u001b[38;5;241m-\u001b[39m min_date_per_group[row[col]])\u001b[38;5;241m.\u001b[39mdays, axis\u001b[38;5;241m=\u001b[39m\u001b[38;5;241m1\u001b[39m)\n\u001b[0;32m     10\u001b[0m     )\n",
      "\u001b[1;31mNameError\u001b[0m: name 'categorical_cols' is not defined"
     ]
    }
   ],
   "source": [
    "#  This can be particularly useful when the effect of the datetime column might be different for different categorical groups.\n",
    "#Convert datetime column to numerical features (e.g., days since a reference date)\n",
    "train_data['datetime_column'] = (train_data['Time'] - train_data['Time'].min()).dt.days\n",
    "#test_data['datetime_column'] = (X_test['datetime_column'] - X_train['datetime_column'].min()).dt.days\n",
    "# Convert datetime column to numerical features within categorical groups\n",
    "for col in categorical_cols:\n",
    "    min_date_per_group = X_train.groupby(col)['datetime_column'].min()\n",
    "    X_test['datetime_column'] = (\n",
    "        X_test.apply(lambda row: (row['datetime_column'] - min_date_per_group[row[col]]).days, axis=1)\n",
    "    )"
   ]
  },
  {
   "cell_type": "code",
   "execution_count": 21,
   "id": "fbc3506a-3db0-47e9-ae8f-db07d696750f",
   "metadata": {},
   "outputs": [
    {
     "data": {
      "text/plain": [
       "7"
      ]
     },
     "execution_count": 21,
     "metadata": {},
     "output_type": "execute_result"
    }
   ],
   "source": [
    "train_data.datetime_column.nunique()"
   ]
  },
  {
   "cell_type": "code",
   "execution_count": 22,
   "id": "892968e3-77c4-4123-ae22-2f43bc68f7a5",
   "metadata": {},
   "outputs": [
    {
     "name": "stdout",
     "output_type": "stream",
     "text": [
      "['ESMode3', 'ESMode4', 'ESMode5', 'Mode', 'month']\n"
     ]
    }
   ],
   "source": [
    "#Searching for Duplicated or Quasi-constant features\n",
    "sel = DropConstantFeatures(tol=0.99, variables=None)\n",
    "\n",
    "sel.fit(train_data)\n",
    "\n",
    "features_to_drop = list(sel.features_to_drop_)\n",
    "print(features_to_drop)"
   ]
  },
  {
   "cell_type": "code",
   "execution_count": 23,
   "id": "0c0607ed-0ee3-4a30-ae7c-fa716d0dcf6f",
   "metadata": {},
   "outputs": [
    {
     "name": "stdout",
     "output_type": "stream",
     "text": [
      "Features to drop {'datetime_column', 'day_of_year', 'ESMode2'}\n",
      "\n",
      "Correlated Feature Sets [{'ESMode1', 'ESMode2'}, {'datetime_column', 'day', 'day_of_year'}]\n"
     ]
    }
   ],
   "source": [
    "#Looking for Correlated Features\n",
    "sel = DropCorrelatedFeatures(threshold=0.80,    # more than 80% = remove\n",
    "                             method='pearson') # you can use other methods like kendall or spearman\n",
    "\n",
    "sel.fit(train_data)\n",
    "\n",
    "features_to_drop = features_to_drop + list(sel.features_to_drop_)\n",
    "features_to_drop = list(set(features_to_drop))\n",
    "print('Features to drop', sel.features_to_drop_)\n",
    "print()\n",
    "print('Correlated Feature Sets', sel.correlated_feature_sets_)"
   ]
  },
  {
   "cell_type": "code",
   "execution_count": 24,
   "id": "f6d1b6fa-9440-44b9-a445-af81424beae5",
   "metadata": {},
   "outputs": [
    {
     "data": {
      "text/plain": [
       "['ESMode3',\n",
       " 'day_of_year',\n",
       " 'Mode',\n",
       " 'ESMode4',\n",
       " 'ESMode2',\n",
       " 'datetime_column',\n",
       " 'month',\n",
       " 'ESMode5']"
      ]
     },
     "execution_count": 24,
     "metadata": {},
     "output_type": "execute_result"
    }
   ],
   "source": [
    "features_to_drop"
   ]
  },
  {
   "cell_type": "code",
   "execution_count": 25,
   "id": "84b8a9ed-8f43-4cb6-9024-b289aca2f1bc",
   "metadata": {},
   "outputs": [],
   "source": [
    "train_data.drop(features_to_drop, axis=1, inplace=True)"
   ]
  },
  {
   "cell_type": "markdown",
   "id": "986a5cd9-9ce8-457b-8dde-e0374e7b0e8d",
   "metadata": {},
   "source": [
    "# Target Variable check"
   ]
  },
  {
   "cell_type": "code",
   "execution_count": 26,
   "id": "bc89dc00-b70e-4b5f-86b1-29cc9f4d35c0",
   "metadata": {},
   "outputs": [
    {
     "data": {
      "text/plain": [
       "<Axes: ylabel='Density'>"
      ]
     },
     "execution_count": 26,
     "metadata": {},
     "output_type": "execute_result"
    },
    {
     "data": {
      "image/png": "[encoded data removed]",
      "text/plain": [
       "<Figure size 640x480 with 1 Axes>"
      ]
     },
     "metadata": {},
     "output_type": "display_data"
    }
   ],
   "source": [
    "train_data['Energy'].plot.density(color='blue')"
   ]
  },
  {
   "cell_type": "code",
   "execution_count": 27,
   "id": "b4ba919c-7e0e-4aa3-86e2-306067d532bb",
   "metadata": {},
   "outputs": [
    {
     "data": {
      "text/plain": [
       "<Axes: xlabel='Energy', ylabel='Density'>"
      ]
     },
     "execution_count": 27,
     "metadata": {},
     "output_type": "execute_result"
    },
    {
     "data": {
      "image/png": "[encoded data removed]",
      "text/plain": [
       "<Figure size 1000x600 with 1 Axes>"
      ]
     },
     "metadata": {},
     "output_type": "display_data"
    }
   ],
   "source": [
    "plt.figure(figsize=(10,6))\n",
    "sns.distplot(train_data['Energy'], fit=st.norm)"
   ]
  },
  {
   "cell_type": "code",
   "execution_count": 29,
   "id": "5505680d-4516-4184-a0aa-62579d344218",
   "metadata": {},
   "outputs": [
    {
     "data": {
      "text/html": [
       "<div>\n",
       "<style scoped>\n",
       "    .dataframe tbody tr th:only-of-type {\n",
       "        vertical-align: middle;\n",
       "    }\n",
       "\n",
       "    .dataframe tbody tr th {\n",
       "        vertical-align: top;\n",
       "    }\n",
       "\n",
       "    .dataframe thead th {\n",
       "        text-align: right;\n",
       "    }\n",
       "</style>\n",
       "<table border=\"1\" class=\"dataframe\">\n",
       "  <thead>\n",
       "    <tr style=\"text-align: right;\">\n",
       "      <th></th>\n",
       "      <th>Time</th>\n",
       "      <th>BS</th>\n",
       "      <th>Energy</th>\n",
       "      <th>CellName</th>\n",
       "      <th>load</th>\n",
       "      <th>ESMode1</th>\n",
       "      <th>ESMode6</th>\n",
       "      <th>RUType</th>\n",
       "      <th>Frequency</th>\n",
       "      <th>Bandwidth</th>\n",
       "      <th>Antennas</th>\n",
       "      <th>TXpower</th>\n",
       "      <th>day</th>\n",
       "      <th>hour</th>\n",
       "      <th>is_weekday</th>\n",
       "    </tr>\n",
       "  </thead>\n",
       "  <tbody>\n",
       "    <tr>\n",
       "      <th>0</th>\n",
       "      <td>2023-01-01 01:00:00</td>\n",
       "      <td>B_0</td>\n",
       "      <td>64.275037</td>\n",
       "      <td>Cell0</td>\n",
       "      <td>0.487936</td>\n",
       "      <td>0.0</td>\n",
       "      <td>0.0</td>\n",
       "      <td>Type1</td>\n",
       "      <td>365.0</td>\n",
       "      <td>20</td>\n",
       "      <td>4</td>\n",
       "      <td>6.875934</td>\n",
       "      <td>1</td>\n",
       "      <td>1</td>\n",
       "      <td>7</td>\n",
       "    </tr>\n",
       "    <tr>\n",
       "      <th>1</th>\n",
       "      <td>2023-01-01 02:00:00</td>\n",
       "      <td>B_0</td>\n",
       "      <td>55.904335</td>\n",
       "      <td>Cell0</td>\n",
       "      <td>0.344468</td>\n",
       "      <td>0.0</td>\n",
       "      <td>0.0</td>\n",
       "      <td>Type1</td>\n",
       "      <td>365.0</td>\n",
       "      <td>20</td>\n",
       "      <td>4</td>\n",
       "      <td>6.875934</td>\n",
       "      <td>1</td>\n",
       "      <td>2</td>\n",
       "      <td>7</td>\n",
       "    </tr>\n",
       "    <tr>\n",
       "      <th>2</th>\n",
       "      <td>2023-01-01 03:00:00</td>\n",
       "      <td>B_0</td>\n",
       "      <td>57.698057</td>\n",
       "      <td>Cell0</td>\n",
       "      <td>0.193766</td>\n",
       "      <td>0.0</td>\n",
       "      <td>0.0</td>\n",
       "      <td>Type1</td>\n",
       "      <td>365.0</td>\n",
       "      <td>20</td>\n",
       "      <td>4</td>\n",
       "      <td>6.875934</td>\n",
       "      <td>1</td>\n",
       "      <td>3</td>\n",
       "      <td>7</td>\n",
       "    </tr>\n",
       "  </tbody>\n",
       "</table>\n",
       "</div>"
      ],
      "text/plain": [
       "                 Time   BS     Energy CellName      load  ESMode1  ESMode6  \\\n",
       "0 2023-01-01 01:00:00  B_0  64.275037    Cell0  0.487936      0.0      0.0   \n",
       "1 2023-01-01 02:00:00  B_0  55.904335    Cell0  0.344468      0.0      0.0   \n",
       "2 2023-01-01 03:00:00  B_0  57.698057    Cell0  0.193766      0.0      0.0   \n",
       "\n",
       "  RUType  Frequency  Bandwidth  Antennas   TXpower  day  hour  is_weekday  \n",
       "0  Type1      365.0         20         4  6.875934    1     1           7  \n",
       "1  Type1      365.0         20         4  6.875934    1     2           7  \n",
       "2  Type1      365.0         20         4  6.875934    1     3           7  "
      ]
     },
     "execution_count": 29,
     "metadata": {},
     "output_type": "execute_result"
    }
   ],
   "source": [
    "train_data.head(3)"
   ]
  },
  {
   "cell_type": "markdown",
   "id": "76a742ef-4c2e-46da-bf06-1b2b8785deae",
   "metadata": {},
   "source": [
    "# Model"
   ]
  },
  {
   "cell_type": "code",
   "execution_count": 30,
   "id": "9e5a3395-2d09-4922-9e73-f1d039cf3fef",
   "metadata": {},
   "outputs": [],
   "source": [
    "# Separate features and target\n",
    "features = train_data.drop(columns=['Energy'])\n",
    "target = train_data['Energy']"
   ]
  },
  {
   "cell_type": "code",
   "execution_count": 35,
   "id": "17e7fdbb-724a-4ea7-a732-743914fc353a",
   "metadata": {},
   "outputs": [
    {
     "name": "stdout",
     "output_type": "stream",
     "text": [
      "Numerical ::  ['Time', 'Energy', 'load', 'ESMode1', 'ESMode6', 'Frequency', 'Bandwidth', 'Antennas', 'TXpower', 'day', 'hour', 'is_weekday']\n",
      "\n",
      "Catagorical ::  ['BS', 'CellName', 'RUType']\n"
     ]
    }
   ],
   "source": [
    "quantitative = []\n",
    "qualitative = []\n",
    "for i in train_data.columns:\n",
    "    if train_data.dtypes[i] != 'object':\n",
    "        quantitative.append(i)\n",
    "    else:\n",
    "        qualitative.append(i)\n",
    "print('Numerical :: ', quantitative)\n",
    "print('\\nCatagorical :: ', qualitative)"
   ]
  },
  {
   "cell_type": "code",
   "execution_count": 61,
   "id": "a9fd2201-0fe9-4b67-a745-8e3cb1e91a6f",
   "metadata": {},
   "outputs": [
    {
     "name": "stdout",
     "output_type": "stream",
     "text": [
      "BS\n",
      "CellName\n",
      "RUType\n"
     ]
    }
   ],
   "source": [
    "# Split the data into train and test sets\n",
    "X_train, X_test, y_train, y_test = train_test_split(features, target, test_size=0.2, random_state=42)\n",
    "\n",
    "# Preprocess categorical columns using label encoding\n",
    "label_encoders = {}\n",
    "for col in qualitative:\n",
    "    print(col)\n",
    "    le = LabelEncoder()\n",
    "    X_train[col] = le.fit_transform(X_train[col])\n",
    "    X_test[col] = le.transform(X_test[col])\n",
    "    label_encoders[col] = le"
   ]
  },
  {
   "cell_type": "code",
   "execution_count": 62,
   "id": "940bb93a-2154-419b-840c-ab836a8095e7",
   "metadata": {},
   "outputs": [
    {
     "data": {
      "text/plain": [
       "Index(['Time', 'BS', 'CellName', 'load', 'ESMode1', 'ESMode6', 'RUType',\n",
       "       'Frequency', 'Bandwidth', 'Antennas', 'TXpower', 'day', 'hour',\n",
       "       'is_weekday'],\n",
       "      dtype='object')"
      ]
     },
     "execution_count": 62,
     "metadata": {},
     "output_type": "execute_result"
    }
   ],
   "source": [
    "X_train.columns"
   ]
  },
  {
   "cell_type": "code",
   "execution_count": 65,
   "id": "2c02b9f2-8749-4c12-b769-67678343001d",
   "metadata": {},
   "outputs": [],
   "source": [
    "# Normalize numerical columns using StandardScaler\n",
    "#frequency, bandwidth, amtennas, txpower need to be scaled\n",
    "numerical_cols = ['Frequency', 'Bandwidth', 'Antennas', 'TXpower']\n",
    "scaler = StandardScaler()\n",
    "X_train[numerical_cols] = scaler.fit_transform(X_train[numerical_cols])\n",
    "X_test[numerical_cols] = scaler.transform(X_test[numerical_cols])"
   ]
  },
  {
   "cell_type": "code",
   "execution_count": 66,
   "id": "fc3d7bbd-df92-4c91-b328-90eac0ec369c",
   "metadata": {},
   "outputs": [
    {
     "ename": "KeyError",
     "evalue": "\"['Time'] not found in axis\"",
     "output_type": "error",
     "traceback": [
      "\u001b[1;31m---------------------------------------------------------------------------\u001b[0m",
      "\u001b[1;31mKeyError\u001b[0m                                  Traceback (most recent call last)",
      "Cell \u001b[1;32mIn[66], line 1\u001b[0m\n\u001b[1;32m----> 1\u001b[0m \u001b[43mX_train\u001b[49m\u001b[38;5;241;43m.\u001b[39;49m\u001b[43mdrop\u001b[49m\u001b[43m(\u001b[49m\u001b[43m[\u001b[49m\u001b[38;5;124;43m'\u001b[39;49m\u001b[38;5;124;43mTime\u001b[39;49m\u001b[38;5;124;43m'\u001b[39;49m\u001b[43m]\u001b[49m\u001b[43m,\u001b[49m\u001b[43m \u001b[49m\u001b[43maxis\u001b[49m\u001b[43m \u001b[49m\u001b[38;5;241;43m=\u001b[39;49m\u001b[43m \u001b[49m\u001b[38;5;241;43m1\u001b[39;49m\u001b[43m,\u001b[49m\u001b[43m \u001b[49m\u001b[43minplace\u001b[49m\u001b[43m \u001b[49m\u001b[38;5;241;43m=\u001b[39;49m\u001b[43m \u001b[49m\u001b[38;5;28;43;01mTrue\u001b[39;49;00m\u001b[43m)\u001b[49m\n",
      "File \u001b[1;32m~\\AppData\\Local\\Programs\\Python\\Python39\\lib\\site-packages\\pandas\\core\\frame.py:5258\u001b[0m, in \u001b[0;36mDataFrame.drop\u001b[1;34m(self, labels, axis, index, columns, level, inplace, errors)\u001b[0m\n\u001b[0;32m   5110\u001b[0m \u001b[38;5;28;01mdef\u001b[39;00m \u001b[38;5;21mdrop\u001b[39m(\n\u001b[0;32m   5111\u001b[0m     \u001b[38;5;28mself\u001b[39m,\n\u001b[0;32m   5112\u001b[0m     labels: IndexLabel \u001b[38;5;241m=\u001b[39m \u001b[38;5;28;01mNone\u001b[39;00m,\n\u001b[1;32m   (...)\u001b[0m\n\u001b[0;32m   5119\u001b[0m     errors: IgnoreRaise \u001b[38;5;241m=\u001b[39m \u001b[38;5;124m\"\u001b[39m\u001b[38;5;124mraise\u001b[39m\u001b[38;5;124m\"\u001b[39m,\n\u001b[0;32m   5120\u001b[0m ) \u001b[38;5;241m-\u001b[39m\u001b[38;5;241m>\u001b[39m DataFrame \u001b[38;5;241m|\u001b[39m \u001b[38;5;28;01mNone\u001b[39;00m:\n\u001b[0;32m   5121\u001b[0m \u001b[38;5;250m    \u001b[39m\u001b[38;5;124;03m\"\"\"\u001b[39;00m\n\u001b[0;32m   5122\u001b[0m \u001b[38;5;124;03m    Drop specified labels from rows or columns.\u001b[39;00m\n\u001b[0;32m   5123\u001b[0m \n\u001b[1;32m   (...)\u001b[0m\n\u001b[0;32m   5256\u001b[0m \u001b[38;5;124;03m            weight  1.0     0.8\u001b[39;00m\n\u001b[0;32m   5257\u001b[0m \u001b[38;5;124;03m    \"\"\"\u001b[39;00m\n\u001b[1;32m-> 5258\u001b[0m     \u001b[38;5;28;01mreturn\u001b[39;00m \u001b[38;5;28;43msuper\u001b[39;49m\u001b[43m(\u001b[49m\u001b[43m)\u001b[49m\u001b[38;5;241;43m.\u001b[39;49m\u001b[43mdrop\u001b[49m\u001b[43m(\u001b[49m\n\u001b[0;32m   5259\u001b[0m \u001b[43m        \u001b[49m\u001b[43mlabels\u001b[49m\u001b[38;5;241;43m=\u001b[39;49m\u001b[43mlabels\u001b[49m\u001b[43m,\u001b[49m\n\u001b[0;32m   5260\u001b[0m \u001b[43m        \u001b[49m\u001b[43maxis\u001b[49m\u001b[38;5;241;43m=\u001b[39;49m\u001b[43maxis\u001b[49m\u001b[43m,\u001b[49m\n\u001b[0;32m   5261\u001b[0m \u001b[43m        \u001b[49m\u001b[43mindex\u001b[49m\u001b[38;5;241;43m=\u001b[39;49m\u001b[43mindex\u001b[49m\u001b[43m,\u001b[49m\n\u001b[0;32m   5262\u001b[0m \u001b[43m        \u001b[49m\u001b[43mcolumns\u001b[49m\u001b[38;5;241;43m=\u001b[39;49m\u001b[43mcolumns\u001b[49m\u001b[43m,\u001b[49m\n\u001b[0;32m   5263\u001b[0m \u001b[43m        \u001b[49m\u001b[43mlevel\u001b[49m\u001b[38;5;241;43m=\u001b[39;49m\u001b[43mlevel\u001b[49m\u001b[43m,\u001b[49m\n\u001b[0;32m   5264\u001b[0m \u001b[43m        \u001b[49m\u001b[43minplace\u001b[49m\u001b[38;5;241;43m=\u001b[39;49m\u001b[43minplace\u001b[49m\u001b[43m,\u001b[49m\n\u001b[0;32m   5265\u001b[0m \u001b[43m        \u001b[49m\u001b[43merrors\u001b[49m\u001b[38;5;241;43m=\u001b[39;49m\u001b[43merrors\u001b[49m\u001b[43m,\u001b[49m\n\u001b[0;32m   5266\u001b[0m \u001b[43m    \u001b[49m\u001b[43m)\u001b[49m\n",
      "File \u001b[1;32m~\\AppData\\Local\\Programs\\Python\\Python39\\lib\\site-packages\\pandas\\core\\generic.py:4549\u001b[0m, in \u001b[0;36mNDFrame.drop\u001b[1;34m(self, labels, axis, index, columns, level, inplace, errors)\u001b[0m\n\u001b[0;32m   4547\u001b[0m \u001b[38;5;28;01mfor\u001b[39;00m axis, labels \u001b[38;5;129;01min\u001b[39;00m axes\u001b[38;5;241m.\u001b[39mitems():\n\u001b[0;32m   4548\u001b[0m     \u001b[38;5;28;01mif\u001b[39;00m labels \u001b[38;5;129;01mis\u001b[39;00m \u001b[38;5;129;01mnot\u001b[39;00m \u001b[38;5;28;01mNone\u001b[39;00m:\n\u001b[1;32m-> 4549\u001b[0m         obj \u001b[38;5;241m=\u001b[39m \u001b[43mobj\u001b[49m\u001b[38;5;241;43m.\u001b[39;49m\u001b[43m_drop_axis\u001b[49m\u001b[43m(\u001b[49m\u001b[43mlabels\u001b[49m\u001b[43m,\u001b[49m\u001b[43m \u001b[49m\u001b[43maxis\u001b[49m\u001b[43m,\u001b[49m\u001b[43m \u001b[49m\u001b[43mlevel\u001b[49m\u001b[38;5;241;43m=\u001b[39;49m\u001b[43mlevel\u001b[49m\u001b[43m,\u001b[49m\u001b[43m \u001b[49m\u001b[43merrors\u001b[49m\u001b[38;5;241;43m=\u001b[39;49m\u001b[43merrors\u001b[49m\u001b[43m)\u001b[49m\n\u001b[0;32m   4551\u001b[0m \u001b[38;5;28;01mif\u001b[39;00m inplace:\n\u001b[0;32m   4552\u001b[0m     \u001b[38;5;28mself\u001b[39m\u001b[38;5;241m.\u001b[39m_update_inplace(obj)\n",
      "File \u001b[1;32m~\\AppData\\Local\\Programs\\Python\\Python39\\lib\\site-packages\\pandas\\core\\generic.py:4591\u001b[0m, in \u001b[0;36mNDFrame._drop_axis\u001b[1;34m(self, labels, axis, level, errors, only_slice)\u001b[0m\n\u001b[0;32m   4589\u001b[0m         new_axis \u001b[38;5;241m=\u001b[39m axis\u001b[38;5;241m.\u001b[39mdrop(labels, level\u001b[38;5;241m=\u001b[39mlevel, errors\u001b[38;5;241m=\u001b[39merrors)\n\u001b[0;32m   4590\u001b[0m     \u001b[38;5;28;01melse\u001b[39;00m:\n\u001b[1;32m-> 4591\u001b[0m         new_axis \u001b[38;5;241m=\u001b[39m \u001b[43maxis\u001b[49m\u001b[38;5;241;43m.\u001b[39;49m\u001b[43mdrop\u001b[49m\u001b[43m(\u001b[49m\u001b[43mlabels\u001b[49m\u001b[43m,\u001b[49m\u001b[43m \u001b[49m\u001b[43merrors\u001b[49m\u001b[38;5;241;43m=\u001b[39;49m\u001b[43merrors\u001b[49m\u001b[43m)\u001b[49m\n\u001b[0;32m   4592\u001b[0m     indexer \u001b[38;5;241m=\u001b[39m axis\u001b[38;5;241m.\u001b[39mget_indexer(new_axis)\n\u001b[0;32m   4594\u001b[0m \u001b[38;5;66;03m# Case for non-unique axis\u001b[39;00m\n\u001b[0;32m   4595\u001b[0m \u001b[38;5;28;01melse\u001b[39;00m:\n",
      "File \u001b[1;32m~\\AppData\\Local\\Programs\\Python\\Python39\\lib\\site-packages\\pandas\\core\\indexes\\base.py:6699\u001b[0m, in \u001b[0;36mIndex.drop\u001b[1;34m(self, labels, errors)\u001b[0m\n\u001b[0;32m   6697\u001b[0m \u001b[38;5;28;01mif\u001b[39;00m mask\u001b[38;5;241m.\u001b[39many():\n\u001b[0;32m   6698\u001b[0m     \u001b[38;5;28;01mif\u001b[39;00m errors \u001b[38;5;241m!=\u001b[39m \u001b[38;5;124m\"\u001b[39m\u001b[38;5;124mignore\u001b[39m\u001b[38;5;124m\"\u001b[39m:\n\u001b[1;32m-> 6699\u001b[0m         \u001b[38;5;28;01mraise\u001b[39;00m \u001b[38;5;167;01mKeyError\u001b[39;00m(\u001b[38;5;124mf\u001b[39m\u001b[38;5;124m\"\u001b[39m\u001b[38;5;132;01m{\u001b[39;00m\u001b[38;5;28mlist\u001b[39m(labels[mask])\u001b[38;5;132;01m}\u001b[39;00m\u001b[38;5;124m not found in axis\u001b[39m\u001b[38;5;124m\"\u001b[39m)\n\u001b[0;32m   6700\u001b[0m     indexer \u001b[38;5;241m=\u001b[39m indexer[\u001b[38;5;241m~\u001b[39mmask]\n\u001b[0;32m   6701\u001b[0m \u001b[38;5;28;01mreturn\u001b[39;00m \u001b[38;5;28mself\u001b[39m\u001b[38;5;241m.\u001b[39mdelete(indexer)\n",
      "\u001b[1;31mKeyError\u001b[0m: \"['Time'] not found in axis\""
     ]
    }
   ],
   "source": [
    "X_train.drop(['Time'], axis = 1, inplace = True)"
   ]
  },
  {
   "cell_type": "code",
   "execution_count": 71,
   "id": "b4a7f735-157d-4be2-84cb-354f3c4460ec",
   "metadata": {},
   "outputs": [],
   "source": [
    "X_test.drop(['Time'], axis = 1, inplace = True)"
   ]
  },
  {
   "cell_type": "code",
   "execution_count": 67,
   "id": "d1bd24d0-ef69-45a9-94bb-bf1010b68f38",
   "metadata": {},
   "outputs": [
    {
     "name": "stdout",
     "output_type": "stream",
     "text": [
      "Model: \"sequential_3\"\n",
      "_________________________________________________________________\n",
      " Layer (type)                Output Shape              Param #   \n",
      "=================================================================\n",
      " dense_7 (Dense)             (None, 8)                 112       \n",
      "                                                                 \n",
      " batch_normalization_2 (Bat  (None, 8)                 32        \n",
      " chNormalization)                                                \n",
      "                                                                 \n",
      " dropout_2 (Dropout)         (None, 8)                 0         \n",
      "                                                                 \n",
      " dense_8 (Dense)             (None, 8)                 72        \n",
      "                                                                 \n",
      " batch_normalization_3 (Bat  (None, 8)                 32        \n",
      " chNormalization)                                                \n",
      "                                                                 \n",
      " dropout_3 (Dropout)         (None, 8)                 0         \n",
      "                                                                 \n",
      " dense_9 (Dense)             (None, 1)                 9         \n",
      "                                                                 \n",
      "=================================================================\n",
      "Total params: 257 (1.00 KB)\n",
      "Trainable params: 225 (900.00 Byte)\n",
      "Non-trainable params: 32 (128.00 Byte)\n",
      "_________________________________________________________________\n"
     ]
    }
   ],
   "source": [
    "\n",
    "model = Sequential()\n",
    "model.add(Dense(8, activation='relu', input_shape=(X_train.shape[1],)))\n",
    "model.add(BatchNormalization())  # Add BatchNormalization\n",
    "model.add(Dropout(0.2))  # Add Dropout for regularization\n",
    "model.add(Dense(8, activation='relu'))\n",
    "model.add(BatchNormalization())  # Add BatchNormalization\n",
    "model.add(Dropout(0.2))  # Add Dropout for regularization\n",
    "model.add(Dense(1, activation='linear'))\n",
    "model.compile(loss='mae', optimizer='sgd', metrics=['mae'])\n",
    "model.summary()\n"
   ]
  },
  {
   "cell_type": "code",
   "execution_count": 68,
   "id": "d1d64d60-ad38-4760-b55c-078e52fe182e",
   "metadata": {},
   "outputs": [
    {
     "name": "stdout",
     "output_type": "stream",
     "text": [
      "Epoch 1/2\n",
      "78467/78467 [==============================] - 149s 2ms/step - loss: 11.3135 - mae: 11.3135\n",
      "Epoch 2/2\n",
      "78467/78467 [==============================] - 158s 2ms/step - loss: 11.0993 - mae: 11.0993\n"
     ]
    },
    {
     "data": {
      "text/plain": [
       "<keras.src.callbacks.History at 0x18a88524ee0>"
      ]
     },
     "execution_count": 68,
     "metadata": {},
     "output_type": "execute_result"
    }
   ],
   "source": [
    "model.fit(X_train, y_train,epochs=5, batch_size=1, verbose=1)"
   ]
  },
  {
   "cell_type": "code",
   "execution_count": 72,
   "id": "04460993-c7b2-4876-b469-83c15bd98d26",
   "metadata": {},
   "outputs": [
    {
     "name": "stdout",
     "output_type": "stream",
     "text": [
      "614/614 [==============================] - 1s 2ms/step\n",
      "614/614 [==============================] - 2s 2ms/step - loss: 1887.2445 - mae: 1887.2445\n",
      "[1887.2445068359375, 1887.2445068359375]\n"
     ]
    }
   ],
   "source": [
    "y_pred = model.predict(X_test)\n",
    "score = model.evaluate(X_test, y_test,verbose=1)\n",
    "print(score)"
   ]
  },
  {
   "cell_type": "code",
   "execution_count": null,
   "id": "bd176ed9-0aca-4b20-9c65-76c91f45d19b",
   "metadata": {},
   "outputs": [],
   "source": []
  },
  {
   "cell_type": "markdown",
   "id": "16bb275d-349d-407c-b913-8ad14ed25d26",
   "metadata": {},
   "source": [
    "# Submission"
   ]
  },
  {
   "cell_type": "code",
   "execution_count": 73,
   "id": "eb132745-5e44-43ea-b129-125beb6d71f0",
   "metadata": {},
   "outputs": [],
   "source": [
    "power_consumption_prediction = pd.read_csv('power_consumption_prediction.csv')"
   ]
  },
  {
   "cell_type": "code",
   "execution_count": 74,
   "id": "9ba0a81d-7ec9-4f98-a1a6-6d48a7f662b9",
   "metadata": {},
   "outputs": [
    {
     "data": {
      "text/plain": [
       "(26139, 4)"
      ]
     },
     "execution_count": 74,
     "metadata": {},
     "output_type": "execute_result"
    }
   ],
   "source": [
    "power_consumption_prediction.shape"
   ]
  },
  {
   "cell_type": "code",
   "execution_count": 75,
   "id": "7f0c98d0-ef5e-493c-8b09-cf2b1e3cf9dc",
   "metadata": {},
   "outputs": [
    {
     "data": {
      "text/html": [
       "<div>\n",
       "<style scoped>\n",
       "    .dataframe tbody tr th:only-of-type {\n",
       "        vertical-align: middle;\n",
       "    }\n",
       "\n",
       "    .dataframe tbody tr th {\n",
       "        vertical-align: top;\n",
       "    }\n",
       "\n",
       "    .dataframe thead th {\n",
       "        text-align: right;\n",
       "    }\n",
       "</style>\n",
       "<table border=\"1\" class=\"dataframe\">\n",
       "  <thead>\n",
       "    <tr style=\"text-align: right;\">\n",
       "      <th></th>\n",
       "      <th>Time</th>\n",
       "      <th>BS</th>\n",
       "      <th>Energy</th>\n",
       "      <th>w</th>\n",
       "    </tr>\n",
       "  </thead>\n",
       "  <tbody>\n",
       "    <tr>\n",
       "      <th>0</th>\n",
       "      <td>2023-01-01 06:00:00</td>\n",
       "      <td>B_0</td>\n",
       "      <td>NaN</td>\n",
       "      <td>1</td>\n",
       "    </tr>\n",
       "    <tr>\n",
       "      <th>1</th>\n",
       "      <td>2023-01-01 11:00:00</td>\n",
       "      <td>B_0</td>\n",
       "      <td>NaN</td>\n",
       "      <td>1</td>\n",
       "    </tr>\n",
       "    <tr>\n",
       "      <th>2</th>\n",
       "      <td>2023-01-01 12:00:00</td>\n",
       "      <td>B_0</td>\n",
       "      <td>NaN</td>\n",
       "      <td>1</td>\n",
       "    </tr>\n",
       "    <tr>\n",
       "      <th>3</th>\n",
       "      <td>2023-01-01 13:00:00</td>\n",
       "      <td>B_0</td>\n",
       "      <td>NaN</td>\n",
       "      <td>1</td>\n",
       "    </tr>\n",
       "    <tr>\n",
       "      <th>4</th>\n",
       "      <td>2023-01-01 23:00:00</td>\n",
       "      <td>B_0</td>\n",
       "      <td>NaN</td>\n",
       "      <td>1</td>\n",
       "    </tr>\n",
       "  </tbody>\n",
       "</table>\n",
       "</div>"
      ],
      "text/plain": [
       "                  Time   BS  Energy  w\n",
       "0  2023-01-01 06:00:00  B_0     NaN  1\n",
       "1  2023-01-01 11:00:00  B_0     NaN  1\n",
       "2  2023-01-01 12:00:00  B_0     NaN  1\n",
       "3  2023-01-01 13:00:00  B_0     NaN  1\n",
       "4  2023-01-01 23:00:00  B_0     NaN  1"
      ]
     },
     "execution_count": 75,
     "metadata": {},
     "output_type": "execute_result"
    }
   ],
   "source": [
    "power_consumption_prediction.head()"
   ]
  },
  {
   "cell_type": "code",
   "execution_count": 76,
   "id": "7ccebd43-3dad-430a-bbed-2808252c512a",
   "metadata": {},
   "outputs": [
    {
     "name": "stdout",
     "output_type": "stream",
     "text": [
      "Duplicate of power_consumption_prediction 0\n"
     ]
    }
   ],
   "source": [
    "print('Duplicate of power_consumption_prediction', power_consumption_prediction.duplicated().sum())"
   ]
  },
  {
   "cell_type": "code",
   "execution_count": 77,
   "id": "24239c49-9ba1-4a91-9c7f-c2372950a951",
   "metadata": {},
   "outputs": [],
   "source": [
    "w = power_consumption_prediction.w.tolist()\n",
    "power_consumption_prediction.drop(['Energy','w'],axis = 1, inplace = True)"
   ]
  },
  {
   "cell_type": "code",
   "execution_count": 78,
   "id": "124143cf-d6bc-4243-9fc4-f39fea6ca067",
   "metadata": {},
   "outputs": [],
   "source": [
    "power_consumption_prediction['Time'] = pd.to_datetime(power_consumption_prediction['Time'])\n",
    "cell_level_data['Time'] = pd.to_datetime(cell_level_data['Time'])"
   ]
  },
  {
   "cell_type": "code",
   "execution_count": 79,
   "id": "174e347b-bb04-48ca-a43e-c88043dc2d8a",
   "metadata": {},
   "outputs": [],
   "source": [
    "cell_level_with_energy_test = pd.merge(power_consumption_prediction, cell_level_data, on= ['BS', 'Time'], how = 'left')\n",
    "\n",
    "test_data = pd.merge(cell_level_with_energy_test, base_station_info, on= ['CellName','BS'], how = 'left')\n",
    "\n"
   ]
  },
  {
   "cell_type": "code",
   "execution_count": 80,
   "id": "31806c6d-8201-4063-ae3a-40a30643d656",
   "metadata": {},
   "outputs": [],
   "source": [
    "test_data['day'] = [i.day for i in test_data.Time]\n",
    "test_data['day_of_year'] = [i.dayofyear for i in test_data.Time]\n",
    "test_data['month'] = [i.month for i in test_data.Time]\n",
    "test_data['hour'] = [i.hour for i in test_data.Time]\n",
    "test_data['is_weekday'] = [i.isoweekday() for i in test_data.Time]"
   ]
  },
  {
   "cell_type": "code",
   "execution_count": 81,
   "id": "408e902b-f601-4456-bec9-1c0b58c19e1d",
   "metadata": {},
   "outputs": [
    {
     "data": {
      "text/plain": [
       "['ESMode3',\n",
       " 'day_of_year',\n",
       " 'Mode',\n",
       " 'ESMode4',\n",
       " 'ESMode2',\n",
       " 'datetime_column',\n",
       " 'month',\n",
       " 'ESMode5']"
      ]
     },
     "execution_count": 81,
     "metadata": {},
     "output_type": "execute_result"
    }
   ],
   "source": [
    "features_to_drop"
   ]
  },
  {
   "cell_type": "code",
   "execution_count": 82,
   "id": "6fb9b963-0130-4683-8353-b9b9b5473398",
   "metadata": {},
   "outputs": [],
   "source": [
    "\n",
    "test_data['datetime_column'] = (test_data['Time'] - test_data['Time'].min()).dt.days\n",
    "\n",
    "test_data.drop(features_to_drop, axis=1, inplace=True)\n",
    "\n",
    "\n",
    "test_data.drop(['Time'], axis = 1, inplace = True)\n",
    "\n",
    "# Preprocess categorical columns using label encoding\n",
    "\n",
    "\n",
    "for col, le in label_encoders.items():\n",
    "    try:\n",
    "        test_data[col] = le.transform(test_data[col])\n",
    "    except:\n",
    "        le = LabelEncoder()\n",
    "        test_data[col] = le.fit_transform(test_data[col])"
   ]
  },
  {
   "cell_type": "code",
   "execution_count": 87,
   "id": "dde78c9e-86a4-407f-9364-314df1df33a3",
   "metadata": {},
   "outputs": [
    {
     "data": {
      "text/html": [
       "<div>\n",
       "<style scoped>\n",
       "    .dataframe tbody tr th:only-of-type {\n",
       "        vertical-align: middle;\n",
       "    }\n",
       "\n",
       "    .dataframe tbody tr th {\n",
       "        vertical-align: top;\n",
       "    }\n",
       "\n",
       "    .dataframe thead th {\n",
       "        text-align: right;\n",
       "    }\n",
       "</style>\n",
       "<table border=\"1\" class=\"dataframe\">\n",
       "  <thead>\n",
       "    <tr style=\"text-align: right;\">\n",
       "      <th></th>\n",
       "      <th>count</th>\n",
       "      <th>mean</th>\n",
       "      <th>std</th>\n",
       "      <th>min</th>\n",
       "      <th>25%</th>\n",
       "      <th>50%</th>\n",
       "      <th>75%</th>\n",
       "      <th>max</th>\n",
       "    </tr>\n",
       "  </thead>\n",
       "  <tbody>\n",
       "    <tr>\n",
       "      <th>BS</th>\n",
       "      <td>27491.0</td>\n",
       "      <td>467.727365</td>\n",
       "      <td>272.734081</td>\n",
       "      <td>0.000000</td>\n",
       "      <td>236.000000</td>\n",
       "      <td>463.000000</td>\n",
       "      <td>693.000000</td>\n",
       "      <td>1017.000000</td>\n",
       "    </tr>\n",
       "    <tr>\n",
       "      <th>CellName</th>\n",
       "      <td>27491.0</td>\n",
       "      <td>0.050053</td>\n",
       "      <td>0.223332</td>\n",
       "      <td>0.000000</td>\n",
       "      <td>0.000000</td>\n",
       "      <td>0.000000</td>\n",
       "      <td>0.000000</td>\n",
       "      <td>3.000000</td>\n",
       "    </tr>\n",
       "    <tr>\n",
       "      <th>load</th>\n",
       "      <td>27491.0</td>\n",
       "      <td>0.228249</td>\n",
       "      <td>0.231658</td>\n",
       "      <td>0.000000</td>\n",
       "      <td>0.052412</td>\n",
       "      <td>0.139190</td>\n",
       "      <td>0.330575</td>\n",
       "      <td>0.993628</td>\n",
       "    </tr>\n",
       "    <tr>\n",
       "      <th>ESMode1</th>\n",
       "      <td>27491.0</td>\n",
       "      <td>0.044107</td>\n",
       "      <td>0.197708</td>\n",
       "      <td>0.000000</td>\n",
       "      <td>0.000000</td>\n",
       "      <td>0.000000</td>\n",
       "      <td>0.000000</td>\n",
       "      <td>1.000000</td>\n",
       "    </tr>\n",
       "    <tr>\n",
       "      <th>ESMode6</th>\n",
       "      <td>27491.0</td>\n",
       "      <td>0.068756</td>\n",
       "      <td>0.208067</td>\n",
       "      <td>0.000000</td>\n",
       "      <td>0.000000</td>\n",
       "      <td>0.000000</td>\n",
       "      <td>0.000000</td>\n",
       "      <td>0.930545</td>\n",
       "    </tr>\n",
       "    <tr>\n",
       "      <th>RUType</th>\n",
       "      <td>27491.0</td>\n",
       "      <td>5.019461</td>\n",
       "      <td>3.346208</td>\n",
       "      <td>0.000000</td>\n",
       "      <td>0.000000</td>\n",
       "      <td>6.000000</td>\n",
       "      <td>8.000000</td>\n",
       "      <td>11.000000</td>\n",
       "    </tr>\n",
       "    <tr>\n",
       "      <th>Frequency</th>\n",
       "      <td>27491.0</td>\n",
       "      <td>0.153115</td>\n",
       "      <td>1.212092</td>\n",
       "      <td>-1.564384</td>\n",
       "      <td>-1.319436</td>\n",
       "      <td>-0.028694</td>\n",
       "      <td>1.196044</td>\n",
       "      <td>4.481555</td>\n",
       "    </tr>\n",
       "    <tr>\n",
       "      <th>Bandwidth</th>\n",
       "      <td>27491.0</td>\n",
       "      <td>-0.151051</td>\n",
       "      <td>1.084042</td>\n",
       "      <td>-2.474733</td>\n",
       "      <td>-1.057072</td>\n",
       "      <td>0.715005</td>\n",
       "      <td>0.715005</td>\n",
       "      <td>0.715005</td>\n",
       "    </tr>\n",
       "    <tr>\n",
       "      <th>Antennas</th>\n",
       "      <td>27491.0</td>\n",
       "      <td>0.660488</td>\n",
       "      <td>4.318696</td>\n",
       "      <td>-0.585884</td>\n",
       "      <td>-0.090933</td>\n",
       "      <td>-0.090933</td>\n",
       "      <td>-0.090933</td>\n",
       "      <td>30.596064</td>\n",
       "    </tr>\n",
       "    <tr>\n",
       "      <th>TXpower</th>\n",
       "      <td>27491.0</td>\n",
       "      <td>0.172672</td>\n",
       "      <td>1.455469</td>\n",
       "      <td>-4.443319</td>\n",
       "      <td>-1.004503</td>\n",
       "      <td>0.469276</td>\n",
       "      <td>0.469276</td>\n",
       "      <td>5.397099</td>\n",
       "    </tr>\n",
       "    <tr>\n",
       "      <th>day</th>\n",
       "      <td>27491.0</td>\n",
       "      <td>3.386126</td>\n",
       "      <td>1.800694</td>\n",
       "      <td>1.000000</td>\n",
       "      <td>2.000000</td>\n",
       "      <td>3.000000</td>\n",
       "      <td>5.000000</td>\n",
       "      <td>8.000000</td>\n",
       "    </tr>\n",
       "    <tr>\n",
       "      <th>hour</th>\n",
       "      <td>27491.0</td>\n",
       "      <td>11.538940</td>\n",
       "      <td>6.874579</td>\n",
       "      <td>0.000000</td>\n",
       "      <td>6.000000</td>\n",
       "      <td>12.000000</td>\n",
       "      <td>17.000000</td>\n",
       "      <td>23.000000</td>\n",
       "    </tr>\n",
       "    <tr>\n",
       "      <th>is_weekday</th>\n",
       "      <td>27491.0</td>\n",
       "      <td>3.405660</td>\n",
       "      <td>2.115268</td>\n",
       "      <td>1.000000</td>\n",
       "      <td>1.000000</td>\n",
       "      <td>3.000000</td>\n",
       "      <td>5.000000</td>\n",
       "      <td>7.000000</td>\n",
       "    </tr>\n",
       "  </tbody>\n",
       "</table>\n",
       "</div>"
      ],
      "text/plain": [
       "              count        mean         std       min         25%         50%  \\\n",
       "BS          27491.0  467.727365  272.734081  0.000000  236.000000  463.000000   \n",
       "CellName    27491.0    0.050053    0.223332  0.000000    0.000000    0.000000   \n",
       "load        27491.0    0.228249    0.231658  0.000000    0.052412    0.139190   \n",
       "ESMode1     27491.0    0.044107    0.197708  0.000000    0.000000    0.000000   \n",
       "ESMode6     27491.0    0.068756    0.208067  0.000000    0.000000    0.000000   \n",
       "RUType      27491.0    5.019461    3.346208  0.000000    0.000000    6.000000   \n",
       "Frequency   27491.0    0.153115    1.212092 -1.564384   -1.319436   -0.028694   \n",
       "Bandwidth   27491.0   -0.151051    1.084042 -2.474733   -1.057072    0.715005   \n",
       "Antennas    27491.0    0.660488    4.318696 -0.585884   -0.090933   -0.090933   \n",
       "TXpower     27491.0    0.172672    1.455469 -4.443319   -1.004503    0.469276   \n",
       "day         27491.0    3.386126    1.800694  1.000000    2.000000    3.000000   \n",
       "hour        27491.0   11.538940    6.874579  0.000000    6.000000   12.000000   \n",
       "is_weekday  27491.0    3.405660    2.115268  1.000000    1.000000    3.000000   \n",
       "\n",
       "                   75%          max  \n",
       "BS          693.000000  1017.000000  \n",
       "CellName      0.000000     3.000000  \n",
       "load          0.330575     0.993628  \n",
       "ESMode1       0.000000     1.000000  \n",
       "ESMode6       0.000000     0.930545  \n",
       "RUType        8.000000    11.000000  \n",
       "Frequency     1.196044     4.481555  \n",
       "Bandwidth     0.715005     0.715005  \n",
       "Antennas     -0.090933    30.596064  \n",
       "TXpower       0.469276     5.397099  \n",
       "day           5.000000     8.000000  \n",
       "hour         17.000000    23.000000  \n",
       "is_weekday    5.000000     7.000000  "
      ]
     },
     "execution_count": 87,
     "metadata": {},
     "output_type": "execute_result"
    }
   ],
   "source": [
    "test_data.describe().T"
   ]
  },
  {
   "cell_type": "code",
   "execution_count": 88,
   "id": "68db7eca-f9de-4a70-80d0-4ff7e6e24cd1",
   "metadata": {},
   "outputs": [],
   "source": [
    "test_data[numerical_cols] = scaler.transform(test_data[numerical_cols])"
   ]
  },
  {
   "cell_type": "code",
   "execution_count": 89,
   "id": "ae62d8f9-ca9b-408e-bc4a-cb4c4a39b366",
   "metadata": {},
   "outputs": [
    {
     "name": "stdout",
     "output_type": "stream",
     "text": [
      "860/860 [==============================] - 1s 2ms/step\n"
     ]
    }
   ],
   "source": [
    "energy_pred = model.predict(test_data)"
   ]
  },
  {
   "cell_type": "code",
   "execution_count": null,
   "id": "5de38ce4-7237-49ce-9c30-500e5f77e0fd",
   "metadata": {},
   "outputs": [],
   "source": []
  },
  {
   "cell_type": "code",
   "execution_count": 91,
   "id": "9e918587-a210-4752-9128-c6917200f68c",
   "metadata": {},
   "outputs": [
    {
     "data": {
      "text/plain": [
       "27491"
      ]
     },
     "execution_count": 91,
     "metadata": {},
     "output_type": "execute_result"
    }
   ],
   "source": [
    "len(energy_pred.tolist())\n"
   ]
  },
  {
   "cell_type": "code",
   "execution_count": null,
   "id": "c1360645-e1e9-4547-abb8-7afdc0c3c37e",
   "metadata": {},
   "outputs": [],
   "source": []
  },
  {
   "cell_type": "code",
   "execution_count": null,
   "id": "56c52f90-ea0a-4b9b-ab9a-f01231a46b55",
   "metadata": {},
   "outputs": [],
   "source": []
  }
 ],
 "metadata": {
  "kernelspec": {
   "display_name": "Python 3 (ipykernel)",
   "language": "python",
   "name": "python3"
  },
  "language_info": {
   "codemirror_mode": {
    "name": "ipython",
    "version": 3
   },
   "file_extension": ".py",
   "mimetype": "text/x-python",
   "name": "python",
   "nbconvert_exporter": "python",
   "pygments_lexer": "ipython3",
   "version": "3.9.13"
  }
 },
 "nbformat": 4,
 "nbformat_minor": 5
}
