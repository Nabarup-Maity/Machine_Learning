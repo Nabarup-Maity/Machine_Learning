{
  "nbformat": 4,
  "nbformat_minor": 0,
  "metadata": {
    "orig_nbformat": 4,
    "language_info": {
      "name": "python",
      "version": "3.7.11",
      "mimetype": "text/x-python",
      "codemirror_mode": {
        "name": "ipython",
        "version": 3
      },
      "pygments_lexer": "ipython3",
      "nbconvert_exporter": "python",
      "file_extension": ".py"
    },
    "kernelspec": {
      "name": "python3",
      "display_name": "Python 3.7.11 64-bit (conda)"
    },
    "interpreter": {
      "hash": "a058c225e0b85d462dc242efc5fd83c59264e089b0b6ce99cdb47029e80f46cc"
    },
    "colab": {
      "provenance": [],
      "include_colab_link": true
    },
    "widgets": {
      "application/vnd.jupyter.widget-state+json": {
        "70d987ba9f6b466a9c768b54a1d94578": {
          "model_module": "@jupyter-widgets/controls",
          "model_name": "HBoxModel",
          "model_module_version": "1.5.0",
          "state": {
            "_dom_classes": [],
            "_model_module": "@jupyter-widgets/controls",
            "_model_module_version": "1.5.0",
            "_model_name": "HBoxModel",
            "_view_count": null,
            "_view_module": "@jupyter-widgets/controls",
            "_view_module_version": "1.5.0",
            "_view_name": "HBoxView",
            "box_style": "",
            "children": [
              "IPY_MODEL_f1b64da7bc8a45aba604c23130e54fad",
              "IPY_MODEL_d4859fd6c921462595a0d856d762d681",
              "IPY_MODEL_504e6fc7a3b540b5ac0982d3c5b8b088"
            ],
            "layout": "IPY_MODEL_097c6e4fd7d3417298320114e8298bb2"
          }
        },
        "f1b64da7bc8a45aba604c23130e54fad": {
          "model_module": "@jupyter-widgets/controls",
          "model_name": "HTMLModel",
          "model_module_version": "1.5.0",
          "state": {
            "_dom_classes": [],
            "_model_module": "@jupyter-widgets/controls",
            "_model_module_version": "1.5.0",
            "_model_name": "HTMLModel",
            "_view_count": null,
            "_view_module": "@jupyter-widgets/controls",
            "_view_module_version": "1.5.0",
            "_view_name": "HTMLView",
            "description": "",
            "description_tooltip": null,
            "layout": "IPY_MODEL_2a8d5c964db44402ab90a277270c1010",
            "placeholder": "​",
            "style": "IPY_MODEL_82a8d8d9a5cd4625b4ffae8fafc2416b",
            "value": "Downloading: 100%"
          }
        },
        "d4859fd6c921462595a0d856d762d681": {
          "model_module": "@jupyter-widgets/controls",
          "model_name": "FloatProgressModel",
          "model_module_version": "1.5.0",
          "state": {
            "_dom_classes": [],
            "_model_module": "@jupyter-widgets/controls",
            "_model_module_version": "1.5.0",
            "_model_name": "FloatProgressModel",
            "_view_count": null,
            "_view_module": "@jupyter-widgets/controls",
            "_view_module_version": "1.5.0",
            "_view_name": "ProgressView",
            "bar_style": "success",
            "description": "",
            "description_tooltip": null,
            "layout": "IPY_MODEL_a48a1746a8b940a4b845fbb946c1caa0",
            "max": 231508,
            "min": 0,
            "orientation": "horizontal",
            "style": "IPY_MODEL_610290055fed4a3b824771e1c560bb84",
            "value": 231508
          }
        },
        "504e6fc7a3b540b5ac0982d3c5b8b088": {
          "model_module": "@jupyter-widgets/controls",
          "model_name": "HTMLModel",
          "model_module_version": "1.5.0",
          "state": {
            "_dom_classes": [],
            "_model_module": "@jupyter-widgets/controls",
            "_model_module_version": "1.5.0",
            "_model_name": "HTMLModel",
            "_view_count": null,
            "_view_module": "@jupyter-widgets/controls",
            "_view_module_version": "1.5.0",
            "_view_name": "HTMLView",
            "description": "",
            "description_tooltip": null,
            "layout": "IPY_MODEL_05d4f317425d40558b2756187718b4c2",
            "placeholder": "​",
            "style": "IPY_MODEL_68a517d6986e4c9db752d899b2563e46",
            "value": " 226k/226k [00:00&lt;00:00, 377kB/s]"
          }
        },
        "097c6e4fd7d3417298320114e8298bb2": {
          "model_module": "@jupyter-widgets/base",
          "model_name": "LayoutModel",
          "model_module_version": "1.2.0",
          "state": {
            "_model_module": "@jupyter-widgets/base",
            "_model_module_version": "1.2.0",
            "_model_name": "LayoutModel",
            "_view_count": null,
            "_view_module": "@jupyter-widgets/base",
            "_view_module_version": "1.2.0",
            "_view_name": "LayoutView",
            "align_content": null,
            "align_items": null,
            "align_self": null,
            "border": null,
            "bottom": null,
            "display": null,
            "flex": null,
            "flex_flow": null,
            "grid_area": null,
            "grid_auto_columns": null,
            "grid_auto_flow": null,
            "grid_auto_rows": null,
            "grid_column": null,
            "grid_gap": null,
            "grid_row": null,
            "grid_template_areas": null,
            "grid_template_columns": null,
            "grid_template_rows": null,
            "height": null,
            "justify_content": null,
            "justify_items": null,
            "left": null,
            "margin": null,
            "max_height": null,
            "max_width": null,
            "min_height": null,
            "min_width": null,
            "object_fit": null,
            "object_position": null,
            "order": null,
            "overflow": null,
            "overflow_x": null,
            "overflow_y": null,
            "padding": null,
            "right": null,
            "top": null,
            "visibility": null,
            "width": null
          }
        },
        "2a8d5c964db44402ab90a277270c1010": {
          "model_module": "@jupyter-widgets/base",
          "model_name": "LayoutModel",
          "model_module_version": "1.2.0",
          "state": {
            "_model_module": "@jupyter-widgets/base",
            "_model_module_version": "1.2.0",
            "_model_name": "LayoutModel",
            "_view_count": null,
            "_view_module": "@jupyter-widgets/base",
            "_view_module_version": "1.2.0",
            "_view_name": "LayoutView",
            "align_content": null,
            "align_items": null,
            "align_self": null,
            "border": null,
            "bottom": null,
            "display": null,
            "flex": null,
            "flex_flow": null,
            "grid_area": null,
            "grid_auto_columns": null,
            "grid_auto_flow": null,
            "grid_auto_rows": null,
            "grid_column": null,
            "grid_gap": null,
            "grid_row": null,
            "grid_template_areas": null,
            "grid_template_columns": null,
            "grid_template_rows": null,
            "height": null,
            "justify_content": null,
            "justify_items": null,
            "left": null,
            "margin": null,
            "max_height": null,
            "max_width": null,
            "min_height": null,
            "min_width": null,
            "object_fit": null,
            "object_position": null,
            "order": null,
            "overflow": null,
            "overflow_x": null,
            "overflow_y": null,
            "padding": null,
            "right": null,
            "top": null,
            "visibility": null,
            "width": null
          }
        },
        "82a8d8d9a5cd4625b4ffae8fafc2416b": {
          "model_module": "@jupyter-widgets/controls",
          "model_name": "DescriptionStyleModel",
          "model_module_version": "1.5.0",
          "state": {
            "_model_module": "@jupyter-widgets/controls",
            "_model_module_version": "1.5.0",
            "_model_name": "DescriptionStyleModel",
            "_view_count": null,
            "_view_module": "@jupyter-widgets/base",
            "_view_module_version": "1.2.0",
            "_view_name": "StyleView",
            "description_width": ""
          }
        },
        "a48a1746a8b940a4b845fbb946c1caa0": {
          "model_module": "@jupyter-widgets/base",
          "model_name": "LayoutModel",
          "model_module_version": "1.2.0",
          "state": {
            "_model_module": "@jupyter-widgets/base",
            "_model_module_version": "1.2.0",
            "_model_name": "LayoutModel",
            "_view_count": null,
            "_view_module": "@jupyter-widgets/base",
            "_view_module_version": "1.2.0",
            "_view_name": "LayoutView",
            "align_content": null,
            "align_items": null,
            "align_self": null,
            "border": null,
            "bottom": null,
            "display": null,
            "flex": null,
            "flex_flow": null,
            "grid_area": null,
            "grid_auto_columns": null,
            "grid_auto_flow": null,
            "grid_auto_rows": null,
            "grid_column": null,
            "grid_gap": null,
            "grid_row": null,
            "grid_template_areas": null,
            "grid_template_columns": null,
            "grid_template_rows": null,
            "height": null,
            "justify_content": null,
            "justify_items": null,
            "left": null,
            "margin": null,
            "max_height": null,
            "max_width": null,
            "min_height": null,
            "min_width": null,
            "object_fit": null,
            "object_position": null,
            "order": null,
            "overflow": null,
            "overflow_x": null,
            "overflow_y": null,
            "padding": null,
            "right": null,
            "top": null,
            "visibility": null,
            "width": null
          }
        },
        "610290055fed4a3b824771e1c560bb84": {
          "model_module": "@jupyter-widgets/controls",
          "model_name": "ProgressStyleModel",
          "model_module_version": "1.5.0",
          "state": {
            "_model_module": "@jupyter-widgets/controls",
            "_model_module_version": "1.5.0",
            "_model_name": "ProgressStyleModel",
            "_view_count": null,
            "_view_module": "@jupyter-widgets/base",
            "_view_module_version": "1.2.0",
            "_view_name": "StyleView",
            "bar_color": null,
            "description_width": ""
          }
        },
        "05d4f317425d40558b2756187718b4c2": {
          "model_module": "@jupyter-widgets/base",
          "model_name": "LayoutModel",
          "model_module_version": "1.2.0",
          "state": {
            "_model_module": "@jupyter-widgets/base",
            "_model_module_version": "1.2.0",
            "_model_name": "LayoutModel",
            "_view_count": null,
            "_view_module": "@jupyter-widgets/base",
            "_view_module_version": "1.2.0",
            "_view_name": "LayoutView",
            "align_content": null,
            "align_items": null,
            "align_self": null,
            "border": null,
            "bottom": null,
            "display": null,
            "flex": null,
            "flex_flow": null,
            "grid_area": null,
            "grid_auto_columns": null,
            "grid_auto_flow": null,
            "grid_auto_rows": null,
            "grid_column": null,
            "grid_gap": null,
            "grid_row": null,
            "grid_template_areas": null,
            "grid_template_columns": null,
            "grid_template_rows": null,
            "height": null,
            "justify_content": null,
            "justify_items": null,
            "left": null,
            "margin": null,
            "max_height": null,
            "max_width": null,
            "min_height": null,
            "min_width": null,
            "object_fit": null,
            "object_position": null,
            "order": null,
            "overflow": null,
            "overflow_x": null,
            "overflow_y": null,
            "padding": null,
            "right": null,
            "top": null,
            "visibility": null,
            "width": null
          }
        },
        "68a517d6986e4c9db752d899b2563e46": {
          "model_module": "@jupyter-widgets/controls",
          "model_name": "DescriptionStyleModel",
          "model_module_version": "1.5.0",
          "state": {
            "_model_module": "@jupyter-widgets/controls",
            "_model_module_version": "1.5.0",
            "_model_name": "DescriptionStyleModel",
            "_view_count": null,
            "_view_module": "@jupyter-widgets/base",
            "_view_module_version": "1.2.0",
            "_view_name": "StyleView",
            "description_width": ""
          }
        },
        "67df7d3835c645c49ed36b7054ad0420": {
          "model_module": "@jupyter-widgets/controls",
          "model_name": "HBoxModel",
          "model_module_version": "1.5.0",
          "state": {
            "_dom_classes": [],
            "_model_module": "@jupyter-widgets/controls",
            "_model_module_version": "1.5.0",
            "_model_name": "HBoxModel",
            "_view_count": null,
            "_view_module": "@jupyter-widgets/controls",
            "_view_module_version": "1.5.0",
            "_view_name": "HBoxView",
            "box_style": "",
            "children": [
              "IPY_MODEL_5a6ff67fe41d48229ad1e3208eb1d7fa",
              "IPY_MODEL_266fd79f961e4cd799700748e7f8169a",
              "IPY_MODEL_794a917080f944f999614ae8b67cfddc"
            ],
            "layout": "IPY_MODEL_f59862e1c677402885c992149772ca50"
          }
        },
        "5a6ff67fe41d48229ad1e3208eb1d7fa": {
          "model_module": "@jupyter-widgets/controls",
          "model_name": "HTMLModel",
          "model_module_version": "1.5.0",
          "state": {
            "_dom_classes": [],
            "_model_module": "@jupyter-widgets/controls",
            "_model_module_version": "1.5.0",
            "_model_name": "HTMLModel",
            "_view_count": null,
            "_view_module": "@jupyter-widgets/controls",
            "_view_module_version": "1.5.0",
            "_view_name": "HTMLView",
            "description": "",
            "description_tooltip": null,
            "layout": "IPY_MODEL_293e0c1d2a684f2990633113c5fcf6ac",
            "placeholder": "​",
            "style": "IPY_MODEL_4500177962f441caa28e513ac650f397",
            "value": "Downloading: 100%"
          }
        },
        "266fd79f961e4cd799700748e7f8169a": {
          "model_module": "@jupyter-widgets/controls",
          "model_name": "FloatProgressModel",
          "model_module_version": "1.5.0",
          "state": {
            "_dom_classes": [],
            "_model_module": "@jupyter-widgets/controls",
            "_model_module_version": "1.5.0",
            "_model_name": "FloatProgressModel",
            "_view_count": null,
            "_view_module": "@jupyter-widgets/controls",
            "_view_module_version": "1.5.0",
            "_view_name": "ProgressView",
            "bar_style": "success",
            "description": "",
            "description_tooltip": null,
            "layout": "IPY_MODEL_a8ddf5ad4eac400997f7eb67cc9eb373",
            "max": 28,
            "min": 0,
            "orientation": "horizontal",
            "style": "IPY_MODEL_dddb2440770f4a7798796225463fd69c",
            "value": 28
          }
        },
        "794a917080f944f999614ae8b67cfddc": {
          "model_module": "@jupyter-widgets/controls",
          "model_name": "HTMLModel",
          "model_module_version": "1.5.0",
          "state": {
            "_dom_classes": [],
            "_model_module": "@jupyter-widgets/controls",
            "_model_module_version": "1.5.0",
            "_model_name": "HTMLModel",
            "_view_count": null,
            "_view_module": "@jupyter-widgets/controls",
            "_view_module_version": "1.5.0",
            "_view_name": "HTMLView",
            "description": "",
            "description_tooltip": null,
            "layout": "IPY_MODEL_398a5976bf51431185a838dba7e360ce",
            "placeholder": "​",
            "style": "IPY_MODEL_87877bae6dc84879a128405ecfa2047c",
            "value": " 28.0/28.0 [00:00&lt;00:00, 550B/s]"
          }
        },
        "f59862e1c677402885c992149772ca50": {
          "model_module": "@jupyter-widgets/base",
          "model_name": "LayoutModel",
          "model_module_version": "1.2.0",
          "state": {
            "_model_module": "@jupyter-widgets/base",
            "_model_module_version": "1.2.0",
            "_model_name": "LayoutModel",
            "_view_count": null,
            "_view_module": "@jupyter-widgets/base",
            "_view_module_version": "1.2.0",
            "_view_name": "LayoutView",
            "align_content": null,
            "align_items": null,
            "align_self": null,
            "border": null,
            "bottom": null,
            "display": null,
            "flex": null,
            "flex_flow": null,
            "grid_area": null,
            "grid_auto_columns": null,
            "grid_auto_flow": null,
            "grid_auto_rows": null,
            "grid_column": null,
            "grid_gap": null,
            "grid_row": null,
            "grid_template_areas": null,
            "grid_template_columns": null,
            "grid_template_rows": null,
            "height": null,
            "justify_content": null,
            "justify_items": null,
            "left": null,
            "margin": null,
            "max_height": null,
            "max_width": null,
            "min_height": null,
            "min_width": null,
            "object_fit": null,
            "object_position": null,
            "order": null,
            "overflow": null,
            "overflow_x": null,
            "overflow_y": null,
            "padding": null,
            "right": null,
            "top": null,
            "visibility": null,
            "width": null
          }
        },
        "293e0c1d2a684f2990633113c5fcf6ac": {
          "model_module": "@jupyter-widgets/base",
          "model_name": "LayoutModel",
          "model_module_version": "1.2.0",
          "state": {
            "_model_module": "@jupyter-widgets/base",
            "_model_module_version": "1.2.0",
            "_model_name": "LayoutModel",
            "_view_count": null,
            "_view_module": "@jupyter-widgets/base",
            "_view_module_version": "1.2.0",
            "_view_name": "LayoutView",
            "align_content": null,
            "align_items": null,
            "align_self": null,
            "border": null,
            "bottom": null,
            "display": null,
            "flex": null,
            "flex_flow": null,
            "grid_area": null,
            "grid_auto_columns": null,
            "grid_auto_flow": null,
            "grid_auto_rows": null,
            "grid_column": null,
            "grid_gap": null,
            "grid_row": null,
            "grid_template_areas": null,
            "grid_template_columns": null,
            "grid_template_rows": null,
            "height": null,
            "justify_content": null,
            "justify_items": null,
            "left": null,
            "margin": null,
            "max_height": null,
            "max_width": null,
            "min_height": null,
            "min_width": null,
            "object_fit": null,
            "object_position": null,
            "order": null,
            "overflow": null,
            "overflow_x": null,
            "overflow_y": null,
            "padding": null,
            "right": null,
            "top": null,
            "visibility": null,
            "width": null
          }
        },
        "4500177962f441caa28e513ac650f397": {
          "model_module": "@jupyter-widgets/controls",
          "model_name": "DescriptionStyleModel",
          "model_module_version": "1.5.0",
          "state": {
            "_model_module": "@jupyter-widgets/controls",
            "_model_module_version": "1.5.0",
            "_model_name": "DescriptionStyleModel",
            "_view_count": null,
            "_view_module": "@jupyter-widgets/base",
            "_view_module_version": "1.2.0",
            "_view_name": "StyleView",
            "description_width": ""
          }
        },
        "a8ddf5ad4eac400997f7eb67cc9eb373": {
          "model_module": "@jupyter-widgets/base",
          "model_name": "LayoutModel",
          "model_module_version": "1.2.0",
          "state": {
            "_model_module": "@jupyter-widgets/base",
            "_model_module_version": "1.2.0",
            "_model_name": "LayoutModel",
            "_view_count": null,
            "_view_module": "@jupyter-widgets/base",
            "_view_module_version": "1.2.0",
            "_view_name": "LayoutView",
            "align_content": null,
            "align_items": null,
            "align_self": null,
            "border": null,
            "bottom": null,
            "display": null,
            "flex": null,
            "flex_flow": null,
            "grid_area": null,
            "grid_auto_columns": null,
            "grid_auto_flow": null,
            "grid_auto_rows": null,
            "grid_column": null,
            "grid_gap": null,
            "grid_row": null,
            "grid_template_areas": null,
            "grid_template_columns": null,
            "grid_template_rows": null,
            "height": null,
            "justify_content": null,
            "justify_items": null,
            "left": null,
            "margin": null,
            "max_height": null,
            "max_width": null,
            "min_height": null,
            "min_width": null,
            "object_fit": null,
            "object_position": null,
            "order": null,
            "overflow": null,
            "overflow_x": null,
            "overflow_y": null,
            "padding": null,
            "right": null,
            "top": null,
            "visibility": null,
            "width": null
          }
        },
        "dddb2440770f4a7798796225463fd69c": {
          "model_module": "@jupyter-widgets/controls",
          "model_name": "ProgressStyleModel",
          "model_module_version": "1.5.0",
          "state": {
            "_model_module": "@jupyter-widgets/controls",
            "_model_module_version": "1.5.0",
            "_model_name": "ProgressStyleModel",
            "_view_count": null,
            "_view_module": "@jupyter-widgets/base",
            "_view_module_version": "1.2.0",
            "_view_name": "StyleView",
            "bar_color": null,
            "description_width": ""
          }
        },
        "398a5976bf51431185a838dba7e360ce": {
          "model_module": "@jupyter-widgets/base",
          "model_name": "LayoutModel",
          "model_module_version": "1.2.0",
          "state": {
            "_model_module": "@jupyter-widgets/base",
            "_model_module_version": "1.2.0",
            "_model_name": "LayoutModel",
            "_view_count": null,
            "_view_module": "@jupyter-widgets/base",
            "_view_module_version": "1.2.0",
            "_view_name": "LayoutView",
            "align_content": null,
            "align_items": null,
            "align_self": null,
            "border": null,
            "bottom": null,
            "display": null,
            "flex": null,
            "flex_flow": null,
            "grid_area": null,
            "grid_auto_columns": null,
            "grid_auto_flow": null,
            "grid_auto_rows": null,
            "grid_column": null,
            "grid_gap": null,
            "grid_row": null,
            "grid_template_areas": null,
            "grid_template_columns": null,
            "grid_template_rows": null,
            "height": null,
            "justify_content": null,
            "justify_items": null,
            "left": null,
            "margin": null,
            "max_height": null,
            "max_width": null,
            "min_height": null,
            "min_width": null,
            "object_fit": null,
            "object_position": null,
            "order": null,
            "overflow": null,
            "overflow_x": null,
            "overflow_y": null,
            "padding": null,
            "right": null,
            "top": null,
            "visibility": null,
            "width": null
          }
        },
        "87877bae6dc84879a128405ecfa2047c": {
          "model_module": "@jupyter-widgets/controls",
          "model_name": "DescriptionStyleModel",
          "model_module_version": "1.5.0",
          "state": {
            "_model_module": "@jupyter-widgets/controls",
            "_model_module_version": "1.5.0",
            "_model_name": "DescriptionStyleModel",
            "_view_count": null,
            "_view_module": "@jupyter-widgets/base",
            "_view_module_version": "1.2.0",
            "_view_name": "StyleView",
            "description_width": ""
          }
        },
        "58be7089752143419202faf83956d652": {
          "model_module": "@jupyter-widgets/controls",
          "model_name": "HBoxModel",
          "model_module_version": "1.5.0",
          "state": {
            "_dom_classes": [],
            "_model_module": "@jupyter-widgets/controls",
            "_model_module_version": "1.5.0",
            "_model_name": "HBoxModel",
            "_view_count": null,
            "_view_module": "@jupyter-widgets/controls",
            "_view_module_version": "1.5.0",
            "_view_name": "HBoxView",
            "box_style": "",
            "children": [
              "IPY_MODEL_87ce3b5f9cad4caab20a2f2c40ef2340",
              "IPY_MODEL_9378217fa2be4451be514a4dfc0445b6",
              "IPY_MODEL_2a8a2f3f1da34afbb363707ac5f48ff3"
            ],
            "layout": "IPY_MODEL_fd2ed567049a406498ac110b3a023885"
          }
        },
        "87ce3b5f9cad4caab20a2f2c40ef2340": {
          "model_module": "@jupyter-widgets/controls",
          "model_name": "HTMLModel",
          "model_module_version": "1.5.0",
          "state": {
            "_dom_classes": [],
            "_model_module": "@jupyter-widgets/controls",
            "_model_module_version": "1.5.0",
            "_model_name": "HTMLModel",
            "_view_count": null,
            "_view_module": "@jupyter-widgets/controls",
            "_view_module_version": "1.5.0",
            "_view_name": "HTMLView",
            "description": "",
            "description_tooltip": null,
            "layout": "IPY_MODEL_f0e636ef1dc94264a67cf76a81a5facd",
            "placeholder": "​",
            "style": "IPY_MODEL_84b5eb30f4ca41e2ae01a39efdffd966",
            "value": "Downloading: 100%"
          }
        },
        "9378217fa2be4451be514a4dfc0445b6": {
          "model_module": "@jupyter-widgets/controls",
          "model_name": "FloatProgressModel",
          "model_module_version": "1.5.0",
          "state": {
            "_dom_classes": [],
            "_model_module": "@jupyter-widgets/controls",
            "_model_module_version": "1.5.0",
            "_model_name": "FloatProgressModel",
            "_view_count": null,
            "_view_module": "@jupyter-widgets/controls",
            "_view_module_version": "1.5.0",
            "_view_name": "ProgressView",
            "bar_style": "success",
            "description": "",
            "description_tooltip": null,
            "layout": "IPY_MODEL_b0a0f650b1794a16aaca9d18371e423a",
            "max": 466062,
            "min": 0,
            "orientation": "horizontal",
            "style": "IPY_MODEL_2316037518dd4822a130cdce0d159682",
            "value": 466062
          }
        },
        "2a8a2f3f1da34afbb363707ac5f48ff3": {
          "model_module": "@jupyter-widgets/controls",
          "model_name": "HTMLModel",
          "model_module_version": "1.5.0",
          "state": {
            "_dom_classes": [],
            "_model_module": "@jupyter-widgets/controls",
            "_model_module_version": "1.5.0",
            "_model_name": "HTMLModel",
            "_view_count": null,
            "_view_module": "@jupyter-widgets/controls",
            "_view_module_version": "1.5.0",
            "_view_name": "HTMLView",
            "description": "",
            "description_tooltip": null,
            "layout": "IPY_MODEL_e52628a88dd64a419c20d639828bb77a",
            "placeholder": "​",
            "style": "IPY_MODEL_e8ba0db20e6a49b4a65dd23060e504bb",
            "value": " 455k/455k [00:00&lt;00:00, 563kB/s]"
          }
        },
        "fd2ed567049a406498ac110b3a023885": {
          "model_module": "@jupyter-widgets/base",
          "model_name": "LayoutModel",
          "model_module_version": "1.2.0",
          "state": {
            "_model_module": "@jupyter-widgets/base",
            "_model_module_version": "1.2.0",
            "_model_name": "LayoutModel",
            "_view_count": null,
            "_view_module": "@jupyter-widgets/base",
            "_view_module_version": "1.2.0",
            "_view_name": "LayoutView",
            "align_content": null,
            "align_items": null,
            "align_self": null,
            "border": null,
            "bottom": null,
            "display": null,
            "flex": null,
            "flex_flow": null,
            "grid_area": null,
            "grid_auto_columns": null,
            "grid_auto_flow": null,
            "grid_auto_rows": null,
            "grid_column": null,
            "grid_gap": null,
            "grid_row": null,
            "grid_template_areas": null,
            "grid_template_columns": null,
            "grid_template_rows": null,
            "height": null,
            "justify_content": null,
            "justify_items": null,
            "left": null,
            "margin": null,
            "max_height": null,
            "max_width": null,
            "min_height": null,
            "min_width": null,
            "object_fit": null,
            "object_position": null,
            "order": null,
            "overflow": null,
            "overflow_x": null,
            "overflow_y": null,
            "padding": null,
            "right": null,
            "top": null,
            "visibility": null,
            "width": null
          }
        },
        "f0e636ef1dc94264a67cf76a81a5facd": {
          "model_module": "@jupyter-widgets/base",
          "model_name": "LayoutModel",
          "model_module_version": "1.2.0",
          "state": {
            "_model_module": "@jupyter-widgets/base",
            "_model_module_version": "1.2.0",
            "_model_name": "LayoutModel",
            "_view_count": null,
            "_view_module": "@jupyter-widgets/base",
            "_view_module_version": "1.2.0",
            "_view_name": "LayoutView",
            "align_content": null,
            "align_items": null,
            "align_self": null,
            "border": null,
            "bottom": null,
            "display": null,
            "flex": null,
            "flex_flow": null,
            "grid_area": null,
            "grid_auto_columns": null,
            "grid_auto_flow": null,
            "grid_auto_rows": null,
            "grid_column": null,
            "grid_gap": null,
            "grid_row": null,
            "grid_template_areas": null,
            "grid_template_columns": null,
            "grid_template_rows": null,
            "height": null,
            "justify_content": null,
            "justify_items": null,
            "left": null,
            "margin": null,
            "max_height": null,
            "max_width": null,
            "min_height": null,
            "min_width": null,
            "object_fit": null,
            "object_position": null,
            "order": null,
            "overflow": null,
            "overflow_x": null,
            "overflow_y": null,
            "padding": null,
            "right": null,
            "top": null,
            "visibility": null,
            "width": null
          }
        },
        "84b5eb30f4ca41e2ae01a39efdffd966": {
          "model_module": "@jupyter-widgets/controls",
          "model_name": "DescriptionStyleModel",
          "model_module_version": "1.5.0",
          "state": {
            "_model_module": "@jupyter-widgets/controls",
            "_model_module_version": "1.5.0",
            "_model_name": "DescriptionStyleModel",
            "_view_count": null,
            "_view_module": "@jupyter-widgets/base",
            "_view_module_version": "1.2.0",
            "_view_name": "StyleView",
            "description_width": ""
          }
        },
        "b0a0f650b1794a16aaca9d18371e423a": {
          "model_module": "@jupyter-widgets/base",
          "model_name": "LayoutModel",
          "model_module_version": "1.2.0",
          "state": {
            "_model_module": "@jupyter-widgets/base",
            "_model_module_version": "1.2.0",
            "_model_name": "LayoutModel",
            "_view_count": null,
            "_view_module": "@jupyter-widgets/base",
            "_view_module_version": "1.2.0",
            "_view_name": "LayoutView",
            "align_content": null,
            "align_items": null,
            "align_self": null,
            "border": null,
            "bottom": null,
            "display": null,
            "flex": null,
            "flex_flow": null,
            "grid_area": null,
            "grid_auto_columns": null,
            "grid_auto_flow": null,
            "grid_auto_rows": null,
            "grid_column": null,
            "grid_gap": null,
            "grid_row": null,
            "grid_template_areas": null,
            "grid_template_columns": null,
            "grid_template_rows": null,
            "height": null,
            "justify_content": null,
            "justify_items": null,
            "left": null,
            "margin": null,
            "max_height": null,
            "max_width": null,
            "min_height": null,
            "min_width": null,
            "object_fit": null,
            "object_position": null,
            "order": null,
            "overflow": null,
            "overflow_x": null,
            "overflow_y": null,
            "padding": null,
            "right": null,
            "top": null,
            "visibility": null,
            "width": null
          }
        },
        "2316037518dd4822a130cdce0d159682": {
          "model_module": "@jupyter-widgets/controls",
          "model_name": "ProgressStyleModel",
          "model_module_version": "1.5.0",
          "state": {
            "_model_module": "@jupyter-widgets/controls",
            "_model_module_version": "1.5.0",
            "_model_name": "ProgressStyleModel",
            "_view_count": null,
            "_view_module": "@jupyter-widgets/base",
            "_view_module_version": "1.2.0",
            "_view_name": "StyleView",
            "bar_color": null,
            "description_width": ""
          }
        },
        "e52628a88dd64a419c20d639828bb77a": {
          "model_module": "@jupyter-widgets/base",
          "model_name": "LayoutModel",
          "model_module_version": "1.2.0",
          "state": {
            "_model_module": "@jupyter-widgets/base",
            "_model_module_version": "1.2.0",
            "_model_name": "LayoutModel",
            "_view_count": null,
            "_view_module": "@jupyter-widgets/base",
            "_view_module_version": "1.2.0",
            "_view_name": "LayoutView",
            "align_content": null,
            "align_items": null,
            "align_self": null,
            "border": null,
            "bottom": null,
            "display": null,
            "flex": null,
            "flex_flow": null,
            "grid_area": null,
            "grid_auto_columns": null,
            "grid_auto_flow": null,
            "grid_auto_rows": null,
            "grid_column": null,
            "grid_gap": null,
            "grid_row": null,
            "grid_template_areas": null,
            "grid_template_columns": null,
            "grid_template_rows": null,
            "height": null,
            "justify_content": null,
            "justify_items": null,
            "left": null,
            "margin": null,
            "max_height": null,
            "max_width": null,
            "min_height": null,
            "min_width": null,
            "object_fit": null,
            "object_position": null,
            "order": null,
            "overflow": null,
            "overflow_x": null,
            "overflow_y": null,
            "padding": null,
            "right": null,
            "top": null,
            "visibility": null,
            "width": null
          }
        },
        "e8ba0db20e6a49b4a65dd23060e504bb": {
          "model_module": "@jupyter-widgets/controls",
          "model_name": "DescriptionStyleModel",
          "model_module_version": "1.5.0",
          "state": {
            "_model_module": "@jupyter-widgets/controls",
            "_model_module_version": "1.5.0",
            "_model_name": "DescriptionStyleModel",
            "_view_count": null,
            "_view_module": "@jupyter-widgets/base",
            "_view_module_version": "1.2.0",
            "_view_name": "StyleView",
            "description_width": ""
          }
        },
        "7631a96cbd544a99adc3bf992762dcf7": {
          "model_module": "@jupyter-widgets/controls",
          "model_name": "HBoxModel",
          "model_module_version": "1.5.0",
          "state": {
            "_dom_classes": [],
            "_model_module": "@jupyter-widgets/controls",
            "_model_module_version": "1.5.0",
            "_model_name": "HBoxModel",
            "_view_count": null,
            "_view_module": "@jupyter-widgets/controls",
            "_view_module_version": "1.5.0",
            "_view_name": "HBoxView",
            "box_style": "",
            "children": [
              "IPY_MODEL_843cf487ca7046d29bffa607d9e00ddc",
              "IPY_MODEL_64031cad632e42e198a29dfaa68237f7",
              "IPY_MODEL_0555b45d891a4ce8bb1313eaa652f6f3"
            ],
            "layout": "IPY_MODEL_eaf733faf9a347a2ae4c38c54ce3ad1c"
          }
        },
        "843cf487ca7046d29bffa607d9e00ddc": {
          "model_module": "@jupyter-widgets/controls",
          "model_name": "HTMLModel",
          "model_module_version": "1.5.0",
          "state": {
            "_dom_classes": [],
            "_model_module": "@jupyter-widgets/controls",
            "_model_module_version": "1.5.0",
            "_model_name": "HTMLModel",
            "_view_count": null,
            "_view_module": "@jupyter-widgets/controls",
            "_view_module_version": "1.5.0",
            "_view_name": "HTMLView",
            "description": "",
            "description_tooltip": null,
            "layout": "IPY_MODEL_a2ec3f4a06db475787d3f506a785afe2",
            "placeholder": "​",
            "style": "IPY_MODEL_5c6b29ec4bb34eceb9e0bb91b8c8ad85",
            "value": "Downloading: 100%"
          }
        },
        "64031cad632e42e198a29dfaa68237f7": {
          "model_module": "@jupyter-widgets/controls",
          "model_name": "FloatProgressModel",
          "model_module_version": "1.5.0",
          "state": {
            "_dom_classes": [],
            "_model_module": "@jupyter-widgets/controls",
            "_model_module_version": "1.5.0",
            "_model_name": "FloatProgressModel",
            "_view_count": null,
            "_view_module": "@jupyter-widgets/controls",
            "_view_module_version": "1.5.0",
            "_view_name": "ProgressView",
            "bar_style": "success",
            "description": "",
            "description_tooltip": null,
            "layout": "IPY_MODEL_2e66e95e06ef4684be68d5f76d5f4b7b",
            "max": 570,
            "min": 0,
            "orientation": "horizontal",
            "style": "IPY_MODEL_0c364a2d6cbe43cb85e7c3f2657f5337",
            "value": 570
          }
        },
        "0555b45d891a4ce8bb1313eaa652f6f3": {
          "model_module": "@jupyter-widgets/controls",
          "model_name": "HTMLModel",
          "model_module_version": "1.5.0",
          "state": {
            "_dom_classes": [],
            "_model_module": "@jupyter-widgets/controls",
            "_model_module_version": "1.5.0",
            "_model_name": "HTMLModel",
            "_view_count": null,
            "_view_module": "@jupyter-widgets/controls",
            "_view_module_version": "1.5.0",
            "_view_name": "HTMLView",
            "description": "",
            "description_tooltip": null,
            "layout": "IPY_MODEL_01a3c70efd154ad9ad8acc38344aaf40",
            "placeholder": "​",
            "style": "IPY_MODEL_a60f9c25bd624b829207f6f24456b020",
            "value": " 570/570 [00:00&lt;00:00, 10.0kB/s]"
          }
        },
        "eaf733faf9a347a2ae4c38c54ce3ad1c": {
          "model_module": "@jupyter-widgets/base",
          "model_name": "LayoutModel",
          "model_module_version": "1.2.0",
          "state": {
            "_model_module": "@jupyter-widgets/base",
            "_model_module_version": "1.2.0",
            "_model_name": "LayoutModel",
            "_view_count": null,
            "_view_module": "@jupyter-widgets/base",
            "_view_module_version": "1.2.0",
            "_view_name": "LayoutView",
            "align_content": null,
            "align_items": null,
            "align_self": null,
            "border": null,
            "bottom": null,
            "display": null,
            "flex": null,
            "flex_flow": null,
            "grid_area": null,
            "grid_auto_columns": null,
            "grid_auto_flow": null,
            "grid_auto_rows": null,
            "grid_column": null,
            "grid_gap": null,
            "grid_row": null,
            "grid_template_areas": null,
            "grid_template_columns": null,
            "grid_template_rows": null,
            "height": null,
            "justify_content": null,
            "justify_items": null,
            "left": null,
            "margin": null,
            "max_height": null,
            "max_width": null,
            "min_height": null,
            "min_width": null,
            "object_fit": null,
            "object_position": null,
            "order": null,
            "overflow": null,
            "overflow_x": null,
            "overflow_y": null,
            "padding": null,
            "right": null,
            "top": null,
            "visibility": null,
            "width": null
          }
        },
        "a2ec3f4a06db475787d3f506a785afe2": {
          "model_module": "@jupyter-widgets/base",
          "model_name": "LayoutModel",
          "model_module_version": "1.2.0",
          "state": {
            "_model_module": "@jupyter-widgets/base",
            "_model_module_version": "1.2.0",
            "_model_name": "LayoutModel",
            "_view_count": null,
            "_view_module": "@jupyter-widgets/base",
            "_view_module_version": "1.2.0",
            "_view_name": "LayoutView",
            "align_content": null,
            "align_items": null,
            "align_self": null,
            "border": null,
            "bottom": null,
            "display": null,
            "flex": null,
            "flex_flow": null,
            "grid_area": null,
            "grid_auto_columns": null,
            "grid_auto_flow": null,
            "grid_auto_rows": null,
            "grid_column": null,
            "grid_gap": null,
            "grid_row": null,
            "grid_template_areas": null,
            "grid_template_columns": null,
            "grid_template_rows": null,
            "height": null,
            "justify_content": null,
            "justify_items": null,
            "left": null,
            "margin": null,
            "max_height": null,
            "max_width": null,
            "min_height": null,
            "min_width": null,
            "object_fit": null,
            "object_position": null,
            "order": null,
            "overflow": null,
            "overflow_x": null,
            "overflow_y": null,
            "padding": null,
            "right": null,
            "top": null,
            "visibility": null,
            "width": null
          }
        },
        "5c6b29ec4bb34eceb9e0bb91b8c8ad85": {
          "model_module": "@jupyter-widgets/controls",
          "model_name": "DescriptionStyleModel",
          "model_module_version": "1.5.0",
          "state": {
            "_model_module": "@jupyter-widgets/controls",
            "_model_module_version": "1.5.0",
            "_model_name": "DescriptionStyleModel",
            "_view_count": null,
            "_view_module": "@jupyter-widgets/base",
            "_view_module_version": "1.2.0",
            "_view_name": "StyleView",
            "description_width": ""
          }
        },
        "2e66e95e06ef4684be68d5f76d5f4b7b": {
          "model_module": "@jupyter-widgets/base",
          "model_name": "LayoutModel",
          "model_module_version": "1.2.0",
          "state": {
            "_model_module": "@jupyter-widgets/base",
            "_model_module_version": "1.2.0",
            "_model_name": "LayoutModel",
            "_view_count": null,
            "_view_module": "@jupyter-widgets/base",
            "_view_module_version": "1.2.0",
            "_view_name": "LayoutView",
            "align_content": null,
            "align_items": null,
            "align_self": null,
            "border": null,
            "bottom": null,
            "display": null,
            "flex": null,
            "flex_flow": null,
            "grid_area": null,
            "grid_auto_columns": null,
            "grid_auto_flow": null,
            "grid_auto_rows": null,
            "grid_column": null,
            "grid_gap": null,
            "grid_row": null,
            "grid_template_areas": null,
            "grid_template_columns": null,
            "grid_template_rows": null,
            "height": null,
            "justify_content": null,
            "justify_items": null,
            "left": null,
            "margin": null,
            "max_height": null,
            "max_width": null,
            "min_height": null,
            "min_width": null,
            "object_fit": null,
            "object_position": null,
            "order": null,
            "overflow": null,
            "overflow_x": null,
            "overflow_y": null,
            "padding": null,
            "right": null,
            "top": null,
            "visibility": null,
            "width": null
          }
        },
        "0c364a2d6cbe43cb85e7c3f2657f5337": {
          "model_module": "@jupyter-widgets/controls",
          "model_name": "ProgressStyleModel",
          "model_module_version": "1.5.0",
          "state": {
            "_model_module": "@jupyter-widgets/controls",
            "_model_module_version": "1.5.0",
            "_model_name": "ProgressStyleModel",
            "_view_count": null,
            "_view_module": "@jupyter-widgets/base",
            "_view_module_version": "1.2.0",
            "_view_name": "StyleView",
            "bar_color": null,
            "description_width": ""
          }
        },
        "01a3c70efd154ad9ad8acc38344aaf40": {
          "model_module": "@jupyter-widgets/base",
          "model_name": "LayoutModel",
          "model_module_version": "1.2.0",
          "state": {
            "_model_module": "@jupyter-widgets/base",
            "_model_module_version": "1.2.0",
            "_model_name": "LayoutModel",
            "_view_count": null,
            "_view_module": "@jupyter-widgets/base",
            "_view_module_version": "1.2.0",
            "_view_name": "LayoutView",
            "align_content": null,
            "align_items": null,
            "align_self": null,
            "border": null,
            "bottom": null,
            "display": null,
            "flex": null,
            "flex_flow": null,
            "grid_area": null,
            "grid_auto_columns": null,
            "grid_auto_flow": null,
            "grid_auto_rows": null,
            "grid_column": null,
            "grid_gap": null,
            "grid_row": null,
            "grid_template_areas": null,
            "grid_template_columns": null,
            "grid_template_rows": null,
            "height": null,
            "justify_content": null,
            "justify_items": null,
            "left": null,
            "margin": null,
            "max_height": null,
            "max_width": null,
            "min_height": null,
            "min_width": null,
            "object_fit": null,
            "object_position": null,
            "order": null,
            "overflow": null,
            "overflow_x": null,
            "overflow_y": null,
            "padding": null,
            "right": null,
            "top": null,
            "visibility": null,
            "width": null
          }
        },
        "a60f9c25bd624b829207f6f24456b020": {
          "model_module": "@jupyter-widgets/controls",
          "model_name": "DescriptionStyleModel",
          "model_module_version": "1.5.0",
          "state": {
            "_model_module": "@jupyter-widgets/controls",
            "_model_module_version": "1.5.0",
            "_model_name": "DescriptionStyleModel",
            "_view_count": null,
            "_view_module": "@jupyter-widgets/base",
            "_view_module_version": "1.2.0",
            "_view_name": "StyleView",
            "description_width": ""
          }
        },
        "eb0f87f807ae451d945b9045cb61b8b2": {
          "model_module": "@jupyter-widgets/controls",
          "model_name": "HBoxModel",
          "model_module_version": "1.5.0",
          "state": {
            "_dom_classes": [],
            "_model_module": "@jupyter-widgets/controls",
            "_model_module_version": "1.5.0",
            "_model_name": "HBoxModel",
            "_view_count": null,
            "_view_module": "@jupyter-widgets/controls",
            "_view_module_version": "1.5.0",
            "_view_name": "HBoxView",
            "box_style": "",
            "children": [
              "IPY_MODEL_6b0ab6c4edf84b1ebd6f0eabf0d10739",
              "IPY_MODEL_0056019f49004d288e4586a072e217e5",
              "IPY_MODEL_475cc453f8784b1887b8cf38f8bfa13c"
            ],
            "layout": "IPY_MODEL_5fb8323ad84044bca349c66546ee722c"
          }
        },
        "6b0ab6c4edf84b1ebd6f0eabf0d10739": {
          "model_module": "@jupyter-widgets/controls",
          "model_name": "HTMLModel",
          "model_module_version": "1.5.0",
          "state": {
            "_dom_classes": [],
            "_model_module": "@jupyter-widgets/controls",
            "_model_module_version": "1.5.0",
            "_model_name": "HTMLModel",
            "_view_count": null,
            "_view_module": "@jupyter-widgets/controls",
            "_view_module_version": "1.5.0",
            "_view_name": "HTMLView",
            "description": "",
            "description_tooltip": null,
            "layout": "IPY_MODEL_221019cc4f8f41a4a3d18dd4a8895546",
            "placeholder": "​",
            "style": "IPY_MODEL_8d8b6b6568e34c99a5a4938407d7b1f7",
            "value": "Downloading: 100%"
          }
        },
        "0056019f49004d288e4586a072e217e5": {
          "model_module": "@jupyter-widgets/controls",
          "model_name": "FloatProgressModel",
          "model_module_version": "1.5.0",
          "state": {
            "_dom_classes": [],
            "_model_module": "@jupyter-widgets/controls",
            "_model_module_version": "1.5.0",
            "_model_name": "FloatProgressModel",
            "_view_count": null,
            "_view_module": "@jupyter-widgets/controls",
            "_view_module_version": "1.5.0",
            "_view_name": "ProgressView",
            "bar_style": "success",
            "description": "",
            "description_tooltip": null,
            "layout": "IPY_MODEL_6146a7d1aa414846a728b65b23526025",
            "max": 440473133,
            "min": 0,
            "orientation": "horizontal",
            "style": "IPY_MODEL_34155fe2deca46a481ab03bea5117d48",
            "value": 440473133
          }
        },
        "475cc453f8784b1887b8cf38f8bfa13c": {
          "model_module": "@jupyter-widgets/controls",
          "model_name": "HTMLModel",
          "model_module_version": "1.5.0",
          "state": {
            "_dom_classes": [],
            "_model_module": "@jupyter-widgets/controls",
            "_model_module_version": "1.5.0",
            "_model_name": "HTMLModel",
            "_view_count": null,
            "_view_module": "@jupyter-widgets/controls",
            "_view_module_version": "1.5.0",
            "_view_name": "HTMLView",
            "description": "",
            "description_tooltip": null,
            "layout": "IPY_MODEL_60b06e3e13434fa29ca32b723f1e3fa9",
            "placeholder": "​",
            "style": "IPY_MODEL_ae4312e77edb41ad96991b63af7fc460",
            "value": " 420M/420M [00:10&lt;00:00, 37.6MB/s]"
          }
        },
        "5fb8323ad84044bca349c66546ee722c": {
          "model_module": "@jupyter-widgets/base",
          "model_name": "LayoutModel",
          "model_module_version": "1.2.0",
          "state": {
            "_model_module": "@jupyter-widgets/base",
            "_model_module_version": "1.2.0",
            "_model_name": "LayoutModel",
            "_view_count": null,
            "_view_module": "@jupyter-widgets/base",
            "_view_module_version": "1.2.0",
            "_view_name": "LayoutView",
            "align_content": null,
            "align_items": null,
            "align_self": null,
            "border": null,
            "bottom": null,
            "display": null,
            "flex": null,
            "flex_flow": null,
            "grid_area": null,
            "grid_auto_columns": null,
            "grid_auto_flow": null,
            "grid_auto_rows": null,
            "grid_column": null,
            "grid_gap": null,
            "grid_row": null,
            "grid_template_areas": null,
            "grid_template_columns": null,
            "grid_template_rows": null,
            "height": null,
            "justify_content": null,
            "justify_items": null,
            "left": null,
            "margin": null,
            "max_height": null,
            "max_width": null,
            "min_height": null,
            "min_width": null,
            "object_fit": null,
            "object_position": null,
            "order": null,
            "overflow": null,
            "overflow_x": null,
            "overflow_y": null,
            "padding": null,
            "right": null,
            "top": null,
            "visibility": null,
            "width": null
          }
        },
        "221019cc4f8f41a4a3d18dd4a8895546": {
          "model_module": "@jupyter-widgets/base",
          "model_name": "LayoutModel",
          "model_module_version": "1.2.0",
          "state": {
            "_model_module": "@jupyter-widgets/base",
            "_model_module_version": "1.2.0",
            "_model_name": "LayoutModel",
            "_view_count": null,
            "_view_module": "@jupyter-widgets/base",
            "_view_module_version": "1.2.0",
            "_view_name": "LayoutView",
            "align_content": null,
            "align_items": null,
            "align_self": null,
            "border": null,
            "bottom": null,
            "display": null,
            "flex": null,
            "flex_flow": null,
            "grid_area": null,
            "grid_auto_columns": null,
            "grid_auto_flow": null,
            "grid_auto_rows": null,
            "grid_column": null,
            "grid_gap": null,
            "grid_row": null,
            "grid_template_areas": null,
            "grid_template_columns": null,
            "grid_template_rows": null,
            "height": null,
            "justify_content": null,
            "justify_items": null,
            "left": null,
            "margin": null,
            "max_height": null,
            "max_width": null,
            "min_height": null,
            "min_width": null,
            "object_fit": null,
            "object_position": null,
            "order": null,
            "overflow": null,
            "overflow_x": null,
            "overflow_y": null,
            "padding": null,
            "right": null,
            "top": null,
            "visibility": null,
            "width": null
          }
        },
        "8d8b6b6568e34c99a5a4938407d7b1f7": {
          "model_module": "@jupyter-widgets/controls",
          "model_name": "DescriptionStyleModel",
          "model_module_version": "1.5.0",
          "state": {
            "_model_module": "@jupyter-widgets/controls",
            "_model_module_version": "1.5.0",
            "_model_name": "DescriptionStyleModel",
            "_view_count": null,
            "_view_module": "@jupyter-widgets/base",
            "_view_module_version": "1.2.0",
            "_view_name": "StyleView",
            "description_width": ""
          }
        },
        "6146a7d1aa414846a728b65b23526025": {
          "model_module": "@jupyter-widgets/base",
          "model_name": "LayoutModel",
          "model_module_version": "1.2.0",
          "state": {
            "_model_module": "@jupyter-widgets/base",
            "_model_module_version": "1.2.0",
            "_model_name": "LayoutModel",
            "_view_count": null,
            "_view_module": "@jupyter-widgets/base",
            "_view_module_version": "1.2.0",
            "_view_name": "LayoutView",
            "align_content": null,
            "align_items": null,
            "align_self": null,
            "border": null,
            "bottom": null,
            "display": null,
            "flex": null,
            "flex_flow": null,
            "grid_area": null,
            "grid_auto_columns": null,
            "grid_auto_flow": null,
            "grid_auto_rows": null,
            "grid_column": null,
            "grid_gap": null,
            "grid_row": null,
            "grid_template_areas": null,
            "grid_template_columns": null,
            "grid_template_rows": null,
            "height": null,
            "justify_content": null,
            "justify_items": null,
            "left": null,
            "margin": null,
            "max_height": null,
            "max_width": null,
            "min_height": null,
            "min_width": null,
            "object_fit": null,
            "object_position": null,
            "order": null,
            "overflow": null,
            "overflow_x": null,
            "overflow_y": null,
            "padding": null,
            "right": null,
            "top": null,
            "visibility": null,
            "width": null
          }
        },
        "34155fe2deca46a481ab03bea5117d48": {
          "model_module": "@jupyter-widgets/controls",
          "model_name": "ProgressStyleModel",
          "model_module_version": "1.5.0",
          "state": {
            "_model_module": "@jupyter-widgets/controls",
            "_model_module_version": "1.5.0",
            "_model_name": "ProgressStyleModel",
            "_view_count": null,
            "_view_module": "@jupyter-widgets/base",
            "_view_module_version": "1.2.0",
            "_view_name": "StyleView",
            "bar_color": null,
            "description_width": ""
          }
        },
        "60b06e3e13434fa29ca32b723f1e3fa9": {
          "model_module": "@jupyter-widgets/base",
          "model_name": "LayoutModel",
          "model_module_version": "1.2.0",
          "state": {
            "_model_module": "@jupyter-widgets/base",
            "_model_module_version": "1.2.0",
            "_model_name": "LayoutModel",
            "_view_count": null,
            "_view_module": "@jupyter-widgets/base",
            "_view_module_version": "1.2.0",
            "_view_name": "LayoutView",
            "align_content": null,
            "align_items": null,
            "align_self": null,
            "border": null,
            "bottom": null,
            "display": null,
            "flex": null,
            "flex_flow": null,
            "grid_area": null,
            "grid_auto_columns": null,
            "grid_auto_flow": null,
            "grid_auto_rows": null,
            "grid_column": null,
            "grid_gap": null,
            "grid_row": null,
            "grid_template_areas": null,
            "grid_template_columns": null,
            "grid_template_rows": null,
            "height": null,
            "justify_content": null,
            "justify_items": null,
            "left": null,
            "margin": null,
            "max_height": null,
            "max_width": null,
            "min_height": null,
            "min_width": null,
            "object_fit": null,
            "object_position": null,
            "order": null,
            "overflow": null,
            "overflow_x": null,
            "overflow_y": null,
            "padding": null,
            "right": null,
            "top": null,
            "visibility": null,
            "width": null
          }
        },
        "ae4312e77edb41ad96991b63af7fc460": {
          "model_module": "@jupyter-widgets/controls",
          "model_name": "DescriptionStyleModel",
          "model_module_version": "1.5.0",
          "state": {
            "_model_module": "@jupyter-widgets/controls",
            "_model_module_version": "1.5.0",
            "_model_name": "DescriptionStyleModel",
            "_view_count": null,
            "_view_module": "@jupyter-widgets/base",
            "_view_module_version": "1.2.0",
            "_view_name": "StyleView",
            "description_width": ""
          }
        }
      }
    },
    "accelerator": "GPU",
    "gpuClass": "standard"
  },
  "cells": [
    {
      "cell_type": "markdown",
      "metadata": {
        "id": "view-in-github",
        "colab_type": "text"
      },
      "source": [
        "<a href=\"https://colab.research.google.com/github/Nabarup-Maity/Project/blob/master/dl_ii_cw_sentiment_analysis.ipynb\" target=\"_parent\"><img src=\"https://colab.research.google.com/assets/colab-badge.svg\" alt=\"Open In Colab\"/></a>"
      ]
    },
    {
      "cell_type": "markdown",
      "metadata": {
        "id": "X4iPOpqFMf0K"
      },
      "source": [
        "# Environment Setup (Python)\n"
      ]
    },
    {
      "cell_type": "code",
      "metadata": {
        "colab": {
          "base_uri": "https://localhost:8080/"
        },
        "id": "IpgRXY-xMgJu",
        "outputId": "9941c1a7-b9c4-415d-aca6-d954368b6093"
      },
      "source": [
        "# Download and install conda colab\n",
        "!pip install -q condacolab\n",
        "import condacolab\n",
        "condacolab.install()"
      ],
      "execution_count": null,
      "outputs": [
        {
          "output_type": "stream",
          "name": "stdout",
          "text": [
            "\u001b[33mWARNING: Running pip as the 'root' user can result in broken permissions and conflicting behaviour with the system package manager. It is recommended to use a virtual environment instead: https://pip.pypa.io/warnings/venv\u001b[0m\u001b[33m\n",
            "\u001b[0m✨🍰✨ Everything looks OK!\n"
          ]
        }
      ]
    },
    {
      "cell_type": "code",
      "metadata": {
        "colab": {
          "base_uri": "https://localhost:8080/"
        },
        "id": "ZUJAtdAqMrNz",
        "outputId": "eceb9c29-c1fd-48d1-ab93-1749cd1dde40"
      },
      "source": [
        "# Write an environment file to use for installations and library versions\n",
        "%%writefile environment.yml\n",
        "channels:\n",
        "  - default\n",
        "  - conda-forge\n",
        "  - pytorch\n",
        "dependencies:\n",
        "  - pip>20.1\n",
        "  - python>=3.7,<3.9\n",
        "  - pytorch=1.8.0\n",
        "  - torchtext=0.9\n",
        "  - pip:\n",
        "    - torch==1.8\n",
        "    - transformers==4.11.0\n",
        "    - torchmetrics==0.5.1\n",
        "    - spacy==3.1.3\n",
        "    - pandas==1.3.3\n",
        "    - pytorch_lightning==1.4.8\n",
        "    - azureml-core>=1.31.0\n",
        "    - azureml-mlflow>=1.31.0\n",
        "    - tqdm>=4.59,<4.60\n",
        "    - matplotlib==3.4.3\n",
        "    - azureml-train-core"
      ],
      "execution_count": null,
      "outputs": [
        {
          "output_type": "stream",
          "name": "stdout",
          "text": [
            "Overwriting environment.yml\n"
          ]
        }
      ]
    },
    {
      "cell_type": "code",
      "metadata": {
        "colab": {
          "base_uri": "https://localhost:8080/"
        },
        "id": "k-BO2AOkMxeQ",
        "outputId": "0a726574-9398-4fd0-fbe5-cf81ca524ccc"
      },
      "source": [
        "# Use conda to install everything based on our env file\n",
        "!conda env update -n base -f environment.yml"
      ],
      "execution_count": null,
      "outputs": [
        {
          "output_type": "stream",
          "name": "stdout",
          "text": [
            "Collecting package metadata (repodata.json): - \b\b\\ \b\b| \b\b/ \b\b- \b\b\\ \b\b| \b\b/ \b\b- \b\b\\ \b\b| \b\b/ \b\b- \b\b\\ \b\b| \b\b/ \b\b- \b\b\\ \b\b| \b\b/ \b\b- \b\b\\ \b\b| \b\b/ \b\b- \b\b\\ \b\b| \b\b/ \b\b- \b\b\\ \b\b| \b\b/ \b\b- \b\b\\ \b\b| \b\b/ \b\b- \b\b\\ \b\b| \b\b/ \b\b- \b\b\\ \b\b| \b\b/ \b\b- \b\b\\ \b\b| \b\b/ \b\b- \b\b\\ \b\b| \b\b/ \b\b- \b\b\\ \b\b| \b\b/ \b\b- \b\b\\ \b\b| \b\b/ \b\b- \b\b\\ \b\b| \b\b/ \b\b- \b\b\\ \b\b| \b\b/ \b\b- \b\b\\ \b\b| \b\b/ \b\b- \b\b\\ \b\bdone\n",
            "Solving environment: / \b\b- \b\b\\ \b\b| \b\b/ \b\b- \b\b\\ \b\b| \b\b/ \b\b- \b\b\\ \b\b| \b\b/ \b\b- \b\b\\ \b\b| \b\b/ \b\b- \b\b\\ \b\b| \b\b/ \b\b- \b\b\\ \b\b| \b\b/ \b\b- \b\b\\ \b\b| \b\b/ \b\b- \b\b\\ \b\b| \b\b/ \b\b- \b\b\\ \b\b| \b\b/ \b\b- \b\b\\ \b\b| \b\b/ \b\b- \b\b\\ \b\b| \b\b/ \b\b- \b\b\\ \b\b| \b\b/ \b\b- \b\b\\ \b\b| \b\b/ \b\b- \b\b\\ \b\b| \b\b/ \b\b- \b\b\\ \b\b| \b\b/ \b\b- \b\b\\ \b\b| \b\b/ \b\b- \b\b\\ \b\b| \b\b/ \b\b- \b\b\\ \b\b| \b\b/ \b\b- \b\b\\ \b\b| \b\b/ \b\b- \b\b\\ \b\b| \b\b/ \b\b- \b\bdone\n",
            "\n",
            "\n",
            "==> WARNING: A newer version of conda exists. <==\n",
            "  current version: 4.9.2\n",
            "  latest version: 4.12.0\n",
            "\n",
            "Please update conda by running\n",
            "\n",
            "    $ conda update -n base conda\n",
            "\n",
            "\n",
            "Installing pip dependencies: | \b\b/ \b\b- \b\b\\ \b\b| \b\b/ \b\b- \b\b\\ \b\b| \b\b/ \b\b- \b\b\\ \b\b| \b\b/ \b\b- \b\b\\ \b\b| \b\b/ \b\b- \b\b\\ \b\b| \b\b/ \b\b- \b\b\\ \b\b| \b\b/ \b\b- \b\b\\ \b\b| \b\b/ \b\b- \b\b\\ \b\b| \b\b/ \b\b- \b\b\\ \b\b| \b\b/ \b\b- \b\b\\ \b\b| \b\b/ \b\b- \b\b\\ \b\b| \b\b/ \b\b- \b\b\\ \b\b| \b\b/ \b\b- \b\b\\ \b\b| \b\b/ \b\b- \b\b\\ \b\b| \b\b/ \b\b- \b\b\\ \b\b| Ran pip subprocess with arguments:\n",
            "['/usr/local/bin/python', '-m', 'pip', 'install', '-U', '-r', '/content/condaenv.9v8omz8z.requirements.txt']\n",
            "Pip subprocess output:\n",
            "Requirement already satisfied: torch==1.8 in /usr/local/lib/python3.7/site-packages (from -r /content/condaenv.9v8omz8z.requirements.txt (line 1)) (1.8.0)\n",
            "Requirement already satisfied: transformers==4.11.0 in /usr/local/lib/python3.7/site-packages (from -r /content/condaenv.9v8omz8z.requirements.txt (line 2)) (4.11.0)\n",
            "Requirement already satisfied: torchmetrics==0.5.1 in /usr/local/lib/python3.7/site-packages (from -r /content/condaenv.9v8omz8z.requirements.txt (line 3)) (0.5.1)\n",
            "Requirement already satisfied: spacy==3.1.3 in /usr/local/lib/python3.7/site-packages (from -r /content/condaenv.9v8omz8z.requirements.txt (line 4)) (3.1.3)\n",
            "Requirement already satisfied: pandas==1.3.3 in /usr/local/lib/python3.7/site-packages (from -r /content/condaenv.9v8omz8z.requirements.txt (line 5)) (1.3.3)\n",
            "Requirement already satisfied: pytorch_lightning==1.4.8 in /usr/local/lib/python3.7/site-packages (from -r /content/condaenv.9v8omz8z.requirements.txt (line 6)) (1.4.8)\n",
            "Requirement already satisfied: azureml-core>=1.31.0 in /usr/local/lib/python3.7/site-packages (from -r /content/condaenv.9v8omz8z.requirements.txt (line 7)) (1.39.0.post1)\n",
            "Requirement already satisfied: azureml-mlflow>=1.31.0 in /usr/local/lib/python3.7/site-packages (from -r /content/condaenv.9v8omz8z.requirements.txt (line 8)) (1.39.0.post1)\n",
            "Requirement already satisfied: tqdm<4.60,>=4.59 in /usr/local/lib/python3.7/site-packages (from -r /content/condaenv.9v8omz8z.requirements.txt (line 9)) (4.59.0)\n",
            "Requirement already satisfied: matplotlib==3.4.3 in /usr/local/lib/python3.7/site-packages (from -r /content/condaenv.9v8omz8z.requirements.txt (line 10)) (3.4.3)\n",
            "Requirement already satisfied: azureml-train-core in /usr/local/lib/python3.7/site-packages (from -r /content/condaenv.9v8omz8z.requirements.txt (line 11)) (1.39.0)\n",
            "Requirement already satisfied: numpy in /usr/local/lib/python3.7/site-packages (from torch==1.8->-r /content/condaenv.9v8omz8z.requirements.txt (line 1)) (1.21.1)\n",
            "Requirement already satisfied: typing-extensions in /usr/local/lib/python3.7/site-packages (from torch==1.8->-r /content/condaenv.9v8omz8z.requirements.txt (line 1)) (3.10.0.2)\n",
            "Requirement already satisfied: tokenizers<0.11,>=0.10.1 in /usr/local/lib/python3.7/site-packages (from transformers==4.11.0->-r /content/condaenv.9v8omz8z.requirements.txt (line 2)) (0.10.3)\n",
            "Requirement already satisfied: regex!=2019.12.17 in /usr/local/lib/python3.7/site-packages (from transformers==4.11.0->-r /content/condaenv.9v8omz8z.requirements.txt (line 2)) (2022.3.15)\n",
            "Requirement already satisfied: filelock in /usr/local/lib/python3.7/site-packages (from transformers==4.11.0->-r /content/condaenv.9v8omz8z.requirements.txt (line 2)) (3.6.0)\n",
            "Requirement already satisfied: pyyaml>=5.1 in /usr/local/lib/python3.7/site-packages (from transformers==4.11.0->-r /content/condaenv.9v8omz8z.requirements.txt (line 2)) (6.0)\n",
            "Requirement already satisfied: huggingface-hub>=0.0.17 in /usr/local/lib/python3.7/site-packages (from transformers==4.11.0->-r /content/condaenv.9v8omz8z.requirements.txt (line 2)) (0.4.0)\n",
            "Requirement already satisfied: packaging>=20.0 in /usr/local/lib/python3.7/site-packages (from transformers==4.11.0->-r /content/condaenv.9v8omz8z.requirements.txt (line 2)) (21.3)\n",
            "Requirement already satisfied: sacremoses in /usr/local/lib/python3.7/site-packages (from transformers==4.11.0->-r /content/condaenv.9v8omz8z.requirements.txt (line 2)) (0.0.49)\n",
            "Requirement already satisfied: importlib-metadata in /usr/local/lib/python3.7/site-packages (from transformers==4.11.0->-r /content/condaenv.9v8omz8z.requirements.txt (line 2)) (4.11.3)\n",
            "Requirement already satisfied: requests in /usr/local/lib/python3.7/site-packages (from transformers==4.11.0->-r /content/condaenv.9v8omz8z.requirements.txt (line 2)) (2.25.1)\n",
            "Requirement already satisfied: blis<0.8.0,>=0.4.0 in /usr/local/lib/python3.7/site-packages (from spacy==3.1.3->-r /content/condaenv.9v8omz8z.requirements.txt (line 4)) (0.7.6)\n",
            "Requirement already satisfied: cymem<2.1.0,>=2.0.2 in /usr/local/lib/python3.7/site-packages (from spacy==3.1.3->-r /content/condaenv.9v8omz8z.requirements.txt (line 4)) (2.0.6)\n",
            "Requirement already satisfied: setuptools in /usr/local/lib/python3.7/site-packages (from spacy==3.1.3->-r /content/condaenv.9v8omz8z.requirements.txt (line 4)) (49.6.0.post20210108)\n",
            "Requirement already satisfied: pathy>=0.3.5 in /usr/local/lib/python3.7/site-packages (from spacy==3.1.3->-r /content/condaenv.9v8omz8z.requirements.txt (line 4)) (0.6.1)\n",
            "Requirement already satisfied: murmurhash<1.1.0,>=0.28.0 in /usr/local/lib/python3.7/site-packages (from spacy==3.1.3->-r /content/condaenv.9v8omz8z.requirements.txt (line 4)) (1.0.6)\n",
            "Requirement already satisfied: srsly<3.0.0,>=2.4.1 in /usr/local/lib/python3.7/site-packages (from spacy==3.1.3->-r /content/condaenv.9v8omz8z.requirements.txt (line 4)) (2.4.2)\n",
            "Requirement already satisfied: pydantic!=1.8,!=1.8.1,<1.9.0,>=1.7.4 in /usr/local/lib/python3.7/site-packages (from spacy==3.1.3->-r /content/condaenv.9v8omz8z.requirements.txt (line 4)) (1.8.2)\n",
            "Requirement already satisfied: catalogue<2.1.0,>=2.0.6 in /usr/local/lib/python3.7/site-packages (from spacy==3.1.3->-r /content/condaenv.9v8omz8z.requirements.txt (line 4)) (2.0.6)\n",
            "Requirement already satisfied: jinja2 in /usr/local/lib/python3.7/site-packages (from spacy==3.1.3->-r /content/condaenv.9v8omz8z.requirements.txt (line 4)) (3.0.3)\n",
            "Requirement already satisfied: typer<0.5.0,>=0.3.0 in /usr/local/lib/python3.7/site-packages (from spacy==3.1.3->-r /content/condaenv.9v8omz8z.requirements.txt (line 4)) (0.4.0)\n",
            "Requirement already satisfied: wasabi<1.1.0,>=0.8.1 in /usr/local/lib/python3.7/site-packages (from spacy==3.1.3->-r /content/condaenv.9v8omz8z.requirements.txt (line 4)) (0.9.0)\n",
            "Requirement already satisfied: spacy-legacy<3.1.0,>=3.0.8 in /usr/local/lib/python3.7/site-packages (from spacy==3.1.3->-r /content/condaenv.9v8omz8z.requirements.txt (line 4)) (3.0.9)\n",
            "Requirement already satisfied: thinc<8.1.0,>=8.0.9 in /usr/local/lib/python3.7/site-packages (from spacy==3.1.3->-r /content/condaenv.9v8omz8z.requirements.txt (line 4)) (8.0.15)\n",
            "Requirement already satisfied: preshed<3.1.0,>=3.0.2 in /usr/local/lib/python3.7/site-packages (from spacy==3.1.3->-r /content/condaenv.9v8omz8z.requirements.txt (line 4)) (3.0.6)\n",
            "Requirement already satisfied: python-dateutil>=2.7.3 in /usr/local/lib/python3.7/site-packages (from pandas==1.3.3->-r /content/condaenv.9v8omz8z.requirements.txt (line 5)) (2.8.2)\n",
            "Requirement already satisfied: pytz>=2017.3 in /usr/local/lib/python3.7/site-packages (from pandas==1.3.3->-r /content/condaenv.9v8omz8z.requirements.txt (line 5)) (2022.1)\n",
            "Requirement already satisfied: pyDeprecate==0.3.1 in /usr/local/lib/python3.7/site-packages (from pytorch_lightning==1.4.8->-r /content/condaenv.9v8omz8z.requirements.txt (line 6)) (0.3.1)\n",
            "Requirement already satisfied: tensorboard>=2.2.0 in /usr/local/lib/python3.7/site-packages (from pytorch_lightning==1.4.8->-r /content/condaenv.9v8omz8z.requirements.txt (line 6)) (2.8.0)\n",
            "Requirement already satisfied: future>=0.17.1 in /usr/local/lib/python3.7/site-packages (from pytorch_lightning==1.4.8->-r /content/condaenv.9v8omz8z.requirements.txt (line 6)) (0.18.2)\n",
            "Requirement already satisfied: fsspec[http]!=2021.06.0,>=2021.05.0 in /usr/local/lib/python3.7/site-packages (from pytorch_lightning==1.4.8->-r /content/condaenv.9v8omz8z.requirements.txt (line 6)) (2022.2.0)\n",
            "Requirement already satisfied: pyparsing>=2.2.1 in /usr/local/lib/python3.7/site-packages (from matplotlib==3.4.3->-r /content/condaenv.9v8omz8z.requirements.txt (line 10)) (3.0.7)\n",
            "Requirement already satisfied: kiwisolver>=1.0.1 in /usr/local/lib/python3.7/site-packages (from matplotlib==3.4.3->-r /content/condaenv.9v8omz8z.requirements.txt (line 10)) (1.4.0)\n",
            "Requirement already satisfied: cycler>=0.10 in /usr/local/lib/python3.7/site-packages (from matplotlib==3.4.3->-r /content/condaenv.9v8omz8z.requirements.txt (line 10)) (0.11.0)\n",
            "Requirement already satisfied: pillow>=6.2.0 in /usr/local/lib/python3.7/site-packages (from matplotlib==3.4.3->-r /content/condaenv.9v8omz8z.requirements.txt (line 10)) (9.0.1)\n",
            "Requirement already satisfied: azure-mgmt-storage<20.0.0,>=16.0.0 in /usr/local/lib/python3.7/site-packages (from azureml-core>=1.31.0->-r /content/condaenv.9v8omz8z.requirements.txt (line 7)) (19.1.0)\n",
            "Requirement already satisfied: azure-mgmt-containerregistry<9.0.0,>=8.2.0 in /usr/local/lib/python3.7/site-packages (from azureml-core>=1.31.0->-r /content/condaenv.9v8omz8z.requirements.txt (line 7)) (8.2.0)\n",
            "Requirement already satisfied: cryptography!=1.9,!=2.0.*,!=2.1.*,!=2.2.*,<37.0.0 in /usr/local/lib/python3.7/site-packages (from azureml-core>=1.31.0->-r /content/condaenv.9v8omz8z.requirements.txt (line 7)) (3.4.5)\n",
            "Requirement already satisfied: docker<6.0.0 in /usr/local/lib/python3.7/site-packages (from azureml-core>=1.31.0->-r /content/condaenv.9v8omz8z.requirements.txt (line 7)) (5.0.3)\n",
            "Requirement already satisfied: msrestazure<=0.6.4,>=0.4.33 in /usr/local/lib/python3.7/site-packages (from azureml-core>=1.31.0->-r /content/condaenv.9v8omz8z.requirements.txt (line 7)) (0.6.4)\n",
            "Requirement already satisfied: msrest<1.0.0,>=0.5.1 in /usr/local/lib/python3.7/site-packages (from azureml-core>=1.31.0->-r /content/condaenv.9v8omz8z.requirements.txt (line 7)) (0.6.21)\n",
            "Requirement already satisfied: knack~=0.9.0 in /usr/local/lib/python3.7/site-packages (from azureml-core>=1.31.0->-r /content/condaenv.9v8omz8z.requirements.txt (line 7)) (0.9.0)\n",
            "Requirement already satisfied: azure-core<1.22 in /usr/local/lib/python3.7/site-packages (from azureml-core>=1.31.0->-r /content/condaenv.9v8omz8z.requirements.txt (line 7)) (1.21.1)\n",
            "Requirement already satisfied: PyJWT<3.0.0 in /usr/local/lib/python3.7/site-packages (from azureml-core>=1.31.0->-r /content/condaenv.9v8omz8z.requirements.txt (line 7)) (2.3.0)\n",
            "Requirement already satisfied: jmespath<1.0.0 in /usr/local/lib/python3.7/site-packages (from azureml-core>=1.31.0->-r /content/condaenv.9v8omz8z.requirements.txt (line 7)) (0.10.0)\n",
            "Requirement already satisfied: argcomplete<2.0 in /usr/local/lib/python3.7/site-packages (from azureml-core>=1.31.0->-r /content/condaenv.9v8omz8z.requirements.txt (line 7)) (1.12.3)\n",
            "Requirement already satisfied: contextlib2<22.0.0 in /usr/local/lib/python3.7/site-packages (from azureml-core>=1.31.0->-r /content/condaenv.9v8omz8z.requirements.txt (line 7)) (21.6.0)\n",
            "Requirement already satisfied: urllib3<=1.26.7,>=1.23 in /usr/local/lib/python3.7/site-packages (from azureml-core>=1.31.0->-r /content/condaenv.9v8omz8z.requirements.txt (line 7)) (1.26.3)\n",
            "Requirement already satisfied: backports.tempfile in /usr/local/lib/python3.7/site-packages (from azureml-core>=1.31.0->-r /content/condaenv.9v8omz8z.requirements.txt (line 7)) (1.0)\n",
            "Requirement already satisfied: ndg-httpsclient<=0.5.1 in /usr/local/lib/python3.7/site-packages (from azureml-core>=1.31.0->-r /content/condaenv.9v8omz8z.requirements.txt (line 7)) (0.5.1)\n",
            "Requirement already satisfied: azure-mgmt-resource<21.0.0,>=15.0.0 in /usr/local/lib/python3.7/site-packages (from azureml-core>=1.31.0->-r /content/condaenv.9v8omz8z.requirements.txt (line 7)) (20.1.0)\n",
            "Requirement already satisfied: pkginfo in /usr/local/lib/python3.7/site-packages (from azureml-core>=1.31.0->-r /content/condaenv.9v8omz8z.requirements.txt (line 7)) (1.8.2)\n",
            "Requirement already satisfied: paramiko<3.0.0,>=2.0.8 in /usr/local/lib/python3.7/site-packages (from azureml-core>=1.31.0->-r /content/condaenv.9v8omz8z.requirements.txt (line 7)) (2.10.3)\n",
            "Requirement already satisfied: jsonpickle<3.0.0 in /usr/local/lib/python3.7/site-packages (from azureml-core>=1.31.0->-r /content/condaenv.9v8omz8z.requirements.txt (line 7)) (2.1.0)\n",
            "Requirement already satisfied: pathspec<1.0.0 in /usr/local/lib/python3.7/site-packages (from azureml-core>=1.31.0->-r /content/condaenv.9v8omz8z.requirements.txt (line 7)) (0.9.0)\n",
            "Requirement already satisfied: azure-graphrbac<1.0.0,>=0.40.0 in /usr/local/lib/python3.7/site-packages (from azureml-core>=1.31.0->-r /content/condaenv.9v8omz8z.requirements.txt (line 7)) (0.61.1)\n",
            "Requirement already satisfied: azure-mgmt-keyvault<10.0.0,>=0.40.0 in /usr/local/lib/python3.7/site-packages (from azureml-core>=1.31.0->-r /content/condaenv.9v8omz8z.requirements.txt (line 7)) (9.3.0)\n",
            "Requirement already satisfied: msal<2.0.0,>=1.15.0 in /usr/local/lib/python3.7/site-packages (from azureml-core>=1.31.0->-r /content/condaenv.9v8omz8z.requirements.txt (line 7)) (1.17.0)\n",
            "Requirement already satisfied: adal<=1.2.7,>=1.2.0 in /usr/local/lib/python3.7/site-packages (from azureml-core>=1.31.0->-r /content/condaenv.9v8omz8z.requirements.txt (line 7)) (1.2.7)\n",
            "Requirement already satisfied: msal-extensions<0.4,>=0.3.0 in /usr/local/lib/python3.7/site-packages (from azureml-core>=1.31.0->-r /content/condaenv.9v8omz8z.requirements.txt (line 7)) (0.3.1)\n",
            "Requirement already satisfied: humanfriendly<11.0,>=4.7 in /usr/local/lib/python3.7/site-packages (from azureml-core>=1.31.0->-r /content/condaenv.9v8omz8z.requirements.txt (line 7)) (10.0)\n",
            "Requirement already satisfied: SecretStorage<4.0.0 in /usr/local/lib/python3.7/site-packages (from azureml-core>=1.31.0->-r /content/condaenv.9v8omz8z.requirements.txt (line 7)) (3.3.1)\n",
            "Requirement already satisfied: azure-mgmt-authorization<1.0.0,>=0.40.0 in /usr/local/lib/python3.7/site-packages (from azureml-core>=1.31.0->-r /content/condaenv.9v8omz8z.requirements.txt (line 7)) (0.61.0)\n",
            "Requirement already satisfied: azure-common<2.0.0,>=1.1.12 in /usr/local/lib/python3.7/site-packages (from azureml-core>=1.31.0->-r /content/condaenv.9v8omz8z.requirements.txt (line 7)) (1.1.28)\n",
            "Requirement already satisfied: pyopenssl<22.0.0 in /usr/local/lib/python3.7/site-packages (from azureml-core>=1.31.0->-r /content/condaenv.9v8omz8z.requirements.txt (line 7)) (20.0.1)\n",
            "Requirement already satisfied: mlflow-skinny in /usr/local/lib/python3.7/site-packages (from azureml-mlflow>=1.31.0->-r /content/condaenv.9v8omz8z.requirements.txt (line 8)) (1.24.0)\n",
            "Requirement already satisfied: azureml-train-restclients-hyperdrive~=1.39.0 in /usr/local/lib/python3.7/site-packages (from azureml-train-core->-r /content/condaenv.9v8omz8z.requirements.txt (line 11)) (1.39.0)\n",
            "Requirement already satisfied: azureml-telemetry~=1.39.0 in /usr/local/lib/python3.7/site-packages (from azureml-train-core->-r /content/condaenv.9v8omz8z.requirements.txt (line 11)) (1.39.0)\n",
            "Requirement already satisfied: six>=1.11.0 in /usr/local/lib/python3.7/site-packages (from azure-core<1.22->azureml-core>=1.31.0->-r /content/condaenv.9v8omz8z.requirements.txt (line 7)) (1.15.0)\n",
            "Requirement already satisfied: azure-mgmt-core<2.0.0,>=1.2.0 in /usr/local/lib/python3.7/site-packages (from azure-mgmt-containerregistry<9.0.0,>=8.2.0->azureml-core>=1.31.0->-r /content/condaenv.9v8omz8z.requirements.txt (line 7)) (1.3.0)\n",
            "Requirement already satisfied: applicationinsights in /usr/local/lib/python3.7/site-packages (from azureml-telemetry~=1.39.0->azureml-train-core->-r /content/condaenv.9v8omz8z.requirements.txt (line 11)) (0.11.10)\n",
            "Requirement already satisfied: zipp>=0.5 in /usr/local/lib/python3.7/site-packages (from catalogue<2.1.0,>=2.0.6->spacy==3.1.3->-r /content/condaenv.9v8omz8z.requirements.txt (line 4)) (3.7.0)\n",
            "Requirement already satisfied: cffi>=1.12 in /usr/local/lib/python3.7/site-packages (from cryptography!=1.9,!=2.0.*,!=2.1.*,!=2.2.*,<37.0.0->azureml-core>=1.31.0->-r /content/condaenv.9v8omz8z.requirements.txt (line 7)) (1.14.5)\n",
            "Requirement already satisfied: websocket-client>=0.32.0 in /usr/local/lib/python3.7/site-packages (from docker<6.0.0->azureml-core>=1.31.0->-r /content/condaenv.9v8omz8z.requirements.txt (line 7)) (1.3.1)\n",
            "Requirement already satisfied: aiohttp in /usr/local/lib/python3.7/site-packages (from fsspec[http]!=2021.06.0,>=2021.05.0->pytorch_lightning==1.4.8->-r /content/condaenv.9v8omz8z.requirements.txt (line 6)) (3.8.1)\n",
            "Requirement already satisfied: tabulate in /usr/local/lib/python3.7/site-packages (from knack~=0.9.0->azureml-core>=1.31.0->-r /content/condaenv.9v8omz8z.requirements.txt (line 7)) (0.8.9)\n",
            "Requirement already satisfied: pygments in /usr/local/lib/python3.7/site-packages (from knack~=0.9.0->azureml-core>=1.31.0->-r /content/condaenv.9v8omz8z.requirements.txt (line 7)) (2.11.2)\n",
            "Requirement already satisfied: portalocker<3,>=1.0 in /usr/local/lib/python3.7/site-packages (from msal-extensions<0.4,>=0.3.0->azureml-core>=1.31.0->-r /content/condaenv.9v8omz8z.requirements.txt (line 7)) (2.4.0)\n",
            "Requirement already satisfied: isodate>=0.6.0 in /usr/local/lib/python3.7/site-packages (from msrest<1.0.0,>=0.5.1->azureml-core>=1.31.0->-r /content/condaenv.9v8omz8z.requirements.txt (line 7)) (0.6.1)\n",
            "Requirement already satisfied: certifi>=2017.4.17 in /usr/local/lib/python3.7/site-packages (from msrest<1.0.0,>=0.5.1->azureml-core>=1.31.0->-r /content/condaenv.9v8omz8z.requirements.txt (line 7)) (2021.10.8)\n",
            "Requirement already satisfied: requests-oauthlib>=0.5.0 in /usr/local/lib/python3.7/site-packages (from msrest<1.0.0,>=0.5.1->azureml-core>=1.31.0->-r /content/condaenv.9v8omz8z.requirements.txt (line 7)) (1.3.1)\n",
            "Requirement already satisfied: pyasn1>=0.1.1 in /usr/local/lib/python3.7/site-packages (from ndg-httpsclient<=0.5.1->azureml-core>=1.31.0->-r /content/condaenv.9v8omz8z.requirements.txt (line 7)) (0.4.8)\n",
            "Requirement already satisfied: bcrypt>=3.1.3 in /usr/local/lib/python3.7/site-packages (from paramiko<3.0.0,>=2.0.8->azureml-core>=1.31.0->-r /content/condaenv.9v8omz8z.requirements.txt (line 7)) (3.2.0)\n",
            "Requirement already satisfied: pynacl>=1.0.1 in /usr/local/lib/python3.7/site-packages (from paramiko<3.0.0,>=2.0.8->azureml-core>=1.31.0->-r /content/condaenv.9v8omz8z.requirements.txt (line 7)) (1.5.0)\n",
            "Requirement already satisfied: smart-open<6.0.0,>=5.0.0 in /usr/local/lib/python3.7/site-packages (from pathy>=0.3.5->spacy==3.1.3->-r /content/condaenv.9v8omz8z.requirements.txt (line 4)) (5.2.1)\n",
            "Requirement already satisfied: chardet<5,>=3.0.2 in /usr/local/lib/python3.7/site-packages (from requests->transformers==4.11.0->-r /content/condaenv.9v8omz8z.requirements.txt (line 2)) (4.0.0)\n",
            "Requirement already satisfied: idna<3,>=2.5 in /usr/local/lib/python3.7/site-packages (from requests->transformers==4.11.0->-r /content/condaenv.9v8omz8z.requirements.txt (line 2)) (2.10)\n",
            "Requirement already satisfied: PySocks!=1.5.7,>=1.5.6 in /usr/local/lib/python3.7/site-packages (from requests->transformers==4.11.0->-r /content/condaenv.9v8omz8z.requirements.txt (line 2)) (1.7.1)\n",
            "Requirement already satisfied: jeepney>=0.6 in /usr/local/lib/python3.7/site-packages (from SecretStorage<4.0.0->azureml-core>=1.31.0->-r /content/condaenv.9v8omz8z.requirements.txt (line 7)) (0.7.1)\n",
            "Requirement already satisfied: protobuf>=3.6.0 in /usr/local/lib/python3.7/site-packages (from tensorboard>=2.2.0->pytorch_lightning==1.4.8->-r /content/condaenv.9v8omz8z.requirements.txt (line 6)) (3.19.4)\n",
            "Requirement already satisfied: wheel>=0.26 in /usr/local/lib/python3.7/site-packages (from tensorboard>=2.2.0->pytorch_lightning==1.4.8->-r /content/condaenv.9v8omz8z.requirements.txt (line 6)) (0.36.2)\n",
            "Requirement already satisfied: tensorboard-plugin-wit>=1.6.0 in /usr/local/lib/python3.7/site-packages (from tensorboard>=2.2.0->pytorch_lightning==1.4.8->-r /content/condaenv.9v8omz8z.requirements.txt (line 6)) (1.8.1)\n",
            "Requirement already satisfied: absl-py>=0.4 in /usr/local/lib/python3.7/site-packages (from tensorboard>=2.2.0->pytorch_lightning==1.4.8->-r /content/condaenv.9v8omz8z.requirements.txt (line 6)) (1.0.0)\n",
            "Requirement already satisfied: grpcio>=1.24.3 in /usr/local/lib/python3.7/site-packages (from tensorboard>=2.2.0->pytorch_lightning==1.4.8->-r /content/condaenv.9v8omz8z.requirements.txt (line 6)) (1.44.0)\n",
            "Requirement already satisfied: google-auth<3,>=1.6.3 in /usr/local/lib/python3.7/site-packages (from tensorboard>=2.2.0->pytorch_lightning==1.4.8->-r /content/condaenv.9v8omz8z.requirements.txt (line 6)) (2.6.2)\n",
            "Requirement already satisfied: markdown>=2.6.8 in /usr/local/lib/python3.7/site-packages (from tensorboard>=2.2.0->pytorch_lightning==1.4.8->-r /content/condaenv.9v8omz8z.requirements.txt (line 6)) (3.3.6)\n",
            "Requirement already satisfied: werkzeug>=0.11.15 in /usr/local/lib/python3.7/site-packages (from tensorboard>=2.2.0->pytorch_lightning==1.4.8->-r /content/condaenv.9v8omz8z.requirements.txt (line 6)) (2.0.3)\n",
            "Requirement already satisfied: tensorboard-data-server<0.7.0,>=0.6.0 in /usr/local/lib/python3.7/site-packages (from tensorboard>=2.2.0->pytorch_lightning==1.4.8->-r /content/condaenv.9v8omz8z.requirements.txt (line 6)) (0.6.1)\n",
            "Requirement already satisfied: google-auth-oauthlib<0.5,>=0.4.1 in /usr/local/lib/python3.7/site-packages (from tensorboard>=2.2.0->pytorch_lightning==1.4.8->-r /content/condaenv.9v8omz8z.requirements.txt (line 6)) (0.4.6)\n",
            "Requirement already satisfied: click<9.0.0,>=7.1.1 in /usr/local/lib/python3.7/site-packages (from typer<0.5.0,>=0.3.0->spacy==3.1.3->-r /content/condaenv.9v8omz8z.requirements.txt (line 4)) (8.0.4)\n",
            "Requirement already satisfied: backports.weakref in /usr/local/lib/python3.7/site-packages (from backports.tempfile->azureml-core>=1.31.0->-r /content/condaenv.9v8omz8z.requirements.txt (line 7)) (1.0.post1)\n",
            "Requirement already satisfied: MarkupSafe>=2.0 in /usr/local/lib/python3.7/site-packages (from jinja2->spacy==3.1.3->-r /content/condaenv.9v8omz8z.requirements.txt (line 4)) (2.1.1)\n",
            "Requirement already satisfied: databricks-cli>=0.8.7 in /usr/local/lib/python3.7/site-packages (from mlflow-skinny->azureml-mlflow>=1.31.0->-r /content/condaenv.9v8omz8z.requirements.txt (line 8)) (0.16.4)\n",
            "Requirement already satisfied: entrypoints in /usr/local/lib/python3.7/site-packages (from mlflow-skinny->azureml-mlflow>=1.31.0->-r /content/condaenv.9v8omz8z.requirements.txt (line 8)) (0.4)\n",
            "Requirement already satisfied: gitpython>=2.1.0 in /usr/local/lib/python3.7/site-packages (from mlflow-skinny->azureml-mlflow>=1.31.0->-r /content/condaenv.9v8omz8z.requirements.txt (line 8)) (3.1.27)\n",
            "Requirement already satisfied: cloudpickle in /usr/local/lib/python3.7/site-packages (from mlflow-skinny->azureml-mlflow>=1.31.0->-r /content/condaenv.9v8omz8z.requirements.txt (line 8)) (2.0.0)\n",
            "Requirement already satisfied: joblib in /usr/local/lib/python3.7/site-packages (from sacremoses->transformers==4.11.0->-r /content/condaenv.9v8omz8z.requirements.txt (line 2)) (1.1.0)\n",
            "Requirement already satisfied: pycparser in /usr/local/lib/python3.7/site-packages (from cffi>=1.12->cryptography!=1.9,!=2.0.*,!=2.1.*,!=2.2.*,<37.0.0->azureml-core>=1.31.0->-r /content/condaenv.9v8omz8z.requirements.txt (line 7)) (2.20)\n",
            "Requirement already satisfied: gitdb<5,>=4.0.1 in /usr/local/lib/python3.7/site-packages (from gitpython>=2.1.0->mlflow-skinny->azureml-mlflow>=1.31.0->-r /content/condaenv.9v8omz8z.requirements.txt (line 8)) (4.0.9)\n",
            "Requirement already satisfied: pyasn1-modules>=0.2.1 in /usr/local/lib/python3.7/site-packages (from google-auth<3,>=1.6.3->tensorboard>=2.2.0->pytorch_lightning==1.4.8->-r /content/condaenv.9v8omz8z.requirements.txt (line 6)) (0.2.8)\n",
            "Requirement already satisfied: rsa<5,>=3.1.4 in /usr/local/lib/python3.7/site-packages (from google-auth<3,>=1.6.3->tensorboard>=2.2.0->pytorch_lightning==1.4.8->-r /content/condaenv.9v8omz8z.requirements.txt (line 6)) (4.8)\n",
            "Requirement already satisfied: cachetools<6.0,>=2.0.0 in /usr/local/lib/python3.7/site-packages (from google-auth<3,>=1.6.3->tensorboard>=2.2.0->pytorch_lightning==1.4.8->-r /content/condaenv.9v8omz8z.requirements.txt (line 6)) (5.0.0)\n",
            "Requirement already satisfied: oauthlib>=3.0.0 in /usr/local/lib/python3.7/site-packages (from requests-oauthlib>=0.5.0->msrest<1.0.0,>=0.5.1->azureml-core>=1.31.0->-r /content/condaenv.9v8omz8z.requirements.txt (line 7)) (3.2.0)\n",
            "Requirement already satisfied: multidict<7.0,>=4.5 in /usr/local/lib/python3.7/site-packages (from aiohttp->fsspec[http]!=2021.06.0,>=2021.05.0->pytorch_lightning==1.4.8->-r /content/condaenv.9v8omz8z.requirements.txt (line 6)) (6.0.2)\n",
            "Requirement already satisfied: attrs>=17.3.0 in /usr/local/lib/python3.7/site-packages (from aiohttp->fsspec[http]!=2021.06.0,>=2021.05.0->pytorch_lightning==1.4.8->-r /content/condaenv.9v8omz8z.requirements.txt (line 6)) (21.4.0)\n",
            "Requirement already satisfied: charset-normalizer<3.0,>=2.0 in /usr/local/lib/python3.7/site-packages (from aiohttp->fsspec[http]!=2021.06.0,>=2021.05.0->pytorch_lightning==1.4.8->-r /content/condaenv.9v8omz8z.requirements.txt (line 6)) (2.0.12)\n",
            "Requirement already satisfied: yarl<2.0,>=1.0 in /usr/local/lib/python3.7/site-packages (from aiohttp->fsspec[http]!=2021.06.0,>=2021.05.0->pytorch_lightning==1.4.8->-r /content/condaenv.9v8omz8z.requirements.txt (line 6)) (1.7.2)\n",
            "Requirement already satisfied: aiosignal>=1.1.2 in /usr/local/lib/python3.7/site-packages (from aiohttp->fsspec[http]!=2021.06.0,>=2021.05.0->pytorch_lightning==1.4.8->-r /content/condaenv.9v8omz8z.requirements.txt (line 6)) (1.2.0)\n",
            "Requirement already satisfied: async-timeout<5.0,>=4.0.0a3 in /usr/local/lib/python3.7/site-packages (from aiohttp->fsspec[http]!=2021.06.0,>=2021.05.0->pytorch_lightning==1.4.8->-r /content/condaenv.9v8omz8z.requirements.txt (line 6)) (4.0.2)\n",
            "Requirement already satisfied: frozenlist>=1.1.1 in /usr/local/lib/python3.7/site-packages (from aiohttp->fsspec[http]!=2021.06.0,>=2021.05.0->pytorch_lightning==1.4.8->-r /content/condaenv.9v8omz8z.requirements.txt (line 6)) (1.3.0)\n",
            "Requirement already satisfied: asynctest==0.13.0 in /usr/local/lib/python3.7/site-packages (from aiohttp->fsspec[http]!=2021.06.0,>=2021.05.0->pytorch_lightning==1.4.8->-r /content/condaenv.9v8omz8z.requirements.txt (line 6)) (0.13.0)\n",
            "Requirement already satisfied: smmap<6,>=3.0.1 in /usr/local/lib/python3.7/site-packages (from gitdb<5,>=4.0.1->gitpython>=2.1.0->mlflow-skinny->azureml-mlflow>=1.31.0->-r /content/condaenv.9v8omz8z.requirements.txt (line 8)) (5.0.0)\n",
            "\n",
            "\b\bdone\n",
            "#\n",
            "# To activate this environment, use\n",
            "#\n",
            "#     $ conda activate base\n",
            "#\n",
            "# To deactivate an active environment, use\n",
            "#\n",
            "#     $ conda deactivate\n",
            "\n"
          ]
        }
      ]
    },
    {
      "cell_type": "markdown",
      "metadata": {
        "id": "opPtU3B0NVdT"
      },
      "source": [
        "# Local Training"
      ]
    },
    {
      "cell_type": "markdown",
      "metadata": {
        "id": "ITNg1N6qMclD"
      },
      "source": [
        "## Data Exploration"
      ]
    },
    {
      "cell_type": "code",
      "source": [
        "import pytorch_lightning\n",
        "import condacolab\n",
        "condacolab.check()"
      ],
      "metadata": {
        "colab": {
          "base_uri": "https://localhost:8080/"
        },
        "id": "aN6h2zLfwwH6",
        "outputId": "c30ebf4d-0709-4656-e9cd-503a839a4321"
      },
      "execution_count": null,
      "outputs": [
        {
          "output_type": "stream",
          "name": "stdout",
          "text": [
            "✨🍰✨ Everything looks OK!\n"
          ]
        }
      ]
    },
    {
      "cell_type": "code",
      "metadata": {
        "id": "hzMzL3J1MclH"
      },
      "source": [
        "import warnings\n",
        "warnings.filterwarnings('ignore')\n",
        "\n",
        "import torch\n",
        "import random\n",
        "import numpy as np\n",
        "SEED = 1924"
      ],
      "execution_count": null,
      "outputs": []
    },
    {
      "cell_type": "code",
      "metadata": {
        "id": "xLAaSuSpMclI",
        "colab": {
          "base_uri": "https://localhost:8080/"
        },
        "outputId": "72fc44da-17e4-4e0e-f1d2-78452a7d2d42"
      },
      "source": [
        "import torchtext\n",
        "from torchtext.legacy.data import Field\n",
        "from torchtext.legacy.datasets import IMDB\n",
        "\n",
        "# Import dataset\n",
        "text = Field(batch_first=True, include_lengths=False)\n",
        "label = Field(batch_first=True)\n",
        "train, test = IMDB.splits(text, label)\n",
        "\n",
        "# https://pytorch.org/text/stable/datasets.html#imdb\n",
        "assert isinstance(train, torchtext.legacy.datasets.imdb.IMDB)\n",
        "assert isinstance(test, torchtext.legacy.datasets.imdb.IMDB)"
      ],
      "execution_count": null,
      "outputs": [
        {
          "output_type": "stream",
          "name": "stdout",
          "text": [
            "downloading aclImdb_v1.tar.gz\n"
          ]
        },
        {
          "output_type": "stream",
          "name": "stderr",
          "text": [
            "aclImdb_v1.tar.gz: 100%|██████████| 84.1M/84.1M [00:08<00:00, 9.78MB/s]\n"
          ]
        }
      ]
    },
    {
      "cell_type": "code",
      "metadata": {
        "colab": {
          "base_uri": "https://localhost:8080/"
        },
        "id": "ucE6yjolMclJ",
        "outputId": "7274fcd9-8897-4f2a-b08d-9cf3c1f5fd10"
      },
      "source": [
        "import random\n",
        "\n",
        "# Print some examples of positive and negative reviews\n",
        "examples = list(train.examples)\n",
        "random.shuffle(examples)\n",
        "examples = examples[:8]\n",
        "\n",
        "for example in examples:\n",
        "    print(example.label)\n",
        "    print(' '.join(example.text)[:300])\n",
        "    print(\"-----\")"
      ],
      "execution_count": null,
      "outputs": [
        {
          "output_type": "stream",
          "name": "stdout",
          "text": [
            "['pos']\n",
            "This movie is a classic in every sense of the word. It is very entertaining and also very disturbing. The acting in this movie is well done. The story itself is believable, suspenseful, and well thought out. Character development is also done well, the audience can clearly see how each of the charac\n",
            "-----\n",
            "['neg']\n",
            "I was thirteen years old, when I saw this movie. I expected a lot of action. Since Escape From New York was 16-rated in Germany I entered the movie as fallback. It was so boring. Afterwards I realized that this was just crap where a husband exhibits his wife. I mean today you do this via internet an\n",
            "-----\n",
            "['neg']\n",
            "Christopher Guest need not worry, his supreme hold on the Mockumentary sub-genre is not in trouble of being upstaged in the least especially not by this extremely unfunny jab at RPG-gamers. The jokes are beyond lame. Not enough substance to last the typical length of a (particularly rancid) SNL skit\n",
            "-----\n",
            "['neg']\n",
            "I saw this film opening weekend in Australia, anticipating with an excellent cast of Ledger, Edgerton, Bloom, Watts and Rush that the definitive story of Ned Kelly would unfold before me. Unfortunately, despite an outstanding performance by Heath Ledger in the lead role, the plot was paper thin....w\n",
            "-----\n",
            "['pos']\n",
            "What's not to like about this movie? Every year you know that you're going to get one or two yule tide movies during Christmas time and most of them are going to be terrible. This movie is definitely a fresh new idea that was pulled off pretty well. A very funny take on a rich young guy paying a fam\n",
            "-----\n",
            "['neg']\n",
            "Worst movie ever made!!! Please see the Real movie reviews from the pros on this movie.Check Rotten Tomatoes on the web for some good independent reviews on this film. The comments made on this site are apparently from folks with some financial interest in this film. I find the positive comments ver\n",
            "-----\n",
            "['neg']\n",
            "What was this supposed to be? A remake of Fisher King? Why do we care about Sandler's character? What a slow, dreary, boring, who-gives-a-damn-about-these-people movie!!! Just simply painful to sit through, I turned it off before it was over. It's so obvious that Cheadle needs help as much as Sandle\n",
            "-----\n",
            "['pos']\n",
            "Beyond the excellent direction,production,acting & the predictable drama lies an essential message in the script:<br /><br />\"Listening leads all the way\" In order for the voice to flourish,listen.To harmonise with other in voice,listen. In order to approach yourself,listen.To discover the needs of \n",
            "-----\n"
          ]
        }
      ]
    },
    {
      "cell_type": "markdown",
      "metadata": {
        "id": "AAYARaxpMclK"
      },
      "source": [
        "## Data Prepration"
      ]
    },
    {
      "cell_type": "code",
      "metadata": {
        "colab": {
          "base_uri": "https://localhost:8080/",
          "height": 216,
          "referenced_widgets": [
            "70d987ba9f6b466a9c768b54a1d94578",
            "f1b64da7bc8a45aba604c23130e54fad",
            "d4859fd6c921462595a0d856d762d681",
            "504e6fc7a3b540b5ac0982d3c5b8b088",
            "097c6e4fd7d3417298320114e8298bb2",
            "2a8d5c964db44402ab90a277270c1010",
            "82a8d8d9a5cd4625b4ffae8fafc2416b",
            "a48a1746a8b940a4b845fbb946c1caa0",
            "610290055fed4a3b824771e1c560bb84",
            "05d4f317425d40558b2756187718b4c2",
            "68a517d6986e4c9db752d899b2563e46",
            "67df7d3835c645c49ed36b7054ad0420",
            "5a6ff67fe41d48229ad1e3208eb1d7fa",
            "266fd79f961e4cd799700748e7f8169a",
            "794a917080f944f999614ae8b67cfddc",
            "f59862e1c677402885c992149772ca50",
            "293e0c1d2a684f2990633113c5fcf6ac",
            "4500177962f441caa28e513ac650f397",
            "a8ddf5ad4eac400997f7eb67cc9eb373",
            "dddb2440770f4a7798796225463fd69c",
            "398a5976bf51431185a838dba7e360ce",
            "87877bae6dc84879a128405ecfa2047c",
            "58be7089752143419202faf83956d652",
            "87ce3b5f9cad4caab20a2f2c40ef2340",
            "9378217fa2be4451be514a4dfc0445b6",
            "2a8a2f3f1da34afbb363707ac5f48ff3",
            "fd2ed567049a406498ac110b3a023885",
            "f0e636ef1dc94264a67cf76a81a5facd",
            "84b5eb30f4ca41e2ae01a39efdffd966",
            "b0a0f650b1794a16aaca9d18371e423a",
            "2316037518dd4822a130cdce0d159682",
            "e52628a88dd64a419c20d639828bb77a",
            "e8ba0db20e6a49b4a65dd23060e504bb",
            "7631a96cbd544a99adc3bf992762dcf7",
            "843cf487ca7046d29bffa607d9e00ddc",
            "64031cad632e42e198a29dfaa68237f7",
            "0555b45d891a4ce8bb1313eaa652f6f3",
            "eaf733faf9a347a2ae4c38c54ce3ad1c",
            "a2ec3f4a06db475787d3f506a785afe2",
            "5c6b29ec4bb34eceb9e0bb91b8c8ad85",
            "2e66e95e06ef4684be68d5f76d5f4b7b",
            "0c364a2d6cbe43cb85e7c3f2657f5337",
            "01a3c70efd154ad9ad8acc38344aaf40",
            "a60f9c25bd624b829207f6f24456b020"
          ]
        },
        "id": "UqHaqupUMclK",
        "outputId": "52e08534-8ea3-4676-c33b-0000b30b63af"
      },
      "source": [
        "from transformers import BertTokenizer\n",
        "tokenizer = BertTokenizer.from_pretrained('bert-base-uncased')\n",
        "\n",
        "# Identify special tokens\n",
        "print(\"Start Token:\", tokenizer.cls_token, tokenizer.cls_token_id)\n",
        "print(\"End Token:\", tokenizer.sep_token, tokenizer.sep_token_id)\n",
        "print(\"Padding Token:\", tokenizer.pad_token, tokenizer.pad_token_id)\n",
        "print(\"Out of Vocab Token:\", tokenizer.unk_token, tokenizer.unk_token_id)"
      ],
      "execution_count": null,
      "outputs": [
        {
          "output_type": "display_data",
          "data": {
            "text/plain": [
              "Downloading:   0%|          | 0.00/226k [00:00<?, ?B/s]"
            ],
            "application/vnd.jupyter.widget-view+json": {
              "version_major": 2,
              "version_minor": 0,
              "model_id": "70d987ba9f6b466a9c768b54a1d94578"
            }
          },
          "metadata": {}
        },
        {
          "output_type": "display_data",
          "data": {
            "text/plain": [
              "Downloading:   0%|          | 0.00/28.0 [00:00<?, ?B/s]"
            ],
            "application/vnd.jupyter.widget-view+json": {
              "version_major": 2,
              "version_minor": 0,
              "model_id": "67df7d3835c645c49ed36b7054ad0420"
            }
          },
          "metadata": {}
        },
        {
          "output_type": "display_data",
          "data": {
            "text/plain": [
              "Downloading:   0%|          | 0.00/455k [00:00<?, ?B/s]"
            ],
            "application/vnd.jupyter.widget-view+json": {
              "version_major": 2,
              "version_minor": 0,
              "model_id": "58be7089752143419202faf83956d652"
            }
          },
          "metadata": {}
        },
        {
          "output_type": "display_data",
          "data": {
            "text/plain": [
              "Downloading:   0%|          | 0.00/570 [00:00<?, ?B/s]"
            ],
            "application/vnd.jupyter.widget-view+json": {
              "version_major": 2,
              "version_minor": 0,
              "model_id": "7631a96cbd544a99adc3bf992762dcf7"
            }
          },
          "metadata": {}
        },
        {
          "output_type": "stream",
          "name": "stdout",
          "text": [
            "Start Token: [CLS] 101\n",
            "End Token: [SEP] 102\n",
            "Padding Token: [PAD] 0\n",
            "Out of Vocab Token: [UNK] 100\n"
          ]
        }
      ]
    },
    {
      "cell_type": "code",
      "metadata": {
        "colab": {
          "base_uri": "https://localhost:8080/"
        },
        "id": "BssSwrdAMclK",
        "outputId": "46c85537-dd25-4a99-e91b-3c078e8fee9e"
      },
      "source": [
        "# View an example\n",
        "document = 'Hello InterviewKickstart Class, Welcome to Week 5!! '\n",
        "tokens = tokenizer.tokenize(document)\n",
        "print(f\"Text:\\n -->{document}\")\n",
        "print(f\"Tokens:\\n --> {', '.join(tokens)}\")\n",
        "print(f\"Encoded:\\n --> {tokenizer.encode(document)}\")"
      ],
      "execution_count": null,
      "outputs": [
        {
          "output_type": "stream",
          "name": "stdout",
          "text": [
            "Text:\n",
            " -->Hello InterviewKickstart Class, Welcome to Week 5!! \n",
            "Tokens:\n",
            " --> hello, interview, ##kic, ##ks, ##tar, ##t, class, ,, welcome, to, week, 5, !, !\n",
            "Encoded:\n",
            " --> [101, 7592, 4357, 29493, 5705, 7559, 2102, 2465, 1010, 6160, 2000, 2733, 1019, 999, 999, 102]\n"
          ]
        }
      ]
    },
    {
      "cell_type": "code",
      "metadata": {
        "colab": {
          "base_uri": "https://localhost:8080/"
        },
        "id": "HQL5lS80MclL",
        "outputId": "40305ac6-bcbc-496c-d5cf-dcd3bbc9ee44"
      },
      "source": [
        "# View text, tokens, and encoded representationn side by side\n",
        "document = ' '.join(examples[0].text[:100])\n",
        "tokens = tokenizer.tokenize(document)\n",
        "print(f\"Text:\\n -->{document}\")\n",
        "print(f\"Tokens:\\n --> {', '.join(tokens)}\")\n",
        "print(f\"Encoded:\\n --> {tokenizer.encode(document)}\")"
      ],
      "execution_count": null,
      "outputs": [
        {
          "output_type": "stream",
          "name": "stdout",
          "text": [
            "Text:\n",
            " -->This movie is a classic in every sense of the word. It is very entertaining and also very disturbing. The acting in this movie is well done. The story itself is believable, suspenseful, and well thought out. Character development is also done well, the audience can clearly see how each of the characters is emotionally tested through this film. The villains in this movie are very threatening, from the first moment the audience sees them they can tell that they are up to something. This movie shows how a human being, when taken from civilization and put in the middle\n",
            "Tokens:\n",
            " --> this, movie, is, a, classic, in, every, sense, of, the, word, ., it, is, very, entertaining, and, also, very, disturbing, ., the, acting, in, this, movie, is, well, done, ., the, story, itself, is, bel, ##ie, ##vable, ,, suspense, ##ful, ,, and, well, thought, out, ., character, development, is, also, done, well, ,, the, audience, can, clearly, see, how, each, of, the, characters, is, emotionally, tested, through, this, film, ., the, villains, in, this, movie, are, very, threatening, ,, from, the, first, moment, the, audience, sees, them, they, can, tell, that, they, are, up, to, something, ., this, movie, shows, how, a, human, being, ,, when, taken, from, civilization, and, put, in, the, middle\n",
            "Encoded:\n",
            " --> [101, 2023, 3185, 2003, 1037, 4438, 1999, 2296, 3168, 1997, 1996, 2773, 1012, 2009, 2003, 2200, 14036, 1998, 2036, 2200, 14888, 1012, 1996, 3772, 1999, 2023, 3185, 2003, 2092, 2589, 1012, 1996, 2466, 2993, 2003, 19337, 2666, 12423, 1010, 23873, 3993, 1010, 1998, 2092, 2245, 2041, 1012, 2839, 2458, 2003, 2036, 2589, 2092, 1010, 1996, 4378, 2064, 4415, 2156, 2129, 2169, 1997, 1996, 3494, 2003, 14868, 7718, 2083, 2023, 2143, 1012, 1996, 16219, 1999, 2023, 3185, 2024, 2200, 8701, 1010, 2013, 1996, 2034, 2617, 1996, 4378, 5927, 2068, 2027, 2064, 2425, 2008, 2027, 2024, 2039, 2000, 2242, 1012, 2023, 3185, 3065, 2129, 1037, 2529, 2108, 1010, 2043, 2579, 2013, 10585, 1998, 2404, 1999, 1996, 2690, 102]\n"
          ]
        }
      ]
    },
    {
      "cell_type": "markdown",
      "metadata": {
        "id": "NjyhQPh4MclM"
      },
      "source": [
        "## Environment Setup"
      ]
    },
    {
      "cell_type": "code",
      "metadata": {
        "id": "gjSfouBUMclM"
      },
      "source": [
        "# Define a feature field to store the values\n",
        "MAX_SEQ_LEN = 128\n",
        "text_field = Field(batch_first = True,\n",
        "                  use_vocab = False,\n",
        "                  tokenize = tokenizer.encode,\n",
        "                  include_lengths=False,\n",
        "                  init_token = tokenizer.cls_token_id,\n",
        "                  eos_token = tokenizer.sep_token_id,\n",
        "                  pad_token = tokenizer.pad_token_id,\n",
        "                  unk_token = tokenizer.unk_token_id,\n",
        "                  fix_length=MAX_SEQ_LEN)\n",
        "label_field = Field(dtype=torch.long, batch_first=True)"
      ],
      "execution_count": null,
      "outputs": []
    },
    {
      "cell_type": "code",
      "metadata": {
        "id": "wVgQlWo0MclN",
        "colab": {
          "base_uri": "https://localhost:8080/"
        },
        "outputId": "12e3b38b-40bb-40a6-9932-2b349b26aaab"
      },
      "source": [
        "# This will take a while\n",
        "trainval, test_data = IMDB.splits(text_field, label_field)\n",
        "train_data, valid_data = trainval.split(random_state = random.seed(SEED))"
      ],
      "execution_count": null,
      "outputs": [
        {
          "output_type": "stream",
          "name": "stderr",
          "text": [
            "Token indices sequence length is longer than the specified maximum sequence length for this model (692 > 512). Running this sequence through the model will result in indexing errors\n"
          ]
        }
      ]
    },
    {
      "cell_type": "code",
      "metadata": {
        "colab": {
          "base_uri": "https://localhost:8080/"
        },
        "id": "Q5bQgS__MclN",
        "outputId": "eda1254d-4fc0-479e-f121-3581b1f3eb3a"
      },
      "source": [
        "print(f\"Number of training examples: {len(train_data)}\")\n",
        "print(f\"Number of validation examples: {len(valid_data)}\")\n",
        "print(f\"Number of testing examples: {len(test_data)}\")"
      ],
      "execution_count": null,
      "outputs": [
        {
          "output_type": "stream",
          "name": "stdout",
          "text": [
            "Number of training examples: 17500\n",
            "Number of validation examples: 7500\n",
            "Number of testing examples: 25000\n"
          ]
        }
      ]
    },
    {
      "cell_type": "code",
      "metadata": {
        "colab": {
          "base_uri": "https://localhost:8080/"
        },
        "id": "XtTpU9oyMclO",
        "outputId": "33b7a912-238f-4914-89af-b6674966bf64"
      },
      "source": [
        "print(\"Tokenized:\" , train_data.examples[3].text)\n",
        "print(\"Label:\", train_data.examples[3].label)\n",
        "print(\"Decoded:\", tokenizer.convert_ids_to_tokens(train_data.examples[3].text))"
      ],
      "execution_count": null,
      "outputs": [
        {
          "output_type": "stream",
          "name": "stdout",
          "text": [
            "Tokenized: [101, 2023, 3185, 2001, 1037, 2428, 2307, 17312, 2055, 2242, 2008, 13531, 2149, 2035, 1012, 1045, 2113, 1045, 1005, 2310, 7714, 2448, 2046, 2023, 2116, 2335, 1012, 4067, 15003, 2097, 3044, 2038, 5598, 3031, 1996, 23382, 3277, 1997, 3793, 24732, 2096, 4439, 1012, 2111, 1010, 2123, 1005, 1056, 2079, 2009, 1012, 2019, 3178, 1998, 5659, 2274, 2781, 2003, 2025, 2438, 2051, 2005, 2023, 3426, 1012, 7714, 1010, 1045, 2359, 2000, 5466, 2185, 2026, 3526, 3042, 2044, 1996, 3185, 1012, 1045, 2001, 5580, 2000, 2156, 2060, 2111, 1999, 1996, 4258, 2387, 1996, 4471, 1998, 14019, 2037, 11640, 2007, 1996, 4064, 8641, 1997, 24593, 1012, 1045, 2787, 2000, 4487, 19150, 2035, 3793, 24732, 2006, 2026, 3042, 1998, 2052, 8627, 2500, 2000, 2079, 1996, 2168, 1012, 2065, 2017, 2729, 2055, 2115, 2155, 1010, 2191, 2068, 3422, 2023, 8995, 2270, 2326, 8874, 2006, 3793, 24732, 2096, 4439, 2030, 2027, 2071, 3102, 2698, 2111, 1012, 4283, 2005, 4760, 2149, 1996, 2126, 1012, 102]\n",
            "Label: ['pos']\n",
            "Decoded: ['[CLS]', 'this', 'movie', 'was', 'a', 'really', 'great', 'flick', 'about', 'something', 'that', 'affects', 'us', 'all', '.', 'i', 'know', 'i', \"'\", 've', 'personally', 'run', 'into', 'this', 'many', 'times', '.', 'thank', 'goodness', 'will', 'smith', 'has', 'jumped', 'onto', 'the', 'societal', 'issue', 'of', 'text', 'messaging', 'while', 'driving', '.', 'people', ',', 'don', \"'\", 't', 'do', 'it', '.', 'an', 'hour', 'and', 'forty', 'five', 'minutes', 'is', 'not', 'enough', 'time', 'for', 'this', 'cause', '.', 'personally', ',', 'i', 'wanted', 'to', 'throw', 'away', 'my', 'cell', 'phone', 'after', 'the', 'movie', '.', 'i', 'was', 'glad', 'to', 'see', 'other', 'people', 'in', 'the', 'theater', 'saw', 'the', 'message', 'and', 'dumped', 'their', 'phones', 'with', 'the', 'empty', 'bags', 'of', 'popcorn', '.', 'i', 'decided', 'to', 'di', '##sable', 'all', 'text', 'messaging', 'on', 'my', 'phone', 'and', 'would', 'encourage', 'others', 'to', 'do', 'the', 'same', '.', 'if', 'you', 'care', 'about', 'your', 'family', ',', 'make', 'them', 'watch', 'this', 'vital', 'public', 'service', 'announcement', 'on', 'text', 'messaging', 'while', 'driving', 'or', 'they', 'could', 'kill', 'seven', 'people', '.', 'thanks', 'for', 'showing', 'us', 'the', 'way', '.', '[SEP]']\n"
          ]
        }
      ]
    },
    {
      "cell_type": "code",
      "metadata": {
        "colab": {
          "base_uri": "https://localhost:8080/"
        },
        "id": "UsbMp4-hMclO",
        "outputId": "d16c0a4e-5707-4cac-c2cf-4cecabe31fc3"
      },
      "source": [
        "# View our output class field encodings\n",
        "label_field.build_vocab(train_data)\n",
        "print(dict(label_field.vocab.stoi))"
      ],
      "execution_count": null,
      "outputs": [
        {
          "output_type": "stream",
          "name": "stdout",
          "text": [
            "{'<unk>': 0, '<pad>': 1, 'pos': 2, 'neg': 3}\n"
          ]
        }
      ]
    },
    {
      "cell_type": "markdown",
      "metadata": {
        "id": "26iexRI5MclO"
      },
      "source": [
        "## Model Implementation and Training Loop\n",
        "\n",
        "using Pytorch + Pytorch Lightning"
      ]
    },
    {
      "cell_type": "code",
      "metadata": {
        "colab": {
          "base_uri": "https://localhost:8080/",
          "height": 122,
          "referenced_widgets": [
            "eb0f87f807ae451d945b9045cb61b8b2",
            "6b0ab6c4edf84b1ebd6f0eabf0d10739",
            "0056019f49004d288e4586a072e217e5",
            "475cc453f8784b1887b8cf38f8bfa13c",
            "5fb8323ad84044bca349c66546ee722c",
            "221019cc4f8f41a4a3d18dd4a8895546",
            "8d8b6b6568e34c99a5a4938407d7b1f7",
            "6146a7d1aa414846a728b65b23526025",
            "34155fe2deca46a481ab03bea5117d48",
            "60b06e3e13434fa29ca32b723f1e3fa9",
            "ae4312e77edb41ad96991b63af7fc460"
          ]
        },
        "id": "TcvGVSnFMclP",
        "outputId": "4c63b992-74b7-4df0-9315-7a76e9589d5e"
      },
      "source": [
        "from transformers import BertModel\n",
        "bert = BertModel.from_pretrained('bert-base-uncased')"
      ],
      "execution_count": null,
      "outputs": [
        {
          "output_type": "display_data",
          "data": {
            "text/plain": [
              "Downloading:   0%|          | 0.00/420M [00:00<?, ?B/s]"
            ],
            "application/vnd.jupyter.widget-view+json": {
              "version_major": 2,
              "version_minor": 0,
              "model_id": "eb0f87f807ae451d945b9045cb61b8b2"
            }
          },
          "metadata": {}
        },
        {
          "output_type": "stream",
          "name": "stderr",
          "text": [
            "Some weights of the model checkpoint at bert-base-uncased were not used when initializing BertModel: ['cls.predictions.transform.LayerNorm.weight', 'cls.seq_relationship.weight', 'cls.seq_relationship.bias', 'cls.predictions.bias', 'cls.predictions.transform.LayerNorm.bias', 'cls.predictions.transform.dense.weight', 'cls.predictions.transform.dense.bias', 'cls.predictions.decoder.weight']\n",
            "- This IS expected if you are initializing BertModel from the checkpoint of a model trained on another task or with another architecture (e.g. initializing a BertForSequenceClassification model from a BertForPreTraining model).\n",
            "- This IS NOT expected if you are initializing BertModel from the checkpoint of a model that you expect to be exactly identical (initializing a BertForSequenceClassification model from a BertForSequenceClassification model).\n"
          ]
        }
      ]
    },
    {
      "cell_type": "code",
      "metadata": {
        "id": "AyDUeZF_MclP"
      },
      "source": [
        "from torch import nn\n",
        "import pytorch_lightning as pl\n",
        "from torchtext.legacy.data import BucketIterator\n",
        "\n",
        "class BertModule(pl.LightningModule):\n",
        "    def __init__(\n",
        "        self,\n",
        "        bert: BertModel,\n",
        "\n",
        "        train_data = None,\n",
        "        valid_data = None,\n",
        "\n",
        "        # optimization\n",
        "        batch_size = 64,\n",
        "\n",
        "        # Architecture\n",
        "        num_hidden=64,\n",
        "        output_dim=3,\n",
        "        num_layers=2,\n",
        "        bidirectional=True,\n",
        "\n",
        "        # Regularization\n",
        "        dropout=0.1,\n",
        "    ):\n",
        "        super().__init__()\n",
        "        # Define the BERT and RNN models\n",
        "        self.bert = bert\n",
        "        self.rnn = nn.GRU(\n",
        "            bert.config.hidden_size,\n",
        "            num_hidden,\n",
        "            num_layers=num_layers,\n",
        "            bidirectional=bidirectional,\n",
        "            batch_first=True,\n",
        "            dropout=dropout,\n",
        "        )\n",
        "\n",
        "        self.fc = nn.Linear(num_hidden * 2 if bidirectional else num_hidden, output_dim)\n",
        "        self.dropout = nn.Dropout(dropout)\n",
        "\n",
        "        self.loss_fn = nn.CrossEntropyLoss()\n",
        "\n",
        "        self.train_iter, self.valid_iter = BucketIterator.splits((train_data, valid_data), batch_size=batch_size)\n",
        "\n",
        "        self.batch_size = batch_size\n",
        "\n",
        "    # Required method\n",
        "    def forward(self, text):\n",
        "        outputs = self.bert.forward(text)\n",
        "\n",
        "        _, hidden = self.rnn(outputs.last_hidden_state)\n",
        "\n",
        "        if self.rnn.bidirectional:\n",
        "            hidden = self.dropout(torch.cat((hidden[-2,:,:], hidden[-1,:,:]), dim = 1))\n",
        "        else:\n",
        "            hidden = self.dropout(hidden[-1,:,:])\n",
        "\n",
        "        return self.fc(hidden)\n",
        "\n",
        "    # Required method\n",
        "    def configure_optimizers(self):\n",
        "        return torch.optim.Adam(self.parameters(), lr=0.01)\n",
        "\n",
        "    # Required method\n",
        "    def training_step(self, batch, batch_index):\n",
        "        text = batch.text\n",
        "        label = batch.label.squeeze()\n",
        "        pred = self.forward(text)\n",
        "        loss = self.loss_fn(pred, label.long())\n",
        "        return loss\n",
        "\n",
        "    # Getter method\n",
        "    def train_dataloader(self):\n",
        "        return self.train_iter\n",
        "\n",
        "    # Getter method\n",
        "    def val_dataloader(self):\n",
        "        return self.valid_iter"
      ],
      "execution_count": null,
      "outputs": []
    },
    {
      "cell_type": "markdown",
      "metadata": {
        "id": "dPNzUOATMclQ"
      },
      "source": [
        "## Training"
      ]
    },
    {
      "cell_type": "code",
      "source": [
        "from pytorch_lightning.loggers import TensorBoardLogger\n",
        "\n",
        "# Instantiate the model we just defined\n",
        "model = BertModule(bert, train_data, valid_data, output_dim=len(label_field.vocab.stoi))\n",
        "\n",
        "# Instantiate logger\n",
        "logger = TensorBoardLogger('train_logs', name='model1')\n",
        "\n",
        "trainer = pl.Trainer(\n",
        "    logger=logger,\n",
        "    max_epochs=10,\n",
        ")"
      ],
      "metadata": {
        "id": "lVIjFD0XsrwD"
      },
      "execution_count": null,
      "outputs": []
    },
    {
      "cell_type": "code",
      "source": [
        "%load_ext tensorboard\n",
        "%tensorboard --logdir ./train_logs\n",
        "# Docs: https://www.tensorflow.org/tensorboard"
      ],
      "metadata": {
        "id": "RNGaO9AYsoes"
      },
      "execution_count": null,
      "outputs": []
    },
    {
      "cell_type": "code",
      "metadata": {
        "id": "o3QSCA7bMclQ"
      },
      "source": [
        "# This will take a\n",
        "trainer.fit(model)"
      ],
      "execution_count": null,
      "outputs": []
    },
    {
      "cell_type": "markdown",
      "source": [
        "How to test better locally:\n",
        "- Lower training/test data size\n",
        "- Lower number of parameters for the model to learn (layers, neurons per layer, etc...)\n",
        "- Lower number of epochs\n",
        "- Lower batch size\n",
        "\n",
        "Or, use cloud-backed GPU training!"
      ],
      "metadata": {
        "id": "GfpBmPhCueKS"
      }
    },
    {
      "cell_type": "markdown",
      "metadata": {
        "id": "5a0erkdENf7F"
      },
      "source": [
        "# Azure ML Backed Hyper Experimention"
      ]
    },
    {
      "cell_type": "markdown",
      "metadata": {
        "id": "Vb3h7S_PNp9R"
      },
      "source": [
        "## Azure Workspace Setup"
      ]
    },
    {
      "cell_type": "markdown",
      "metadata": {
        "id": "iEdp2xC5bSy-"
      },
      "source": [
        "## Environment Auth"
      ]
    },
    {
      "cell_type": "code",
      "source": [
        "from azureml.core import Workspace\n",
        "from azureml.core.authentication import InteractiveLoginAuthentication\n",
        "\n",
        "# INSERT YOUR OWN AZURE CREDENTIALS HERE AND UNCOMMENT\n",
        "\n",
        "# interactive_auth = InteractiveLoginAuthentication(tenant_id=\"aaaaaaa-bbbbb-1212-fdsa3-fdsafdsafda\")\n",
        "# subscription_id = \"aaaaaaa-bbbbb-1212-fdsa3-fdsafdsafda\"\n",
        "# resource_group = \"IKLearning\"\n",
        "# workspace_name = 'AIML-Module-5'\n",
        "\n",
        "# \"Interactive authentication successfully completed.\"\"\n",
        "\n",
        "ws = Workspace(subscription_id, resource_group, workspace_name, interactive_auth)\n",
        "ws.write_config()\n",
        "\n",
        "ws = Workspace.from_config()\n",
        "\n",
        "ws.name"
      ],
      "metadata": {
        "id": "8Ri-USyNTQ0_",
        "colab": {
          "base_uri": "https://localhost:8080/",
          "height": 35
        },
        "outputId": "f4fecabe-1f37-40d7-e866-ac0e87ae4908"
      },
      "execution_count": null,
      "outputs": [
        {
          "output_type": "execute_result",
          "data": {
            "text/plain": [
              "'AIML-Module-5'"
            ],
            "application/vnd.google.colaboratory.intrinsic+json": {
              "type": "string"
            }
          },
          "metadata": {},
          "execution_count": 19
        }
      ]
    },
    {
      "cell_type": "markdown",
      "metadata": {
        "id": "gBQFDzhCbmeo"
      },
      "source": [
        "## Single Trial (Debug) Run"
      ]
    },
    {
      "cell_type": "code",
      "metadata": {
        "id": "Ilqs8BCwrLTf"
      },
      "source": [
        "# Make our project directory\n",
        "!mkdir -p ./project/"
      ],
      "execution_count": null,
      "outputs": []
    },
    {
      "cell_type": "code",
      "metadata": {
        "id": "9o3beCaMbqk1",
        "colab": {
          "base_uri": "https://localhost:8080/"
        },
        "outputId": "61b805e5-c778-49f0-b6c6-8d9f088c6d52"
      },
      "source": [
        "%%writefile project/environment.yml\n",
        "channels:\n",
        "  - default\n",
        "  - conda-forge\n",
        "  - pytorch\n",
        "dependencies:\n",
        "  - pip>20.1\n",
        "  - python>=3.7,<3.9\n",
        "  - pytorch=1.8.0\n",
        "  - torchtext=0.9\n",
        "  - pip:\n",
        "      - torch==1.8\n",
        "      - transformers==4.11.0\n",
        "      - torchmetrics==0.5.1\n",
        "      - spacy==3.1.3\n",
        "      - pandas==1.3.3\n",
        "      - pytorch_lightning==1.4.8\n",
        "      - azureml-core>=1.31.0\n",
        "      - azureml-mlflow>=1.31.0\n",
        "      - tqdm>=4.59,<4.60\n",
        "      - matplotlib==3.4.3"
      ],
      "execution_count": null,
      "outputs": [
        {
          "output_type": "stream",
          "name": "stdout",
          "text": [
            "Overwriting project/environment.yml\n"
          ]
        }
      ]
    },
    {
      "cell_type": "code",
      "metadata": {
        "id": "b-qG1dCVcCPz",
        "colab": {
          "base_uri": "https://localhost:8080/"
        },
        "outputId": "dd44ff19-52b9-4a9f-fe51-a095ebe6494b"
      },
      "source": [
        "%%writefile project/train.py\n",
        "\n",
        "import sys\n",
        "from pytorch_lightning.callbacks.lr_monitor import LearningRateMonitor\n",
        "import torch\n",
        "import random\n",
        "import pytorch_lightning as pl\n",
        "from pytorch_lightning.callbacks import BaseFinetuning\n",
        "import torchtext\n",
        "import torchmetrics\n",
        "import transformers\n",
        "from torchtext.legacy.data import Field, BucketIterator\n",
        "from torchtext.legacy.datasets import IMDB\n",
        "from transformers import BertTokenizer, BertModel\n",
        "from torchmetrics import Accuracy, MetricCollection\n",
        "from torch import nn\n",
        "import argparse\n",
        "\n",
        "print(\"==\" * 10)\n",
        "print(\"Python version:\", sys.version)\n",
        "print(\"Torch Version:\", torch.__version__)\n",
        "print(\"Pytorch Lightning Version:\", pl.__version__)\n",
        "print(\"torchtext Version:\", torchtext.__version__)\n",
        "print(\"torchmetrics Version:\", torchmetrics.__version__)\n",
        "print(\"transformers Version:\", transformers.__version__)\n",
        "print(\"==\" * 10)\n",
        "\n",
        "SEED = 1924\n",
        "\n",
        "# Define a class to stop training and freeze the current parameters in our model\n",
        "class FreezeBert(BaseFinetuning):\n",
        "    def __init__(self):\n",
        "        super().__init__()\n",
        "\n",
        "    def freeze_before_training(self, pl_module):\n",
        "        self.freeze(pl_module.bert)\n",
        "\n",
        "    def finetune_function(self, pl_module, current_epoch, optimizer, optimizer_idx):\n",
        "        pass\n",
        "\n",
        "# Define our model - similar to before, but different\n",
        "class BertModule(pl.LightningModule):\n",
        "    def __init__(\n",
        "        self,\n",
        "        bert=\"bert-base-uncased\",\n",
        "\n",
        "        # Optimization\n",
        "        batch_size=64,\n",
        "        learning_rate=0.01,\n",
        "        dropout=0.1,\n",
        "        freeze_bert=True,\n",
        "\n",
        "        # Architecture\n",
        "        num_hidden=256,\n",
        "        num_classes=3,\n",
        "        num_layers=2,\n",
        "        bidirectional=True,\n",
        "\n",
        "        # Encoding\n",
        "        max_seq_len=128,\n",
        "    ):\n",
        "        super().__init__()\n",
        "        # Setup bert model and tokenizer\n",
        "        self.bert = BertModel.from_pretrained(bert)\n",
        "        self.tokenizer = BertTokenizer.from_pretrained(bert)\n",
        "\n",
        "        # use simple RNN on bert output\n",
        "        self.rnn = nn.GRU(\n",
        "            self.bert.config.hidden_size,\n",
        "            num_hidden,\n",
        "            num_layers=num_layers,\n",
        "            bidirectional=bidirectional,\n",
        "            batch_first=True,\n",
        "            dropout=dropout,\n",
        "        )\n",
        "\n",
        "        # Score Layer\n",
        "        self.fc = nn.Linear(\n",
        "            num_hidden * 2 if bidirectional else num_hidden, num_classes\n",
        "        )\n",
        "\n",
        "        # Loss\n",
        "        self.loss_fn = nn.CrossEntropyLoss()\n",
        "\n",
        "        # Save Optimizationa and data params\n",
        "        self.dropout = nn.Dropout(dropout)\n",
        "        self.batch_size = batch_size\n",
        "        self.learning_rate = learning_rate\n",
        "        self.freeze_bert = freeze_bert\n",
        "        self.max_seq_len = max_seq_len\n",
        "\n",
        "        # Setup Metrics\n",
        "        metrics = MetricCollection(\n",
        "            [\n",
        "                Accuracy(),\n",
        "            ]\n",
        "        )\n",
        "        self.train_metrics = metrics.clone(prefix=\"train/\")\n",
        "        self.valid_metrics = metrics.clone(prefix=\"val/\")\n",
        "\n",
        "        self.save_hyperparameters()\n",
        "\n",
        "    # Required method\n",
        "    def forward(self, text):\n",
        "        outputs = self.bert.forward(text)\n",
        "        _, hidden = self.rnn(outputs.last_hidden_state)\n",
        "\n",
        "        if self.rnn.bidirectional:\n",
        "            hidden = self.dropout(\n",
        "                torch.cat((hidden[-2, :, :], hidden[-1, :, :]), dim=1)\n",
        "            )\n",
        "        else:\n",
        "            hidden = self.dropout(hidden[-1, :, :])\n",
        "\n",
        "        return self.fc(hidden)\n",
        "\n",
        "    # Required method\n",
        "    def configure_callbacks(self):\n",
        "        cb = super().configure_callbacks()\n",
        "\n",
        "        # Add our FreezeBert() class as a custom callback here\n",
        "        if self.freeze_bert:\n",
        "            cb.append(FreezeBert())\n",
        "\n",
        "        return cb\n",
        "\n",
        "    # Required method\n",
        "    def configure_optimizers(self):\n",
        "\n",
        "        # lambda to turn each value into a T/F value for the filter function\n",
        "        optimizer = torch.optim.Adam(\n",
        "            filter(lambda p: p.requires_grad, self.parameters()), lr=self.learning_rate\n",
        "        )\n",
        "\n",
        "        # define a learning rate scheduler to finely control adjustments\n",
        "        lr_scheduler = {\n",
        "            \"scheduler\": torch.optim.lr_scheduler.ReduceLROnPlateau(\n",
        "                optimizer,\n",
        "                mode=\"min\",\n",
        "                factor=0.1,\n",
        "                cooldown=0,\n",
        "                patience=2,\n",
        "                min_lr=1e-9,\n",
        "            ),\n",
        "            \"monitor\": \"val/loss\",\n",
        "            \"strict\": True,\n",
        "        }\n",
        "\n",
        "        return {\"optimizer\": optimizer, \"lr_scheduler\": lr_scheduler}\n",
        "\n",
        "    # Required method\n",
        "    def training_step(self, batch, batch_index):\n",
        "        text = batch.text\n",
        "        label = batch.label.squeeze()\n",
        "        pred = self.forward(text)\n",
        "        loss = self.loss_fn(pred, label.long())\n",
        "\n",
        "        output = self.train_metrics(pred, label)\n",
        "        self.log_dict(output)\n",
        "        self.log(\"train/loss\", loss)\n",
        "\n",
        "        return loss\n",
        "\n",
        "    # Required method\n",
        "    def validation_step(self, batch, batch_index):\n",
        "        text = batch.text\n",
        "        label = batch.label.squeeze()\n",
        "        pred = self.forward(text)\n",
        "        loss = self.loss_fn(pred, label.long())\n",
        "\n",
        "        output = self.valid_metrics(pred, label)\n",
        "        self.log_dict(output, on_step=False, on_epoch=True)\n",
        "        self.log(\"val/loss\", loss)\n",
        "\n",
        "        return loss\n",
        "\n",
        "    # Getter method - like our previous model\n",
        "    def train_dataloader(self):\n",
        "        return self.train_iter\n",
        "\n",
        "    # Getter method - like our previous model\n",
        "    def val_dataloader(self):\n",
        "        return self.valid_iter\n",
        "\n",
        "    # Not in previous model - useful for keeping everything together in remote trainng\n",
        "    # Includes the steps we did cell-by-cell earlier, but now in one method\n",
        "    # Can be broken up further, into their own class/methods for better organization\n",
        "    # Cleanliness can be very helpful with experimentation\n",
        "    def prepare_data(self) -> None:\n",
        "\n",
        "        tokenizer = self.tokenizer\n",
        "        text_field = Field(\n",
        "            batch_first=True,\n",
        "            use_vocab=False,\n",
        "            tokenize=tokenizer.encode,\n",
        "            include_lengths=False,\n",
        "            init_token=tokenizer.cls_token_id,\n",
        "            eos_token=tokenizer.sep_token_id,\n",
        "            pad_token=tokenizer.pad_token_id,\n",
        "            unk_token=tokenizer.unk_token_id,\n",
        "            fix_length=self.max_seq_len,\n",
        "        )\n",
        "        label_field = Field(dtype=torch.long, batch_first=True)\n",
        "\n",
        "        # this will take a while\n",
        "        trainval, test_data = IMDB.splits(text_field, label_field)\n",
        "        train_data, valid_data = trainval.split(random_state=random.seed(SEED))\n",
        "\n",
        "        print(f\"Number of training examples: {len(train_data)}\")\n",
        "        print(f\"Number of validation examples: {len(valid_data)}\")\n",
        "        print(f\"Number of testing examples: {len(test_data)}\")\n",
        "\n",
        "        label_field.build_vocab(trainval)\n",
        "\n",
        "        self.train_iter, self.valid_iter = BucketIterator.splits(\n",
        "            (train_data, valid_data), batch_size=self.batch_size\n",
        "        )\n",
        "\n",
        "    @classmethod\n",
        "    def model_argparse_args(self, parser: argparse.ArgumentParser):\n",
        "\n",
        "    \"\"\"\n",
        "    could be called inside the environment / docker container. Python + underlying\n",
        "    dependencies are present\n",
        "\n",
        "\n",
        "    python my_first_model.py --learning_rate 0.1 --batch_size 30 ....\n",
        "\n",
        "    \"\"\"\n",
        "\n",
        "        group = parser.add_argument_group(\"Model\")\n",
        "        group.add_argument(\n",
        "            \"--learning_rate\", dest=\"learning_rate\", type=float, default=0.1, help=\"\"\n",
        "        )\n",
        "        group.add_argument(\n",
        "            \"--batch_size\", type=int, dest=\"batch_size\", default=64, help=\"\"\n",
        "        )\n",
        "        group.add_argument(\n",
        "            \"--num_hidden\", type=int, dest=\"num_hidden\", default=256, help=\"\"\n",
        "        )\n",
        "        group.add_argument(\n",
        "            \"--num_layers\", type=int, dest=\"num_layers\", default=2, help=\"\"\n",
        "        )\n",
        "        group.add_argument(\n",
        "            \"--bidirectional\", type=bool, dest=\"bidirectional\", default=True, help=\"\"\n",
        "        )\n",
        "        group.add_argument(\n",
        "            \"--dropout\", type=float, dest=\"dropout\", default=0.1, help=\"\"\n",
        "        )\n",
        "        group.add_argument(\n",
        "            \"--freeze_bert\", type=bool, dest=\"freeze_bert\", default=True, help=\"\"\n",
        "        )\n",
        "        group.add_argument(\n",
        "            \"--bert\", type=str, dest=\"bert\", default=\"bert-base-uncased\", help=\"\"\n",
        "        )\n",
        "        group.add_argument(\n",
        "            \"--max_seq_len\", type=int, dest=\"max_seq_len\", default=128, help=\"\"\n",
        "        )\n",
        "\n",
        "        return parser\n",
        "\n",
        "# Define parser to be used in the model for command line convenience\n",
        "parser = argparse.ArgumentParser()\n",
        "\n",
        "parser.add_argument(\"--azure\", type=bool, dest=\"azure\", default=False, help=\"\")\n",
        "\n",
        "parser = pl.Trainer.add_argparse_args(parser)\n",
        "parser = BertModule.model_argparse_args(parser)\n",
        "\n",
        "args = parser.parse_args()\n",
        "\n",
        "args.gpus = torch.cuda.device_count()\n",
        "args.default_root_dir = \"./outputs/\"\n",
        "\n",
        "trainer = pl.Trainer.from_argparse_args(args)\n",
        "\n",
        "# Instantiate model\n",
        "model = BertModule(\n",
        "    bert=args.bert,\n",
        "    batch_size=args.batch_size,\n",
        "    num_hidden=args.num_hidden,\n",
        "    num_layers=args.num_layers,\n",
        "    bidirectional=args.bidirectional,\n",
        "    learning_rate=args.learning_rate,\n",
        "    dropout=args.dropout,\n",
        "    freeze_bert=args.freeze_bert,\n",
        "    max_seq_len=args.max_seq_len,\n",
        "    num_classes=4,\n",
        ")\n",
        "\n",
        "# If we are running on Azure, setup logger\n",
        "if args.azure:\n",
        "    from azureml.core import Run\n",
        "    from pytorch_lightning.loggers import MLFlowLogger\n",
        "    run = Run.get_context()\n",
        "\n",
        "    logger = MLFlowLogger(\n",
        "        experiment_name=run.experiment.name,\n",
        "        tracking_uri=run.experiment.workspace.get_mlflow_tracking_uri(),\n",
        "    )\n",
        "    logger._run_id = run.id\n",
        "    trainer.logger = logger\n",
        "\n",
        "# If the learning rate is not given as an argument (default argparse == 0), set it\n",
        "if args.learning_rate == 0:\n",
        "    lr_finder = trainer.tuner.lr_find(model)\n",
        "    fig = lr_finder.plot(suggest=True)\n",
        "    model.learning_rate = lr_finder.suggestion()\n",
        "    print(\"new learning rate:\", model.learning_rate)\n",
        "\n",
        "    # If we are running on Azure, setup learning rate finder graph/logger so we can audit\n",
        "    if args.azure:\n",
        "        trainer.logger.experiment.log_figure(run.id, fig, \"lr_finder.png\")\n",
        "        trainer.logger.experiment.log_param(run.id, \"auto_learning_rate\", model.learning_rate)\n",
        "\n",
        "# Add monitor as an additional callback\n",
        "trainer.callbacks.append(LearningRateMonitor(logging_interval=\"step\"))\n",
        "\n",
        "# Train\n",
        "trainer.fit(model)"
      ],
      "execution_count": null,
      "outputs": [
        {
          "output_type": "stream",
          "name": "stdout",
          "text": [
            "Overwriting project/train.py\n"
          ]
        }
      ]
    },
    {
      "cell_type": "code",
      "metadata": {
        "id": "O7lr6tGkblYx"
      },
      "source": [
        "from azureml.core import ScriptRunConfig, RunConfiguration, Experiment, Environment\n",
        "from azureml.core.runconfig import DockerConfiguration\n",
        "from IPython.display import display, Markdown\n",
        "\n",
        "myenv = Environment.from_conda_specification(name=\"myenv\", file_path=\"./project/environment.yml\")\n",
        "myenv.register(workspace=ws)\n",
        "\n",
        "experiment_name = 'module-5-imdb-dbg'\n",
        "experiment = Experiment(workspace=ws, name=experiment_name)\n",
        "\n",
        "run_config = RunConfiguration()\n",
        "\n",
        "run_config.environment = myenv\n",
        "run_config.docker = DockerConfiguration(use_docker=True, shm_size=\"10G\")\n",
        "\n",
        "run_config.target = \"nc6-uswest2\"\n",
        "\n",
        "refresh = 5\n",
        "\n",
        "args = [\n",
        "    # \"--fast_dev_run\", True,\n",
        "    \"--azure\", True,\n",
        "    \"--progress_bar_refresh_rate\", refresh,\n",
        "    \"--flush_logs_every_n_steps\", refresh,\n",
        "    \"--log_every_n_steps\", refresh,\n",
        "    \"--max_epochs\", 16,\n",
        "    \"--learning_rate\", 0,\n",
        "    \"--terminate_on_nan\", 1,\n",
        "]\n",
        "\n",
        "config = ScriptRunConfig(\n",
        "    \"./project\",\n",
        "    script=\"train.py\",\n",
        "    arguments=args,\n",
        ")\n",
        "config.run_config = run_config"
      ],
      "execution_count": null,
      "outputs": []
    },
    {
      "cell_type": "code",
      "metadata": {
        "id": "mFVs-lGUcmMU",
        "colab": {
          "base_uri": "https://localhost:8080/",
          "height": 63
        },
        "outputId": "fb84c613-04a8-4560-d906-0800256d1b5f"
      },
      "source": [
        "run = experiment.submit(config)\n",
        "\n",
        "display(Markdown(f\"\"\"\n",
        "* Experiement: [{run.experiment.name}]({run.experiment.get_portal_url()})\n",
        "* Run: [{run.display_name}]({run.get_portal_url()})\n",
        "\"\"\"))"
      ],
      "execution_count": null,
      "outputs": [
        {
          "output_type": "display_data",
          "data": {
            "text/plain": [
              "<IPython.core.display.Markdown object>"
            ],
            "text/markdown": "\n* Experiement: [module-5-imdb-dbg](https://ml.azure.com/experiments/module-5-imdb-dbg?wsid=/subscriptions/7cd6d59d-0145-4b61-96bb-12f42ca736bd/resourcegroups/IKWork/workspaces/AIML-Module-5&tid=93ce7ccb-1367-4f00-b7b3-ad21ba5cb018)\n* Run: [hungry_rocket_0wm3x9ms](https://ml.azure.com/runs/module-5-imdb-dbg_1647835506_34b40b59?wsid=/subscriptions/7cd6d59d-0145-4b61-96bb-12f42ca736bd/resourcegroups/IKWork/workspaces/AIML-Module-5&tid=93ce7ccb-1367-4f00-b7b3-ad21ba5cb018)\n"
          },
          "metadata": {}
        }
      ]
    },
    {
      "cell_type": "markdown",
      "metadata": {
        "id": "ej2niyoQcsIG"
      },
      "source": [
        "## HyperDrive Run"
      ]
    },
    {
      "cell_type": "code",
      "metadata": {
        "id": "9DZR6hj1ct5N"
      },
      "source": [
        "from azureml.train.hyperdrive import RandomParameterSampling, HyperDriveConfig, choice, PrimaryMetricGoal\n",
        "\n",
        "param_sampling = RandomParameterSampling({\n",
        "    \"num_layers\": choice(2, 3),\n",
        "    \"max_seq_len\": choice(128, 256, 512),\n",
        "    \"bidirectional\": choice(0, 1),\n",
        "})\n",
        "\n",
        "experiment_name = 'module-5-imdb-hyper'\n",
        "experiment = Experiment(workspace=ws, name=experiment_name)\n",
        "hyperdrive_config = HyperDriveConfig(\n",
        "    run_config=config,\n",
        "    hyperparameter_sampling=param_sampling,\n",
        "    policy=None,\n",
        "    primary_metric_goal=PrimaryMetricGoal.MAXIMIZE,\n",
        "    primary_metric_name='val/Accuracy',\n",
        "    max_concurrent_runs=1,\n",
        "    max_total_runs=18\n",
        ")"
      ],
      "execution_count": null,
      "outputs": []
    },
    {
      "cell_type": "code",
      "metadata": {
        "id": "yQykzc0wcvf9"
      },
      "source": [
        "run = experiment.submit(hyperdrive_config)\n",
        "\n",
        "display(Markdown(f\"\"\"\n",
        "* Experiement: [{run.experiment.name}]({run.experiment.get_portal_url()})\n",
        "* Run: [{run.display_name}]({run.get_portal_url()})\n",
        "\"\"\"))\n"
      ],
      "execution_count": null,
      "outputs": []
    },
    {
      "cell_type": "markdown",
      "metadata": {
        "id": "NJ1icJPOczVd"
      },
      "source": [
        "## Second HyperDrive Run"
      ]
    },
    {
      "cell_type": "code",
      "metadata": {
        "id": "1vVnpoFlcy1G"
      },
      "source": [
        "from azureml.train.hyperdrive import BanditPolicy, HyperDriveRun\n",
        "param_sampling = RandomParameterSampling({\n",
        "    \"num_layers\": choice(3, 4),\n",
        "    \"max_seq_len\": choice(512),\n",
        "    \"bidirectional\": choice(0, 1),\n",
        "    \"freeze_bert\": choice(1, 0),\n",
        "\n",
        "})\n",
        "\n",
        "experiment_name = 'module-5-imdb-hyper'\n",
        "experiment = Experiment(workspace=ws, name=experiment_name)\n",
        "\n",
        "# INSERT A PREVIOUS RUN ID FROM YOUR AZURE RUNS HERE\n",
        "previous_runs = [\"HD_aaaaaaaa-bbbb-cccc-dddd-eeeeeeeeeeee\"]\n",
        "warmstart_parents_to_resume_from = [HyperDriveRun(experiment, r) for r in previous_runs]\n",
        "\n",
        "early_termination_policy = BanditPolicy(slack_factor = 0.1, evaluation_interval=1, delay_evaluation=6)\n",
        "\n",
        "hyperdrive_config = HyperDriveConfig(\n",
        "    run_config=config,\n",
        "    hyperparameter_sampling=param_sampling,\n",
        "    policy=early_termination_policy,\n",
        "    resume_from=warmstart_parents_to_resume_from,\n",
        "    primary_metric_goal=PrimaryMetricGoal.MAXIMIZE,\n",
        "    primary_metric_name='val/Accuracy',\n",
        "    max_concurrent_runs=1,\n",
        "    max_total_runs=18\n",
        ")"
      ],
      "execution_count": null,
      "outputs": []
    },
    {
      "cell_type": "code",
      "metadata": {
        "id": "7VKrD1bTc5Eu"
      },
      "source": [
        "run = experiment.submit(hyperdrive_config)\n",
        "\n",
        "display(Markdown(f\"\"\"\n",
        "* Experiement: [{run.experiment.name}]({run.experiment.get_portal_url()})\n",
        "* Run: [{run.display_name}]({run.get_portal_url()})\n",
        "\"\"\"))\n"
      ],
      "execution_count": null,
      "outputs": []
    },
    {
      "cell_type": "code",
      "source": [],
      "metadata": {
        "id": "BeV3zMK05f88"
      },
      "execution_count": null,
      "outputs": []
    }
  ]
}